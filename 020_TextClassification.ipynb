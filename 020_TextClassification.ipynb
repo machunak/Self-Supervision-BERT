{
 "cells": [
  {
   "cell_type": "markdown",
   "metadata": {
    "id": "zcj6HKTdhN9I"
   },
   "source": [
    "<a href=\"https://www.nvidia.com/dli\"> <img src=\"images/DLI_Header.png\" alt=\"Header\" style=\"width: 400px;\"/> </a>"
   ]
  },
  {
   "cell_type": "markdown",
   "metadata": {
    "id": "Io6D_GoohN9J"
   },
   "source": [
    "# 2.0 텍스트 분류자(Text Classifier) 구축하기\n",
    "\n",
    "<img style=\"float: right;\" src=\"images/nemo/nemo-app-stack.png\" width=400>\n",
    "\n",
    "이 노트북에서는 의학적 질병 abstract를 각각 암 질환, 신경 질환 및 장애, 그리고 기타의 세가지 분류 중 하나로 분류할 수 있는 애플리케이션을 구축해 봅니다. 여러분은 [NVIDIA NeMo](https://developer.nvidia.com/nvidia-nemo) (Neural Modules)을 활용하여 커맨드 라인에서 문제를 신속하게 설정하는 방법을 배워볼 예정입니다.  \n",
    "\n",
    "**[2.1 NeMo 개요](#2.1-NeMo-개요)**<br>\n",
    "&nbsp;&nbsp;&nbsp;&nbsp;[2.1.1 NeMo 모델](#2.1.1-NeMo-모델)<br>\n",
    "**[2.2 커맨드 라인에서의 텍스트 분류](#2.2-커맨드-라인에서의-텍스트-분류)**<br>\n",
    "&nbsp;&nbsp;&nbsp;&nbsp;[2.2.1 데이터 준비하기](#2.2.1-데이터-준비하기)<br>\n",
    "&nbsp;&nbsp;&nbsp;&nbsp;[2.2.2 환경 설정 파일(Configuration File)](#2.2.2-환경-설정-파일(Configuration-File))<br>\n",
    "&nbsp;&nbsp;&nbsp;&nbsp;&nbsp;&nbsp;&nbsp;&nbsp;[2.2.2.1 OmegaConf 도구](#2.2.2.1-OmegaConf-도구)<br>\n",
    "&nbsp;&nbsp;&nbsp;&nbsp;[2.2.3 Hydra-Enabled Python 스크립트](#2.2.3-Hydra-Enabled-Python-스크립트)<br>\n",
    "&nbsp;&nbsp;&nbsp;&nbsp;[2.2.4 예제: Experiment 수행하기](#2.2.4-예제:-Experiment-수행하기)<br>\n",
    "&nbsp;&nbsp;&nbsp;&nbsp;[2.2.5 TensorBoard로 결과 시각화하기](#2.2.5-TensorBoard로-결과-시각화하기)<br>\n",
    "&nbsp;&nbsp;&nbsp;&nbsp;[2.2.6 예제: 언어 모델 변경하기](#2.2.6-예제:-언어-모델-변경하기)<br>\n",
    "**[2.3 PyTorch Lightning 모델과 Trainer 워크플로우](#2.3-PyTorch-Lightning-모델과-Trainer-워크플로우)**<br>\n",
    "&nbsp;&nbsp;&nbsp;&nbsp;[2.3.1 스크립트 주요 특징](#2.3.1-스크립트-주요-특징)<br>\n",
    "&nbsp;&nbsp;&nbsp;&nbsp;[2.3.2 처음(Scratch)부터 모델 트레이닝 하기](#2.3.2-처음(Scratch)부터-모델-트레이닝-하기)<br>\n",
    "&nbsp;&nbsp;&nbsp;&nbsp;[2.3.3 예제: 모델 질의하기](#2.3.3-예제:-모델-질의하기)<br>\n"
   ]
  },
  {
   "cell_type": "markdown",
   "metadata": {
    "id": "XAHHyZiGhN9L"
   },
   "source": [
    "---\n",
    "# 2.1 NeMo 개요\n",
    "NeMo는 대화형 AI 애플리케이션을 구축하기 위한 오플 소스 툴킷입니다. NeMo는 [Neural Modules](https://docs.nvidia.com/deeplearning/nemo/user-guide/docs/en/stable/core/core.html#neural-modules)을 중심으로 구축되어, 유형화된 입력을 받아 유형화된 아웃풋으로 생성하는 뉴럴 네트워크의 개념 블록(conceptual blocks)으로 되어 있습니다. 이러한 모듈은 일반정으로 데이터 레이어, 인코더, 디코더, 언어 모델, 손실 함수, 또는 결합된 액티베이션 방법들을 나타냅니다. NeMo는 이러한 빌딩 블록들을 결합하고 재사용하기 쉽게 만들어주면서 Neural Type 시스템을 통해 의미론적 정확도 검사(a level of semantic correctness checking)를 제공합니다.\n",
    "\n",
    "NeMo 딥 러닝 프레임워크는 뉴럴 네트워크 트레이닝을 위한 PyTorch 코드를 정리한 Pytorch wrapper인 [Pytorch Lightning](https://github.com/PyTorchLightning/pytorch-lightning)에 기반되어 있습니다. PyTorch Lightning은 쉽고 고성능의 멀티-GPU/멀티-노트 혼합 정밀 트레이닝(mixed precision training) 옵션을 제공합니다. 딥 뉴럴 네트워크 프로젝트 또는 **experiment(실험)**을 만들려면, 두 가지 주요 구성 요소가 필요합니다.:\n",
    "1. [LightningModule(라이트닝모듈)](https://pytorch-lightning.readthedocs.io/en/stable/common/lightning_module.html)\n",
    "2. [Trainer(트레이너)](https://pytorch-lightning.readthedocs.io/en/stable/common/trainer.html)\n",
    "\n",
    "_LightningModule(라이트닝모듈)_ 은 트레이닝, 유효성 검사, 테스트를 위한 연산, 옵티마이저, 루프 문으로 PyTorch 코드로 구성하는데 활용합니다. 이 추상화 기법은 딥 러닝 실험을 이해하고 재생산하기 더 쉽게 만들어 줍니다. \n",
    "\n",
    "그리고 _Trainer(트레이너)_ 는 LightningModule(라이트닝모듈)을 가지고 올 수 있으며 딥 러닝 트레이닝을 위해 필요한 모든 것을 자동화할 수 있습니다. "
   ]
  },
  {
   "cell_type": "markdown",
   "metadata": {
    "id": "vKI1gXCZhN9M"
   },
   "source": [
    "## 2.1.1 NeMo 모델\n",
    "\n",
    "[NeMo 모델](https://docs.nvidia.com/deeplearning/nemo/user-guide/docs/en/stable/core/core.html#)은 트레이닝과 재현성을 위한 모든 지원 인프라를 갖춘 LightningModules(라이트닝모듈) 입니다. 여기에는 딥 러닝 모델 아키텍처, 데이터 사전 처리, 옵티마이저, 체크포인트와 실험 로깅 기능이 포함됩니다. NeMo 모델은 라이트닝모듈과 같이 PyTorch 모듈이며 더 넓은 PyTorch 생태계와 완벽하게 호환됩니다. 어떤 NeMo model도 모든 PyTorch 워크플로우에 연결할 수 있습니다.   \n",
    "\n",
    "**모든 NeMo 모델의 예제 Configuration 파일과 트레이닝 스크립트는 다음 [NVIDIA NeMo GitHub Repo](https://github.com/NVIDIA/NeMo/tree/main/examples)에서 찾을 수 있습니다.**\n",
    "\n",
    "이번 수업을 위해서, [NGC NeMo container](https://ngc.nvidia.com/catalog/containers/nvidia:nemo)에 기반한 실습 환경에 포함된 로컬 repo 복사본를 이용할 계획이며 NLP 모델에 집중합니다. 다음 셀을 실행하여 `examples/nlp` 디렉토리에 있는 NeMo 모델 트리를 확인합니다. "
   ]
  },
  {
   "cell_type": "code",
   "execution_count": 12,
   "metadata": {
    "id": "2MDzVhSShN9N",
    "tags": []
   },
   "outputs": [
    {
     "name": "stdout",
     "output_type": "stream",
     "text": [
      "\u001b[01;34mnemo/examples/nlp\u001b[00m\n",
      "├── \u001b[01;34mdialogue_state_tracking\u001b[00m\n",
      "│   ├── \u001b[01;34mconf\u001b[00m\n",
      "│   └── sgd_qa.py\n",
      "├── \u001b[01;34mentity_linking\u001b[00m\n",
      "│   ├── build_index.py\n",
      "│   ├── \u001b[01;34mconf\u001b[00m\n",
      "│   ├── \u001b[01;34mdata\u001b[00m\n",
      "│   ├── query_index.py\n",
      "│   └── self_alignment_pretraining.py\n",
      "├── \u001b[01;34mglue_benchmark\u001b[00m\n",
      "│   ├── glue_benchmark.py\n",
      "│   └── glue_benchmark_config.yaml\n",
      "├── \u001b[01;34minformation_retrieval\u001b[00m\n",
      "│   ├── bert_dpr.py\n",
      "│   ├── bert_joint_ir.py\n",
      "│   ├── \u001b[01;34mconf\u001b[00m\n",
      "│   ├── construct_random_negatives.py\n",
      "│   └── get_msmarco.sh\n",
      "├── \u001b[01;34mintent_slot_classification\u001b[00m\n",
      "│   ├── \u001b[01;34mconf\u001b[00m\n",
      "│   ├── \u001b[01;34mdata\u001b[00m\n",
      "│   └── intent_slot_classification.py\n",
      "├── \u001b[01;34mlanguage_modeling\u001b[00m\n",
      "│   ├── bert_pretraining.py\n",
      "│   ├── \u001b[01;34mconf\u001b[00m\n",
      "│   ├── convert_weights_to_nemo1.0.py\n",
      "│   ├── get_wkt2.sh\n",
      "│   └── transformer_lm.py\n",
      "├── \u001b[01;34mmachine_translation\u001b[00m\n",
      "│   ├── \u001b[01;34mconf\u001b[00m\n",
      "│   ├── create_tarred_monolingual_dataset.py\n",
      "│   ├── create_tarred_parallel_dataset.py\n",
      "│   ├── enc_dec_nmt.py\n",
      "│   ├── nmt_transformer_infer.py\n",
      "│   ├── \u001b[01;34mnmt_webapp\u001b[00m\n",
      "│   ├── preprocess_dataset.py\n",
      "│   └── translate_ddp.py\n",
      "├── \u001b[01;34mquestion_answering\u001b[00m\n",
      "│   ├── \u001b[01;34mconf\u001b[00m\n",
      "│   ├── \u001b[01;32mget_squad.py\u001b[00m\n",
      "│   └── question_answering_squad.py\n",
      "├── \u001b[01;34mtext2sparql\u001b[00m\n",
      "│   ├── \u001b[01;34mconf\u001b[00m\n",
      "│   ├── \u001b[01;34mdata\u001b[00m\n",
      "│   ├── evaluate_text2sparql.py\n",
      "│   └── text2sparql.py\n",
      "├── \u001b[01;34mtext_classification\u001b[00m\n",
      "│   ├── \u001b[01;34mconf\u001b[00m\n",
      "│   ├── \u001b[01;34mdata\u001b[00m\n",
      "│   ├── model_parallel_text_classification_evaluation.py\n",
      "│   └── text_classification_with_bert.py\n",
      "└── \u001b[01;34mtoken_classification\u001b[00m\n",
      "    ├── \u001b[01;34mconf\u001b[00m\n",
      "    ├── \u001b[01;34mdata\u001b[00m\n",
      "    ├── punctuation_capitalization_evaluate.py\n",
      "    ├── punctuation_capitalization_train.py\n",
      "    ├── token_classification_evaluate.py\n",
      "    └── token_classification_train.py\n",
      "\n",
      "27 directories, 31 files\n"
     ]
    }
   ],
   "source": [
    "!tree nemo/examples/nlp -L 2"
   ]
  },
  {
   "cell_type": "markdown",
   "metadata": {
    "id": "6XmWbQVLhN9O"
   },
   "source": [
    "클래식한 NLP 태스크를 다루는 여러 모델이 있습니다. 이번 노트북에서는 [텍스트 분류](https://docs.nvidia.com/deeplearning/nemo/user-guide/docs/en/stable/nlp/text_classification.html)에 대해 초점을 맞출 예정이며, 다음에 있을 명명된 엔티티 인식(NER) 노트북에서는 [토큰 분류](https://docs.nvidia.com/deeplearning/nemo/user-guide/docs/en/stable/nlp/token_classification.html) 을 중심으로 실습을 진행할 예정입니다. \n",
    "\n",
    "각각의 NeMo 모델 타입은 환경 구성 파일에 대한 `conf` 폴더와 하나 이상의 Python 트레이닝 스크립트 파일을 포함하고 있습니다. \n",
    "\n",
    "텍스트 분류에 대한 자세한 내용을 보려면 다음 셀을 실행하십시오:"
   ]
  },
  {
   "cell_type": "code",
   "execution_count": 13,
   "metadata": {
    "id": "S1F1xJVqhN9P"
   },
   "outputs": [
    {
     "name": "stdout",
     "output_type": "stream",
     "text": [
      "\u001b[01;34m/dli/task/nemo/examples/nlp/text_classification\u001b[00m\n",
      "├── \u001b[01;34mconf\u001b[00m\n",
      "│   └── text_classification_config.yaml\n",
      "├── \u001b[01;34mdata\u001b[00m\n",
      "│   └── import_datasets.py\n",
      "├── model_parallel_text_classification_evaluation.py\n",
      "└── text_classification_with_bert.py\n",
      "\n",
      "2 directories, 4 files\n"
     ]
    }
   ],
   "source": [
    "TC_DIR = \"/dli/task/nemo/examples/nlp/text_classification\"\n",
    "!tree $TC_DIR"
   ]
  },
  {
   "cell_type": "markdown",
   "metadata": {
    "id": "KxAInnTlhN9Q"
   },
   "source": [
    "환경 파일 `text_classification_config.yaml`에서는 파일 위치, 사전 훈련된 모델, 하이퍼 파라미터와 같은 모델, 트레이닝, 실험 관리를 위한 세부 정보를 지정합니다. \n",
    "\n",
    "Python 스크립트 `text_classification_with_bert.py`는 환경 파일에서 정의된 텍스트 분류 실험을 진행하는데 필요한 모든 것을 캡슐화하고 있습니다. Configuration(환경 설정) 관리를 위해 페이스북의 [Hydra](https://hydra.cc/) 도구를 사용하여 커맨드 라인 옵션을 사용하여 구성 값을 재정의할 수 있도록 하여 스크립트와 함께 전체 실험을 진행할수 있도록 합니다!\n",
    "\n",
    "실험을 신속하게 구축하는 비결은 기본 구성 파일에 포함된 내용과 여러분의 프로젝트를 위해 변경해야하는 내용을 정확히 이해하는 것입니다. "
   ]
  },
  {
   "cell_type": "markdown",
   "metadata": {
    "id": "I26ENF7hhN9R"
   },
   "source": [
    "---\n",
    "# 2.2 커맨드 라인에서의 텍스트 분류\n",
    "저희가 이번 실습에서 답변하고자 하는 질문은 다음과 같습니다.: \n",
    "\n",
    "**주어진 의학적 질병에 대한 Abstract는 암에 대한 것인가요? 아니면 신경 장애에 관련된 것인가요? 아니면 그 외의 것인가요?**\n",
    "\n",
    "이 것은 3개의 등급 텍스트 분류 문제 입니다. 우리는 NeMo [텍스트 분류 모델](https://docs.nvidia.com/deeplearning/nemo/user-guide/docs/en/stable/nlp/text_classification.html) 을 3가지 클래스(레이블) 로 활용할 예정입니다. - \"cancer - 암\" (0), \"neurological disorders - 신경 장애\" (1), and \"other -기타\" (2) "
   ]
  },
  {
   "cell_type": "markdown",
   "metadata": {
    "id": "ysiqEJDOhN9R"
   },
   "source": [
    "## 2.2.1 데이터 준비하기\n",
    "여러분은 이미 [NCBI-질병 코퍼스](https://www.ncbi.nlm.nih.gov/CBBresearch/Dogan/DISEASE/)와 [데이터 살펴보기](010_ExploreData.ipynb) 노트북으로부터 텍스트 분류 데이터 세트를 살펴보았습니다. 탭으로 구분된 abstracts와 레이블  헤더 행으로 되어 있는 텍스트 분류 파일을 기억해보세요."
   ]
  },
  {
   "cell_type": "code",
   "execution_count": 14,
   "metadata": {
    "id": "qBKW2oXNhN9S"
   },
   "outputs": [
    {
     "name": "stdout",
     "output_type": "stream",
     "text": [
      "/dli/task/data/NCBI_tc-3/dev.tsv\n",
      "/dli/task/data/NCBI_tc-3/dev_nemo_format.tsv\n",
      "/dli/task/data/NCBI_tc-3/test.tsv\n",
      "/dli/task/data/NCBI_tc-3/test_nemo_format.tsv\n",
      "/dli/task/data/NCBI_tc-3/train.tsv\n",
      "/dli/task/data/NCBI_tc-3/train_nemo_format.tsv\n"
     ]
    }
   ],
   "source": [
    "TC3_DATA_DIR = '/dli/task/data/NCBI_tc-3'\n",
    "!ls $TC3_DATA_DIR/*.tsv"
   ]
  },
  {
   "cell_type": "code",
   "execution_count": 15,
   "metadata": {
    "id": "BsrvbT-MhN9T",
    "scrolled": true,
    "tags": []
   },
   "outputs": [
    {
     "name": "stdout",
     "output_type": "stream",
     "text": [
      "*****\n",
      "train.tsv sample\n",
      "*****\n",
      "sentence\tlabel\n",
      "Identification of APC2, a homologue of the adenomatous polyposis coli tumour suppressor . The adenomatous polyposis coli ( APC ) tumour-suppressor protein controls the Wnt signalling pathway by forming a complex with glycogen synthase kinase 3beta ( GSK-3beta ) , axin / conductin and betacatenin . Complex formation induces the rapid degradation of betacatenin . In colon carcinoma cells , loss of APC leads to the accumulation of betacatenin in the nucleus , where it binds to and activates the Tcf-4 transcription factor ( reviewed in [ 1 ] [ 2 ] ) . Here , we report the identification and genomic structure of APC homologues . Mammalian APC2 , which closely resembles APC in overall domain structure , was functionally analyzed and shown to contain two SAMP domains , both of which are required for binding to conductin . Like APC , APC2 regulates the formation of active betacatenin-Tcf complexes , as demonstrated using transient transcriptional activation assays in APC - / - colon carcinoma cells . Human APC2 maps to chromosome 19p13 . 3 . APC and APC2 may therefore have comparable functions in development and cancer .\t0\n",
      "A common MSH2 mutation in English and North American HNPCC families: origin, phenotypic expression, and sex specific differences in colorectal cancer . The frequency , origin , and phenotypic expression of a germline MSH2 gene mutation previously identified in seven kindreds with hereditary non-polyposis cancer syndrome (HNPCC) was investigated . The mutation ( A-- > T at nt943 + 3 ) disrupts the 3 splice site of exon 5 leading to the deletion of this exon from MSH2 mRNA and represents the only frequent MSH2 mutation so far reported . Although this mutation was initially detected in four of 33 colorectal cancer families analysed from eastern England , more extensive analysis has reduced the frequency to four of 52 ( 8 % ) English HNPCC kindreds analysed . In contrast , the MSH2 mutation was identified in 10 of 20 ( 50 % ) separately identified colorectal families from Newfoundland . To investigate the origin of this mutation in colorectal cancer families from England ( n = 4 ) , Newfoundland ( n = 10 ) , and the United States ( n = 3 ) , haplotype analysis using microsatellite markers linked to MSH2 was performed . Within the English and US families there was little evidence for a recent common origin of the MSH2 splice site mutation in most families . In contrast , a common haplotype was identified at the two flanking markers ( CA5 and D2S288 ) in eight of the Newfoundland families . These findings suggested a founder effect within Newfoundland similar to that reported by others for two MLH1 mutations in Finnish HNPCC families . We calculated age related risks of all , colorectal , endometrial , and ovarian cancers in nt943 + 3 A-- > T MSH2 mutation carriers ( n = 76 ) for all patients and for men and women separately . For both sexes combined , the penetrances at age 60 years for all cancers  and for colorectal cancer were 0 . 86 and 0 . 57 , respectively . The risk of colorectal cancer was significantly higher ( p < 0 . 01 ) in males than females ( 0 . 63 v 0 . 30 and 0 . 84 v 0 . 44 at ages 50 and 60 years , respectively ) . For females there was a high risk of endometrial cancer ( 0 . 5 at age 60 years ) and premenopausal ovarian cancer ( 0 . 2 at 50 years ) . These intersex differences in colorectal cancer risks have implications for screening programmes and for attempts to identify colorectal cancer susceptibility modifiers .\t0\n",
      "\n",
      "\n",
      "*****\n",
      "dev.tsv sample\n",
      "*****\n",
      "sentence\tlabel\n",
      "BRCA1 is secreted and exhibits properties of a granin. Germline mutations in BRCA1 are responsible for most cases of inherited breast and ovarian cancer . However , the function of the BRCA1 protein has remained elusive . We now show that BRCA1 encodes a 190-kD protein with sequence homology and biochemical analogy to the granin protein family . Interestingly , BRCA2 also includes a motif similar to the granin consensus at the C terminus of the protein . Both BRCA1 and the granins localize to secretory vesicles , are secreted by a regulated pathway , are post-translationally glycosylated and are responsive to hormones . As a regulated secretory protein , BRCA1 appears to function by a mechanism not previously described for tumour suppressor gene products . . \t0\n",
      "Ovarian cancer risk in BRCA1 carriers is modified by the HRAS1 variable number of tandem repeat (VNTR) locus. Women who carry a mutation in the BRCA1 gene ( on chromosome 17q21 ) , have an 80 % risk of breast cancer and a 40 % risk of ovarian cancer by the age of 70 ( ref . 1 ) . The variable penetrance of BRCA1 suggests that other genetic and non-genetic factors play a role in tumourigenesis in these individuals . The HRAS1 variable number of tandem repeats ( VNTR ) polymorphism , located 1 kilobase ( kb ) downstream of the HRAS1 proto-oncogene ( chromosome 11p15 . 5 ) is one possible genetic modifier of cancer penetrance . Individuals who have rare alleles of the VNTR have an increased risk of certain types of cancers , including breast cancer ( 2-4 ) . To investigate whether the presence of rare HRAS1 alleles increases susceptibility to hereditary breast and ovarian cancer , we have typed a panel of 307 female BRCA1 carriers at this locus using a PCR-based technique . The risk for ovarian cancer was 2 . 11 times greater for BRCA1 carriers harbouring one or two rare HRAS1 alleles , compared to carriers with only common alleles ( P = 0 . 015 ) . The magnitude of the relative risk associated with a rare HRAS1 allele was not altered by adjusting for the other known risk factors for hereditary ovarian cancer ( 5 ) . Susceptibility to breast cancer did not appear to be affected by the presence of rare HRAS1 alleles . This study is the first to show the effect of a modifying gene on the penetrance of an inherited cancer syndrome \t0\n",
      "\n",
      "\n",
      "*****\n",
      "test.tsv sample\n",
      "*****\n",
      "sentence\tlabel\n",
      "Clustering of missense mutations in the ataxia-telangiectasia gene in a sporadic T-cell leukaemia. Ataxia-telangiectasia ( A-T ) is a recessive multi-system disorder caused by mutations in the ATM gene at 11q22-q23 ( ref . 3 ) . The risk of cancer , especially lymphoid neoplasias , is substantially elevated in A-T patients and has long been associated with chromosomal instability . By analysing tumour DNA from patients with sporadic T-cell prolymphocytic leukaemia ( T-PLL ) , a rare clonal malignancy with similarities to a mature T-cell leukaemia seen in A-T , we demonstrate a high frequency of ATM mutations in T-PLL . In marked contrast to the ATM mutation pattern in A-T , the most frequent nucleotide changes in this leukaemia were missense mutations . These clustered in the region corresponding to the kinase domain , which is highly conserved in ATM-related proteins in mouse , yeast and Drosophila . The resulting amino-acid substitutions are predicted to interfere with ATP binding or substrate recognition . Two of seventeen mutated T-PLL samples had a previously reported A-T allele . In contrast , no mutations were detected in the p53 gene , suggesting that this tumour suppressor is not frequently altered in this leukaemia . Occasional missense mutations in ATM were also found in tumour DNA from patients with B-cell non-Hodgkins lymphomas ( B-NHL ) and a B-NHL cell line . The evidence of a significant proportion of loss-of-function mutations and a complete absence of the normal copy of ATM in the majority of mutated tumours establishes somatic inactivation of this gene in the pathogenesis of sporadic T-PLL and suggests that ATM acts as a tumour suppressor . As constitutional DNA was not available , a putative hereditary predisposition to T-PLL will require further investigation . . \t0\n",
      "Myotonic dystrophy protein kinase is involved in the modulation of the Ca2+ homeostasis in skeletal muscle cells. Myotonic dystrophy ( DM ) , the most prevalent muscular disorder in adults , is caused by ( CTG ) n-repeat expansion in a gene encoding a protein kinase ( DM protein kinase ; DMPK ) and involves changes in cytoarchitecture and ion homeostasis . To obtain clues to the normal biological role of DMPK in cellular ion homeostasis , we have compared the resting [ Ca2 + ] i , the amplitude and shape of depolarization-induced Ca2 + transients , and the content of ATP-driven ion pumps in cultured skeletal muscle cells of wild-type and DMPK [ - / - ] knockout mice . In vitro-differentiated DMPK [ - / - ] myotubes exhibit a higher resting [ Ca2 + ] i than do wild-type myotubes because of an altered open probability of voltage-dependent l-type Ca2 + and Na + channels . The mutant myotubes exhibit smaller and slower Ca2 + responses upon triggering by acetylcholine or high external K + . In addition , we observed that these Ca2 + transients partially result from an influx of extracellular Ca2 + through the l-type Ca2 + channel . Neither the content nor the activity of Na + / K + ATPase and sarcoplasmic reticulum Ca2 + -ATPase are affected by DMPK absence . In conclusion , our data suggest that DMPK is involved in modulating the initial events of excitation-contraction coupling in skeletal muscle . . \t1\n"
     ]
    }
   ],
   "source": [
    "# Take a look at the tab separated data\n",
    "print(\"*****\\ntrain.tsv sample\\n*****\")\n",
    "!head -n 3 $TC3_DATA_DIR/train.tsv\n",
    "print(\"\\n\\n*****\\ndev.tsv sample\\n*****\")\n",
    "!head -n 3 $TC3_DATA_DIR/dev.tsv\n",
    "print(\"\\n\\n*****\\ntest.tsv sample\\n*****\")\n",
    "!head -n 3 $TC3_DATA_DIR/test.tsv"
   ]
  },
  {
   "cell_type": "markdown",
   "metadata": {
    "id": "_W2Z4iMVhN9T"
   },
   "source": [
    "\n",
    "데이터의 몇 가지 기능을 참고하세요:\n",
    "* 사전 처리된 데이터는 [documentation](https://docs.nvidia.com/deeplearning/nemo/user-guide/docs/en/stable/nlp/text_classification.html)에 지정된 형식과 같이 이미 아래처럼 되어있습니다. \n",
    "\n",
    "   ```\n",
    "   [WORD][SPACE][WORD][SPACE][WORD][TAB][LABEL]\n",
    "   ``` \n",
    "  \n",
    "* 헤더 행에는 \"문장 레이블(sentence label)\"이 있으며 제거되어야 합니다. \n",
    "* 텍스트가 상당히 길기 때문에 `max_seq_length` 값을 트레이닝 시 고려해야 합니다.\n",
    "\n",
    "헤더 행을 제거하는 것부터 시작해 보세요. 이 작업을 수행하는 방법은 여러 가지가 있지만 간단한 변경 작업이므로 우리는 bash 스트림 에디터(`sed`) 명령어를 활용할 수 있습니다."
   ]
  },
  {
   "cell_type": "code",
   "execution_count": 16,
   "metadata": {
    "id": "scf_JLxJhN9U"
   },
   "outputs": [],
   "source": [
    "!sed 1d $TC3_DATA_DIR/train.tsv > $TC3_DATA_DIR/train_nemo_format.tsv\n",
    "!sed 1d $TC3_DATA_DIR/dev.tsv > $TC3_DATA_DIR/dev_nemo_format.tsv\n",
    "!sed 1d $TC3_DATA_DIR/test.tsv > $TC3_DATA_DIR/test_nemo_format.tsv"
   ]
  },
  {
   "cell_type": "code",
   "execution_count": 17,
   "metadata": {
    "id": "EszVGGuahN9U",
    "scrolled": true,
    "tags": []
   },
   "outputs": [
    {
     "name": "stdout",
     "output_type": "stream",
     "text": [
      "*****\n",
      "train_nemo_format.tsv sample\n",
      "*****\n",
      "Identification of APC2, a homologue of the adenomatous polyposis coli tumour suppressor . The adenomatous polyposis coli ( APC ) tumour-suppressor protein controls the Wnt signalling pathway by forming a complex with glycogen synthase kinase 3beta ( GSK-3beta ) , axin / conductin and betacatenin . Complex formation induces the rapid degradation of betacatenin . In colon carcinoma cells , loss of APC leads to the accumulation of betacatenin in the nucleus , where it binds to and activates the Tcf-4 transcription factor ( reviewed in [ 1 ] [ 2 ] ) . Here , we report the identification and genomic structure of APC homologues . Mammalian APC2 , which closely resembles APC in overall domain structure , was functionally analyzed and shown to contain two SAMP domains , both of which are required for binding to conductin . Like APC , APC2 regulates the formation of active betacatenin-Tcf complexes , as demonstrated using transient transcriptional activation assays in APC - / - colon carcinoma cells . Human APC2 maps to chromosome 19p13 . 3 . APC and APC2 may therefore have comparable functions in development and cancer .\t0\n",
      "A common MSH2 mutation in English and North American HNPCC families: origin, phenotypic expression, and sex specific differences in colorectal cancer . The frequency , origin , and phenotypic expression of a germline MSH2 gene mutation previously identified in seven kindreds with hereditary non-polyposis cancer syndrome (HNPCC) was investigated . The mutation ( A-- > T at nt943 + 3 ) disrupts the 3 splice site of exon 5 leading to the deletion of this exon from MSH2 mRNA and represents the only frequent MSH2 mutation so far reported . Although this mutation was initially detected in four of 33 colorectal cancer families analysed from eastern England , more extensive analysis has reduced the frequency to four of 52 ( 8 % ) English HNPCC kindreds analysed . In contrast , the MSH2 mutation was identified in 10 of 20 ( 50 % ) separately identified colorectal families from Newfoundland . To investigate the origin of this mutation in colorectal cancer families from England ( n = 4 ) , Newfoundland ( n = 10 ) , and the United States ( n = 3 ) , haplotype analysis using microsatellite markers linked to MSH2 was performed . Within the English and US families there was little evidence for a recent common origin of the MSH2 splice site mutation in most families . In contrast , a common haplotype was identified at the two flanking markers ( CA5 and D2S288 ) in eight of the Newfoundland families . These findings suggested a founder effect within Newfoundland similar to that reported by others for two MLH1 mutations in Finnish HNPCC families . We calculated age related risks of all , colorectal , endometrial , and ovarian cancers in nt943 + 3 A-- > T MSH2 mutation carriers ( n = 76 ) for all patients and for men and women separately . For both sexes combined , the penetrances at age 60 years for all cancers  and for colorectal cancer were 0 . 86 and 0 . 57 , respectively . The risk of colorectal cancer was significantly higher ( p < 0 . 01 ) in males than females ( 0 . 63 v 0 . 30 and 0 . 84 v 0 . 44 at ages 50 and 60 years , respectively ) . For females there was a high risk of endometrial cancer ( 0 . 5 at age 60 years ) and premenopausal ovarian cancer ( 0 . 2 at 50 years ) . These intersex differences in colorectal cancer risks have implications for screening programmes and for attempts to identify colorectal cancer susceptibility modifiers .\t0\n",
      "Age of onset in Huntington disease : sex specific influence of apolipoprotein E genotype and normal CAG repeat length . Age of onset ( AO ) of Huntington disease ( HD) is known to be correlated with the length of an expanded CAG repeat in the HD gene . Apolipoprotein E ( APOE ) genotype , in turn , is known to influence AO in Alzheimer disease , rendering the APOE gene a likely candidate to affect AO in other neurological diseases too . We therefore determined APOE genotype and normal CAG repeat length in the HD gene for 138 HD patients who were previously analysed with respect to CAG repeat length . Genotyping for APOE was performed blind to clinical information . In addition to highlighting the effect of the normal repeat length upon AO in maternally inherited HD and in male patients , we show that the APOE epsilon2epsilon3 genotype is associated with significantly earlier AO in males than in females . Such a sex difference in AO was not apparent for any of the other APOE genotypes . Our findings suggest that subtle differences in the course of the neurodegeneration  in HD  may allow interacting genes to exert gender specific effects upon AO.\t1\n",
      "\n",
      "\n",
      "*****\n",
      "dev_nemo_format.tsv sample\n",
      "*****\n",
      "BRCA1 is secreted and exhibits properties of a granin. Germline mutations in BRCA1 are responsible for most cases of inherited breast and ovarian cancer . However , the function of the BRCA1 protein has remained elusive . We now show that BRCA1 encodes a 190-kD protein with sequence homology and biochemical analogy to the granin protein family . Interestingly , BRCA2 also includes a motif similar to the granin consensus at the C terminus of the protein . Both BRCA1 and the granins localize to secretory vesicles , are secreted by a regulated pathway , are post-translationally glycosylated and are responsive to hormones . As a regulated secretory protein , BRCA1 appears to function by a mechanism not previously described for tumour suppressor gene products . . \t0\n",
      "Ovarian cancer risk in BRCA1 carriers is modified by the HRAS1 variable number of tandem repeat (VNTR) locus. Women who carry a mutation in the BRCA1 gene ( on chromosome 17q21 ) , have an 80 % risk of breast cancer and a 40 % risk of ovarian cancer by the age of 70 ( ref . 1 ) . The variable penetrance of BRCA1 suggests that other genetic and non-genetic factors play a role in tumourigenesis in these individuals . The HRAS1 variable number of tandem repeats ( VNTR ) polymorphism , located 1 kilobase ( kb ) downstream of the HRAS1 proto-oncogene ( chromosome 11p15 . 5 ) is one possible genetic modifier of cancer penetrance . Individuals who have rare alleles of the VNTR have an increased risk of certain types of cancers , including breast cancer ( 2-4 ) . To investigate whether the presence of rare HRAS1 alleles increases susceptibility to hereditary breast and ovarian cancer , we have typed a panel of 307 female BRCA1 carriers at this locus using a PCR-based technique . The risk for ovarian cancer was 2 . 11 times greater for BRCA1 carriers harbouring one or two rare HRAS1 alleles , compared to carriers with only common alleles ( P = 0 . 015 ) . The magnitude of the relative risk associated with a rare HRAS1 allele was not altered by adjusting for the other known risk factors for hereditary ovarian cancer ( 5 ) . Susceptibility to breast cancer did not appear to be affected by the presence of rare HRAS1 alleles . This study is the first to show the effect of a modifying gene on the penetrance of an inherited cancer syndrome \t0\n",
      "A novel homeodomain-encoding gene is associated with a large CpG island interrupted by the myotonic dystrophy unstable (CTG)n repeat. Myotonic dystrophy ( DM ) is associated with a ( CTG ) n trinucleotide repeat expansion in the 3-untranslated region of a protein kinase-encoding gene , DMPK , which maps to chromosome 19q13 . 3 . Characterisation of the expression of this gene in patient tissues has thus far generated conflicting data on alterations in the steady state levels of DMPK mRNA , and on the final DMPK protein levels in the presence of the expansion . The DM region of chromosome 19 is gene rich , and it is possible that the repeat expansion may lead to dysfunction of a number of transcription units in the vicinity , perhaps as a consequence of chromatin disruption . We have searched for genes associated with a CpG island at the 3 end of DMPK . Sequencing of this region shows that the island extends over 3 . 5 kb and is interrupted by the ( CTG ) n repeat . Comparison of genomic sequences downstream ( centromeric ) of the repeat in human and mouse identified regions of significant homology . These correspond to exons of a gene predicted to encode a homeodomain protein . RT-PCR analysis shows that this gene , which we have called DM locus-associated homeodomain protein ( DMAHP ) , is expressed in a number of human tissues , including skeletal muscle , heart and brain .\t1\n",
      "\n",
      "\n",
      "*****\n",
      "test_nemo_format.tsv sample\n",
      "*****\n",
      "Clustering of missense mutations in the ataxia-telangiectasia gene in a sporadic T-cell leukaemia. Ataxia-telangiectasia ( A-T ) is a recessive multi-system disorder caused by mutations in the ATM gene at 11q22-q23 ( ref . 3 ) . The risk of cancer , especially lymphoid neoplasias , is substantially elevated in A-T patients and has long been associated with chromosomal instability . By analysing tumour DNA from patients with sporadic T-cell prolymphocytic leukaemia ( T-PLL ) , a rare clonal malignancy with similarities to a mature T-cell leukaemia seen in A-T , we demonstrate a high frequency of ATM mutations in T-PLL . In marked contrast to the ATM mutation pattern in A-T , the most frequent nucleotide changes in this leukaemia were missense mutations . These clustered in the region corresponding to the kinase domain , which is highly conserved in ATM-related proteins in mouse , yeast and Drosophila . The resulting amino-acid substitutions are predicted to interfere with ATP binding or substrate recognition . Two of seventeen mutated T-PLL samples had a previously reported A-T allele . In contrast , no mutations were detected in the p53 gene , suggesting that this tumour suppressor is not frequently altered in this leukaemia . Occasional missense mutations in ATM were also found in tumour DNA from patients with B-cell non-Hodgkins lymphomas ( B-NHL ) and a B-NHL cell line . The evidence of a significant proportion of loss-of-function mutations and a complete absence of the normal copy of ATM in the majority of mutated tumours establishes somatic inactivation of this gene in the pathogenesis of sporadic T-PLL and suggests that ATM acts as a tumour suppressor . As constitutional DNA was not available , a putative hereditary predisposition to T-PLL will require further investigation . . \t0\n",
      "Myotonic dystrophy protein kinase is involved in the modulation of the Ca2+ homeostasis in skeletal muscle cells. Myotonic dystrophy ( DM ) , the most prevalent muscular disorder in adults , is caused by ( CTG ) n-repeat expansion in a gene encoding a protein kinase ( DM protein kinase ; DMPK ) and involves changes in cytoarchitecture and ion homeostasis . To obtain clues to the normal biological role of DMPK in cellular ion homeostasis , we have compared the resting [ Ca2 + ] i , the amplitude and shape of depolarization-induced Ca2 + transients , and the content of ATP-driven ion pumps in cultured skeletal muscle cells of wild-type and DMPK [ - / - ] knockout mice . In vitro-differentiated DMPK [ - / - ] myotubes exhibit a higher resting [ Ca2 + ] i than do wild-type myotubes because of an altered open probability of voltage-dependent l-type Ca2 + and Na + channels . The mutant myotubes exhibit smaller and slower Ca2 + responses upon triggering by acetylcholine or high external K + . In addition , we observed that these Ca2 + transients partially result from an influx of extracellular Ca2 + through the l-type Ca2 + channel . Neither the content nor the activity of Na + / K + ATPase and sarcoplasmic reticulum Ca2 + -ATPase are affected by DMPK absence . In conclusion , our data suggest that DMPK is involved in modulating the initial events of excitation-contraction coupling in skeletal muscle . . \t1\n",
      "Constitutional RB1-gene mutations in patients with isolated unilateral retinoblastoma. In most patients with isolated unilateral retinoblastoma , tumor development is initiated by somatic inactivation of both alleles of the RB1 gene . However , some of these patients can transmit retinoblastoma predisposition to their offspring . To determine the frequency and nature of constitutional RB1-gene mutations in patients with isolated unilateral retinoblastoma , we analyzed DNA from peripheral blood and from tumor tissue . The analysis of tumors from 54 ( 71 % ) of 76 informative patients showed loss of constitutional heterozygosity ( LOH ) at intragenic loci . Three of 13 uninformative patients had constitutional deletions . For 39 randomly selected tumors , SSCP , hetero-duplex analysis , sequencing , and Southern blot analysis were used to identify mutations . Mutations were detected in 21 ( 91 % ) of 23 tumors with LOH . In 6 ( 38 % ) of 16 tumors without LOH , one mutation was detected , and in 9 ( 56 % ) of the tumors without LOH , both mutations were found . Thus , a total of 45 mutations were identified in tumors of 36 patients . Thirty-nine of the mutations-including 34 small mutations , 2 large structural alterations , and hypermethylation in 3 tumors-were not detected in the corresponding peripheral blood DNA . In 6 ( 17 % ) of the 36 patients , a mutation was detected in constitutional DNA , and 1 of these mutations is known to be associated with reduced expressivity . The presence of a constitutional mutation was not associated with an early age at treatment . In 1 patient , somatic mosaicism was demonstrated by molecular analysis of DNA and RNA from peripheral blood . In 2 patients without a detectable mutation in peripheral blood , mosaicism was suggested because 1 of the patients showed multifocal tumors and the other later developed bilateral retinoblastoma . In conclusion , our results emphasize that the manifestation and transmissibility of retinoblastoma depend on the nature of the first mutation , its time in development , and the number and types of cells that are affected . . \t2\n"
     ]
    }
   ],
   "source": [
    "# Take a look at the tab separated data\n",
    "# \"1\" is \"positive\" and \"0\" is \"negative\"\n",
    "print(\"*****\\ntrain_nemo_format.tsv sample\\n*****\")\n",
    "!head -n 3 $TC3_DATA_DIR/train_nemo_format.tsv\n",
    "print(\"\\n\\n*****\\ndev_nemo_format.tsv sample\\n*****\")\n",
    "!head -n 3 $TC3_DATA_DIR/dev_nemo_format.tsv\n",
    "print(\"\\n\\n*****\\ntest_nemo_format.tsv sample\\n*****\")\n",
    "!head -n 3 $TC3_DATA_DIR/test_nemo_format.tsv"
   ]
  },
  {
   "cell_type": "code",
   "execution_count": 18,
   "metadata": {
    "id": "Ps5Aj46nhN9V"
   },
   "outputs": [
    {
     "name": "stdout",
     "output_type": "stream",
     "text": [
      "/dli/task/data/NCBI_tc-3/dev.tsv\n",
      "/dli/task/data/NCBI_tc-3/dev_nemo_format.tsv\n",
      "/dli/task/data/NCBI_tc-3/test.tsv\n",
      "/dli/task/data/NCBI_tc-3/test_nemo_format.tsv\n",
      "/dli/task/data/NCBI_tc-3/train.tsv\n",
      "/dli/task/data/NCBI_tc-3/train_nemo_format.tsv\n"
     ]
    }
   ],
   "source": [
    "TC3_DATA_DIR = '/dli/task/data/NCBI_tc-3'\n",
    "!ls $TC3_DATA_DIR/*.tsv"
   ]
  },
  {
   "cell_type": "markdown",
   "metadata": {
    "id": "Loqcqon9hN9V"
   },
   "source": [
    "## 2.2.2 환경 설정 파일(Configuration File)\n",
    "`text_classification_config.yaml` config 파일을 확인하고 키와 기본 value값을 확인해 봅니다. 특히, 세가지 최상위 키인 `trainer`, `model`,`exp_manager`와 키의 계층 구조를 확인해 두세요.\n",
    "\n",
    "```yaml\n",
    "trainer:\n",
    "  gpus:\n",
    "  num_nodes:\n",
    "  max_epochs:\n",
    "  ...\n",
    "  \n",
    "model:\n",
    "  nemo_path:\n",
    "  tokenizer:  \n",
    "  language_model:\n",
    "  classifier_head:\n",
    "  ...\n",
    "\n",
    "exp_manager:\n",
    "  ...\n",
    "```"
   ]
  },
  {
   "cell_type": "code",
   "execution_count": 19,
   "metadata": {
    "id": "qXUlFS-whN9W",
    "scrolled": true,
    "tags": []
   },
   "outputs": [
    {
     "name": "stdout",
     "output_type": "stream",
     "text": [
      "# Copyright (c) 2020, NVIDIA CORPORATION.  All rights reserved.\n",
      "#\n",
      "# Licensed under the Apache License, Version 2.0 (the \"License\");\n",
      "# you may not use this file except in compliance with the License.\n",
      "# You may obtain a copy of the License at\n",
      "#\n",
      "#     http://www.apache.org/licenses/LICENSE-2.0\n",
      "#\n",
      "# Unless required by applicable law or agreed to in writing, software\n",
      "# distributed under the License is distributed on an \"AS IS\" BASIS,\n",
      "# WITHOUT WARRANTIES OR CONDITIONS OF ANY KIND, either express or implied.\n",
      "# See the License for the specific language governing permissions and\n",
      "# limitations under the License.\n",
      "\n",
      "# Config file for text classification with pre-trained BERT models\n",
      "\n",
      "trainer:\n",
      "  gpus: 1 # number of GPUs (0 for CPU), or list of the GPUs to use e.g. [0, 1]\n",
      "  num_nodes: 1\n",
      "  max_epochs: 100\n",
      "  max_steps: null # precedence over max_epochs\n",
      "  accumulate_grad_batches: 1 # accumulates grads every k batches\n",
      "  gradient_clip_val: 0.0\n",
      "  amp_level: O0 # O1/O2 for mixed precision\n",
      "  precision: 32 # Should be set to 16 for O1 and O2 to enable the AMP.\n",
      "  accelerator: ddp\n",
      "  log_every_n_steps: 1  # Interval of logging.\n",
      "  val_check_interval: 1.0  # Set to 0.25 to check 4 times per epoch, or an int for number of iterations\n",
      "  resume_from_checkpoint: null # The path to a checkpoint file to continue the training, restores the whole state including the epoch, step, LR schedulers, apex, etc.\n",
      "  num_sanity_val_steps: 0 # number of steps to perform validation steps for sanity check the validation process before starting the training, setting to 0 disables it\n",
      "\n",
      "  checkpoint_callback: False  # Provided by exp_manager\n",
      "  logger: False  # Provided by exp_manager\n",
      "\n",
      "model:\n",
      "  nemo_path: text_classification_model.nemo # filename to save the model and associated artifacts to .nemo file\n",
      "  tokenizer:\n",
      "      tokenizer_name: ${model.language_model.pretrained_model_name} # or sentencepiece\n",
      "      vocab_file: null # path to vocab file\n",
      "      tokenizer_model: null # only used if tokenizer is sentencepiece\n",
      "      special_tokens: null\n",
      "\n",
      "  language_model:\n",
      "    pretrained_model_name: bert-base-uncased\n",
      "    lm_checkpoint: null\n",
      "    config_file: null # json file, precedence over config\n",
      "    config: null\n",
      "\n",
      "  classifier_head:\n",
      "    num_output_layers: 2\n",
      "    fc_dropout: 0.1\n",
      "\n",
      "  class_labels:\n",
      "    class_labels_file : null # optional to specify a file containing the list of the labels\n",
      "\n",
      "  dataset:\n",
      "    num_classes: ??? # The number of classes. 0 < Label <num_classes.\n",
      "    do_lower_case: false # true for uncased models, false for cased models, will be set automatically if pre-trained tokenizer model is used\n",
      "    max_seq_length: 256 # the maximum length BERT supports is 512\n",
      "    class_balancing: null # null or 'weighted_loss'. 'weighted_loss' enables the weighted class balancing of the loss, may be used for handling unbalanced classes\n",
      "    use_cache: false # uses a cache to store the processed dataset, you may use it for large datasets for speed up\n",
      "\n",
      "  train_ds:\n",
      "    file_path: null\n",
      "    batch_size: 64\n",
      "    shuffle: true\n",
      "    num_samples: -1 # number of samples to be considered, -1 means all the dataset\n",
      "    num_workers: 3\n",
      "    drop_last: false\n",
      "    pin_memory: false\n",
      "\n",
      "  validation_ds:\n",
      "    file_path: null\n",
      "    batch_size: 64\n",
      "    shuffle: false\n",
      "    num_samples: -1 # number of samples to be considered, -1 means all the dataset\n",
      "    num_workers: 3\n",
      "    drop_last: false\n",
      "    pin_memory: false\n",
      "\n",
      "  test_ds:\n",
      "    file_path: null\n",
      "    batch_size: 64\n",
      "    shuffle: false\n",
      "    num_samples: -1 # number of samples to be considered, -1 means all the dataset\n",
      "    num_workers: 3\n",
      "    drop_last: false\n",
      "    pin_memory: false\n",
      "\n",
      "  optim:\n",
      "    name: adam\n",
      "    lr: 2e-5\n",
      "    # optimizer arguments\n",
      "    betas: [0.9, 0.999]\n",
      "    weight_decay: 0.01\n",
      "\n",
      "    # scheduler setup\n",
      "    sched:\n",
      "      name: WarmupAnnealing\n",
      "      # Scheduler params\n",
      "      warmup_steps: null\n",
      "      warmup_ratio: 0.1\n",
      "      last_epoch: -1\n",
      "      # pytorch lightning args\n",
      "      monitor: val_loss\n",
      "      reduce_on_plateau: false\n",
      "\n",
      "  # List of some sample queries for inference after training is done\n",
      "  infer_samples: [\n",
      "    'by the end of no such thing the audience , like beatrice , has a watchful affection for the monster .',\n",
      "    'director rob marshall went out gunning to make a great one .',\n",
      "    'uneasy mishmash of styles and genres .',\n",
      "  ]\n",
      "\n",
      "exp_manager:\n",
      "  exp_dir: null  # exp_dir for your experiment, if None, defaults to \"./nemo_experiments\"\n",
      "  name: \"TextClassification\"  # The name of your model\n",
      "  create_tensorboard_logger: True  # Whether you want exp_manger to create a tb logger\n",
      "  create_checkpoint_callback: True  # Whether you want exp_manager to create a modelcheckpoint callback\n"
     ]
    }
   ],
   "source": [
    "CONFIG_DIR = \"/dli/task/nemo/examples/nlp/text_classification/conf\"\n",
    "CONFIG_FILE = \"text_classification_config.yaml\"\n",
    "!cat $CONFIG_DIR/$CONFIG_FILE"
   ]
  },
  {
   "cell_type": "markdown",
   "metadata": {
    "id": "NAYgZ0PmhN9W"
   },
   "source": [
    "### 2.2.2.1 OmegaConf 도구\n",
    "YAML config 파일은 파라미터 대부분의 기본 값을 제공하지만 텍스트 분류 실험을 진행하기 위해 지정되어야하는 몇 개의 파라미터가 있습니다.\n",
    "\n",
    "각각의 YAML 섹션은 [omegaconf](https://omegaconf.readthedocs.io/en/2.1_branch/#) 패키지를 이용하면 보다 더 쉽게 확인할 수 있으며, \"dot\" 프로토콜을 활용하는 구성 키에 접근하고 조작할 수 있습니다.\n",
    "\n",
    "Config 파일에서 `OmegaConf` 객체를 인스턴스화하는 것으로부터 시작합니다. 객체에 있는 키는 변경, 추가, 보기, 저장 등의 작업을 수행할 수 있습니다. \n",
    "\n",
    "예를 들어, `model`섹션만 보려고 하는 경우, 우리는 config 파일을 로드하여 `config.model` 섹션만 지정하여 프린트문을 통해 볼 수 있습니다. "
   ]
  },
  {
   "cell_type": "code",
   "execution_count": 20,
   "metadata": {
    "colab": {
     "base_uri": "https://localhost:8080/",
     "height": 351
    },
    "executionInfo": {
     "elapsed": 439,
     "status": "error",
     "timestamp": 1627920592547,
     "user": {
      "displayName": "Solee Moon KR",
      "photoUrl": "",
      "userId": "15448835692925759007"
     },
     "user_tz": -540
    },
    "id": "h_SKflgkhN9X",
    "outputId": "78fa1a49-bb99-460c-dc8c-0aca1e6ec172",
    "scrolled": true,
    "tags": []
   },
   "outputs": [
    {
     "name": "stdout",
     "output_type": "stream",
     "text": [
      "nemo_path: text_classification_model.nemo\n",
      "tokenizer:\n",
      "  tokenizer_name: ${model.language_model.pretrained_model_name}\n",
      "  vocab_file: null\n",
      "  tokenizer_model: null\n",
      "  special_tokens: null\n",
      "language_model:\n",
      "  pretrained_model_name: bert-base-uncased\n",
      "  lm_checkpoint: null\n",
      "  config_file: null\n",
      "  config: null\n",
      "classifier_head:\n",
      "  num_output_layers: 2\n",
      "  fc_dropout: 0.1\n",
      "class_labels:\n",
      "  class_labels_file: null\n",
      "dataset:\n",
      "  num_classes: ???\n",
      "  do_lower_case: false\n",
      "  max_seq_length: 256\n",
      "  class_balancing: null\n",
      "  use_cache: false\n",
      "train_ds:\n",
      "  file_path: null\n",
      "  batch_size: 64\n",
      "  shuffle: true\n",
      "  num_samples: -1\n",
      "  num_workers: 3\n",
      "  drop_last: false\n",
      "  pin_memory: false\n",
      "validation_ds:\n",
      "  file_path: null\n",
      "  batch_size: 64\n",
      "  shuffle: false\n",
      "  num_samples: -1\n",
      "  num_workers: 3\n",
      "  drop_last: false\n",
      "  pin_memory: false\n",
      "test_ds:\n",
      "  file_path: null\n",
      "  batch_size: 64\n",
      "  shuffle: false\n",
      "  num_samples: -1\n",
      "  num_workers: 3\n",
      "  drop_last: false\n",
      "  pin_memory: false\n",
      "optim:\n",
      "  name: adam\n",
      "  lr: 2.0e-05\n",
      "  betas:\n",
      "  - 0.9\n",
      "  - 0.999\n",
      "  weight_decay: 0.01\n",
      "  sched:\n",
      "    name: WarmupAnnealing\n",
      "    warmup_steps: null\n",
      "    warmup_ratio: 0.1\n",
      "    last_epoch: -1\n",
      "    monitor: val_loss\n",
      "    reduce_on_plateau: false\n",
      "infer_samples:\n",
      "- by the end of no such thing the audience , like beatrice , has a watchful affection\n",
      "  for the monster .\n",
      "- director rob marshall went out gunning to make a great one .\n",
      "- uneasy mishmash of styles and genres .\n",
      "\n"
     ]
    }
   ],
   "source": [
    "from omegaconf import OmegaConf\n",
    "\n",
    "config = OmegaConf.load(CONFIG_DIR + \"/\" + CONFIG_FILE)\n",
    "print(OmegaConf.to_yaml(config.model))"
   ]
  },
  {
   "cell_type": "markdown",
   "metadata": {
    "id": "qRoiBCkIhN9X"
   },
   "source": [
    "모델 인자(argument)에 대한 세부 사항은 다음 [문서](https://docs.nvidia.com/deeplearning/nemo/user-guide/docs/en/stable/nlp/text_classification.html#model-arguments)에서 확인할 수 있습니다. 이 실습에서는 `dataset.num_classes` 값과 `train_ds.file_path`, `val_ds.file_path`, `test_ds.file_path` 에 있는 위치 값이 필요합니다.\n",
    "\n",
    "메모리가 부족하지 않도록 `dataset.max_seq_length` 값을 128로 제한할 수 있습니다.  `infer_samples(추측 샘플)`이 영화 평점과 관련이 있는 것처럼 보일 수 있으므로 우리는 질병 도메인에서 의미 있는 문장으로 변경할 수 있습니다. \n",
    "\n",
    "나중에 변경해야할 여러가지 파라미터가 있지만 현재로서는 우리가 반드시 제공해야하는 모든 파라미터는 위와 같습니다. \n",
    "\n",
    "다음으로 `trainer(트레이너)` 하위 섹션을 살펴보겠습니다. "
   ]
  },
  {
   "cell_type": "code",
   "execution_count": 21,
   "metadata": {
    "executionInfo": {
     "elapsed": 6,
     "status": "aborted",
     "timestamp": 1627920592543,
     "user": {
      "displayName": "Solee Moon KR",
      "photoUrl": "",
      "userId": "15448835692925759007"
     },
     "user_tz": -540
    },
    "id": "mt-6QOxmhN9Y"
   },
   "outputs": [
    {
     "name": "stdout",
     "output_type": "stream",
     "text": [
      "gpus: 1\n",
      "num_nodes: 1\n",
      "max_epochs: 100\n",
      "max_steps: null\n",
      "accumulate_grad_batches: 1\n",
      "gradient_clip_val: 0.0\n",
      "amp_level: O0\n",
      "precision: 32\n",
      "accelerator: ddp\n",
      "log_every_n_steps: 1\n",
      "val_check_interval: 1.0\n",
      "resume_from_checkpoint: null\n",
      "num_sanity_val_steps: 0\n",
      "checkpoint_callback: false\n",
      "logger: false\n",
      "\n"
     ]
    }
   ],
   "source": [
    "print(OmegaConf.to_yaml(config.trainer))"
   ]
  },
  {
   "cell_type": "markdown",
   "metadata": {
    "id": "EfWCzofRhN9Y"
   },
   "source": [
    "현재 GPU가 하나 뿐이기 때문에, 이 설정은 괜찮긴 하지만 우선 `max_epochs`를 몇 개로 제한해야 할 수도 있습니다. `model`구성과 마찬가지로 몇 가지 다른 파라미터를 변경할 수도 있지만, 처음에는 기본값으로 가보도록 하겠습니다. \n",
    "\n",
    "마지막으로, `exp_manager`는 어떻습니까?"
   ]
  },
  {
   "cell_type": "code",
   "execution_count": 22,
   "metadata": {
    "executionInfo": {
     "elapsed": 7,
     "status": "aborted",
     "timestamp": 1627920592545,
     "user": {
      "displayName": "Solee Moon KR",
      "photoUrl": "",
      "userId": "15448835692925759007"
     },
     "user_tz": -540
    },
    "id": "U4mSlxpxhN9Y"
   },
   "outputs": [
    {
     "name": "stdout",
     "output_type": "stream",
     "text": [
      "exp_dir: null\n",
      "name: TextClassification\n",
      "create_tensorboard_logger: true\n",
      "create_checkpoint_callback: true\n",
      "\n"
     ]
    }
   ],
   "source": [
    "print(OmegaConf.to_yaml(config.exp_manager))"
   ]
  },
  {
   "cell_type": "markdown",
   "metadata": {
    "id": "brkG6BTHhN9Z"
   },
   "source": [
    "**이번** 섹션도 이대로 괜찮습니다. `exp_dir` 값이 `null`이라면  `nemo_experiments`라는 새 디렉터리에 실험 결과는 기본으로 배치될 예정입니다."
   ]
  },
  {
   "cell_type": "markdown",
   "metadata": {
    "id": "G04dIlHDhN9Z"
   },
   "source": [
    "## 2.2.3 Hydra-Enabled Python 스크립트\n",
    "정리를 하면, 우리가 변경 또는 재정의하고자 하는 파라미터는 다음과 같습니다.:\n",
    "\n",
    "* `model.dataset.num_classes`: 3\n",
    "* `model.dataset.max_seq_length`: 128\n",
    "* `model.train_ds.file_path`: train_nemo_format.tsv\n",
    "* `model.val_ds.file_path`: dev_nemo_format.tsv\n",
    "* `model.test_ds.file_path`: test_nemo_format.tsv\n",
    "* `model.infer_samples` : relevent sentences\n",
    "* `trainer.max_epochs`: 3\n",
    "\n",
    "텍스트 분류 트레이닝 스크립트를 이용해서 우리는 **하나의 명령문 만으로** 트레이닝, 추론, 테스트를 모두 진행할 수 있습니다!\n",
    "\n",
    "스크립트는 Hydra를 이용하여 config 파일을 관리하므로 우리는 아래와 같이 커맨드 라인에서 직접 원하는 값을 다음과 같이 재정의할 수 있습니다."
   ]
  },
  {
   "cell_type": "code",
   "execution_count": 12,
   "metadata": {
    "id": "10X3ovnLhN9a",
    "scrolled": true,
    "tags": []
   },
   "outputs": [
    {
     "name": "stdout",
     "output_type": "stream",
     "text": [
      "[NeMo W 2024-03-04 02:28:59 nemo_logging:349] /opt/conda/lib/python3.8/site-packages/omegaconf/basecontainer.py:225: UserWarning: cfg.pretty() is deprecated and will be removed in a future version.\n",
      "    Use OmegaConf.to_yaml(cfg)\n",
      "    \n",
      "      warnings.warn(\n",
      "    \n",
      "[NeMo I 2024-03-04 02:28:59 text_classification_with_bert:110] \n",
      "    Config Params:\n",
      "    trainer:\n",
      "      gpus: 1\n",
      "      num_nodes: 1\n",
      "      max_epochs: 3\n",
      "      max_steps: null\n",
      "      accumulate_grad_batches: 1\n",
      "      gradient_clip_val: 0.0\n",
      "      amp_level: O0\n",
      "      precision: 32\n",
      "      accelerator: ddp\n",
      "      log_every_n_steps: 1\n",
      "      val_check_interval: 1.0\n",
      "      resume_from_checkpoint: null\n",
      "      num_sanity_val_steps: 0\n",
      "      checkpoint_callback: false\n",
      "      logger: false\n",
      "    model:\n",
      "      nemo_path: text_classification_model.nemo\n",
      "      tokenizer:\n",
      "        tokenizer_name: ${model.language_model.pretrained_model_name}\n",
      "        vocab_file: null\n",
      "        tokenizer_model: null\n",
      "        special_tokens: null\n",
      "      language_model:\n",
      "        pretrained_model_name: bert-base-uncased\n",
      "        lm_checkpoint: null\n",
      "        config_file: null\n",
      "        config: null\n",
      "      classifier_head:\n",
      "        num_output_layers: 2\n",
      "        fc_dropout: 0.1\n",
      "      class_labels:\n",
      "        class_labels_file: null\n",
      "      dataset:\n",
      "        num_classes: 3\n",
      "        do_lower_case: false\n",
      "        max_seq_length: 128\n",
      "        class_balancing: null\n",
      "        use_cache: false\n",
      "      train_ds:\n",
      "        file_path: /dli/task/data/NCBI_tc-3/train_nemo_format.tsv\n",
      "        batch_size: 64\n",
      "        shuffle: true\n",
      "        num_samples: -1\n",
      "        num_workers: 3\n",
      "        drop_last: false\n",
      "        pin_memory: false\n",
      "      validation_ds:\n",
      "        file_path: /dli/task/data/NCBI_tc-3/dev_nemo_format.tsv\n",
      "        batch_size: 64\n",
      "        shuffle: false\n",
      "        num_samples: -1\n",
      "        num_workers: 3\n",
      "        drop_last: false\n",
      "        pin_memory: false\n",
      "      test_ds:\n",
      "        file_path: /dli/task/data/NCBI_tc-3/test_nemo_format.tsv\n",
      "        batch_size: 64\n",
      "        shuffle: false\n",
      "        num_samples: -1\n",
      "        num_workers: 3\n",
      "        drop_last: false\n",
      "        pin_memory: false\n",
      "      optim:\n",
      "        name: adam\n",
      "        lr: 2.0e-05\n",
      "        betas:\n",
      "        - 0.9\n",
      "        - 0.999\n",
      "        weight_decay: 0.01\n",
      "        sched:\n",
      "          name: WarmupAnnealing\n",
      "          warmup_steps: null\n",
      "          warmup_ratio: 0.1\n",
      "          last_epoch: -1\n",
      "          monitor: val_loss\n",
      "          reduce_on_plateau: false\n",
      "      infer_samples:\n",
      "      - In contrast no mutations were detected in the p53 gene suggesting that this tumour\n",
      "        suppressor is not frequently altered in this leukaemia\n",
      "      - The first predictive testing for Huntington disease  was based on analysis of\n",
      "        linked polymorphic DNA markers to estimate the likelihood of inheriting the mutation\n",
      "        for HD\n",
      "      - Further studies suggested that low dilutions of C5D serum contain a factor or\n",
      "        factors interfering at some step in the hemolytic assay of C5 rather than a true\n",
      "        C5 inhibitor or inactivator\n",
      "    exp_manager:\n",
      "      exp_dir: null\n",
      "      name: TextClassification\n",
      "      create_tensorboard_logger: true\n",
      "      create_checkpoint_callback: true\n",
      "    \n",
      "GPU available: True, used: True\n",
      "TPU available: False, using: 0 TPU cores\n",
      "[NeMo I 2024-03-04 02:28:59 exp_manager:216] Experiments will be logged at /dli/task/nemo_experiments/TextClassification/2024-03-04_02-28-59\n",
      "[NeMo I 2024-03-04 02:28:59 exp_manager:563] TensorboardLogger has been set up\n",
      "Lock 140461155598192 acquired on /root/.cache/huggingface/transformers/3c61d016573b14f7f008c02c4e51a366c67ab274726fe2910691e2a761acf43e.37395cee442ab11005bcd270f3c34464dc1704b715b5d7d52b1a461abe3b9e4e.lock\n",
      "Downloading: 100%|█████████████████████████████| 570/570 [00:00<00:00, 1.15MB/s]\n",
      "Lock 140461155598192 released on /root/.cache/huggingface/transformers/3c61d016573b14f7f008c02c4e51a366c67ab274726fe2910691e2a761acf43e.37395cee442ab11005bcd270f3c34464dc1704b715b5d7d52b1a461abe3b9e4e.lock\n",
      "Lock 140461155567408 acquired on /root/.cache/huggingface/transformers/45c3f7a79a80e1cf0a489e5c62b43f173c15db47864303a55d623bb3c96f72a5.d789d64ebfe299b0e416afc4a169632f903f693095b4629a7ea271d5a0cf2c99.lock\n",
      "Downloading: 100%|███████████████████████████| 232k/232k [00:00<00:00, 4.17MB/s]\n",
      "Lock 140461155567408 released on /root/.cache/huggingface/transformers/45c3f7a79a80e1cf0a489e5c62b43f173c15db47864303a55d623bb3c96f72a5.d789d64ebfe299b0e416afc4a169632f903f693095b4629a7ea271d5a0cf2c99.lock\n",
      "Lock 140461156048176 acquired on /root/.cache/huggingface/transformers/c1d7f0a763fb63861cc08553866f1fc3e5a6f4f07621be277452d26d71303b7e.76ea01b4b85ac16e2cec55c398cba7a943d89ab21dfdd973f6630a152e4b9aed.lock\n",
      "Downloading: 100%|███████████████████████████| 48.0/48.0 [00:00<00:00, 69.3kB/s]\n",
      "Lock 140461156048176 released on /root/.cache/huggingface/transformers/c1d7f0a763fb63861cc08553866f1fc3e5a6f4f07621be277452d26d71303b7e.76ea01b4b85ac16e2cec55c398cba7a943d89ab21dfdd973f6630a152e4b9aed.lock\n",
      "Lock 140461156048320 acquired on /root/.cache/huggingface/transformers/534479488c54aeaf9c3406f647aa2ec13648c06771ffe269edabebd4c412da1d.7f2721073f19841be16f41b0a70b600ca6b880c8f3df6f3535cbc704371bdfa4.lock\n",
      "Downloading: 100%|███████████████████████████| 466k/466k [00:00<00:00, 40.7MB/s]\n",
      "Lock 140461156048320 released on /root/.cache/huggingface/transformers/534479488c54aeaf9c3406f647aa2ec13648c06771ffe269edabebd4c412da1d.7f2721073f19841be16f41b0a70b600ca6b880c8f3df6f3535cbc704371bdfa4.lock\n",
      "Using bos_token, but it is not set yet.\n",
      "Using eos_token, but it is not set yet.\n",
      "[NeMo I 2024-03-04 02:29:00 text_classification_dataset:120] Read 683 examples from /dli/task/data/NCBI_tc-3/train_nemo_format.tsv.\n",
      "[NeMo I 2024-03-04 02:29:00 text_classification_dataset:238] *** Example ***\n",
      "[NeMo I 2024-03-04 02:29:00 text_classification_dataset:239] example 0: ['Gardner', 'syndrome', 'in', 'a', 'boy', 'with', 'interstitial', 'deletion', 'of', 'the', 'long', 'arm', 'of', 'chromosome', '5.', 'We', 'described', 'a', '15-year-old', 'boy', 'with', 'Gardner', 'syndrome', '(', 'GS', ')', ',', 'mental', 'retardation', ',', 'and', 'craniofacial', 'abnormalities', '.', 'High-resolution', 'banding', 'analysis', 'showed', 'an', 'interstitial', 'deletion', 'of', 'the', 'long', 'arm', 'of', 'chromosome', '5', '(', 'q22', '.', '1----q31', '1----q31', '.', '1', ')', '.', 'The', 'breakpoints', 'in', 'the', 'present', 'case', 'and', 'in', '3', 'previously', 'reported', '5q-', 'patients', 'with', 'adenomatous', 'polyposis', 'coli', 'suggest', 'that', 'the', 'gene', 'responsible', 'for', 'GS', '/', 'or', 'familial', 'polyposis', 'coli', '(', 'FPC', ')', 'is', 'in', 'the', '5q22', 'region', ',', 'a', 'result', 'consistent', 'with', 'the', 'findings', 'of', 'linkage', 'studies']\n",
      "[NeMo I 2024-03-04 02:29:00 text_classification_dataset:240] subtokens: [CLS] gardner syndrome in a boy with inter ##sti ##tial del ##eti ##on of the long arm of chromosome 5 . we described a 15 - year - old boy with gardner syndrome ( gs ) , mental re ##tar ##dation , and cr ##ani ##of ##ac ##ial abnormalities . high - resolution band ##ing analysis showed an inter ##sti ##tial del ##eti ##on of the long arm of chromosome 5 ( q ##22 . 1 - - - - q ##31 1 - - - - q ##31 . 1 ) . the break ##points in the present case and in 3 previously reported 5 ##q - patients with aden ##oma ##tou ##s poly ##po ##sis coli suggest that the gene responsible for gs / or fa [SEP]\n",
      "[NeMo I 2024-03-04 02:29:00 text_classification_dataset:241] input_ids: 101 11764 8715 1999 1037 2879 2007 6970 16643 20925 3972 20624 2239 1997 1996 2146 2849 1997 16706 1019 1012 2057 2649 1037 2321 1011 2095 1011 2214 2879 2007 11764 8715 1006 28177 1007 1010 5177 2128 7559 20207 1010 1998 13675 7088 11253 6305 4818 28828 1012 2152 1011 5813 2316 2075 4106 3662 2019 6970 16643 20925 3972 20624 2239 1997 1996 2146 2849 1997 16706 1019 1006 1053 19317 1012 1015 1011 1011 1011 1011 1053 21486 1015 1011 1011 1011 1011 1053 21486 1012 1015 1007 1012 1996 3338 26521 1999 1996 2556 2553 1998 1999 1017 3130 2988 1019 4160 1011 5022 2007 16298 9626 24826 2015 26572 6873 6190 27441 6592 2008 1996 4962 3625 2005 28177 1013 2030 6904 102\n",
      "[NeMo I 2024-03-04 02:29:00 text_classification_dataset:242] segment_ids: 0 0 0 0 0 0 0 0 0 0 0 0 0 0 0 0 0 0 0 0 0 0 0 0 0 0 0 0 0 0 0 0 0 0 0 0 0 0 0 0 0 0 0 0 0 0 0 0 0 0 0 0 0 0 0 0 0 0 0 0 0 0 0 0 0 0 0 0 0 0 0 0 0 0 0 0 0 0 0 0 0 0 0 0 0 0 0 0 0 0 0 0 0 0 0 0 0 0 0 0 0 0 0 0 0 0 0 0 0 0 0 0 0 0 0 0 0 0 0 0 0 0 0 0 0 0 0 0 0\n",
      "[NeMo I 2024-03-04 02:29:00 text_classification_dataset:243] input_mask: 1 1 1 1 1 1 1 1 1 1 1 1 1 1 1 1 1 1 1 1 1 1 1 1 1 1 1 1 1 1 1 1 1 1 1 1 1 1 1 1 1 1 1 1 1 1 1 1 1 1 1 1 1 1 1 1 1 1 1 1 1 1 1 1 1 1 1 1 1 1 1 1 1 1 1 1 1 1 1 1 1 1 1 1 1 1 1 1 1 1 1 1 1 1 1 1 1 1 1 1 1 1 1 1 1 1 1 1 1 1 1 1 1 1 1 1 1 1 1 1 1 1 1 1 1 1 1 1 1\n",
      "[NeMo I 2024-03-04 02:29:00 text_classification_dataset:244] label: 2\n",
      "[NeMo I 2024-03-04 02:29:00 text_classification_dataset:238] *** Example ***\n",
      "[NeMo I 2024-03-04 02:29:00 text_classification_dataset:239] example 1: ['Aberrant', 'splicing', 'of', 'phenylalanine', 'hydroxylase', 'mRNA:', 'the', 'major', 'cause', 'for', 'phenylketonuria', 'in', 'parts', 'of', 'southern', 'Europe.', 'We', 'report', 'a', 'mutation', 'within', 'the', 'phenylalanine', 'hydroxylase', '(', 'PAH', ')', 'gene', 'that', 'causes', 'aberrant', 'splicing', 'of', 'the', 'mRNA', 'and', 'that', 'is', 'in', 'tight', 'association', 'with', 'chromosomal', 'haplotypes', '6', ',', '10', ',', 'and', '36', '.', 'Because', 'of', 'the', 'high', 'frequency', 'of', 'these', 'particular', 'haplotypes', 'in', 'Bulgaria', ',', 'Italy', ',', 'and', 'Turkey', ',', 'it', 'appears', 'to', 'be', 'one', 'of', 'the', 'more', 'frequent', 'defects', 'in', 'the', 'PAH', 'gene', 'causing', 'classical', 'phenylketonuria', 'in', 'this', 'part', 'of', 'Europe', '.', 'The', 'mutation', 'is', 'a', 'G', 'to', 'A', 'transition', 'at', 'position', '546', 'in', 'intron', '10', 'of', 'the', 'PAH', 'gene', ',', '11', 'bp', 'upstream', 'from', 'the', 'intron', '10', '/', 'exon', '11', 'boundary', '.', 'It', 'activates', 'a', 'cryptic', 'splice', 'site', 'and', 'results', 'in', 'an', 'in-frame', 'insertion', 'of', '9', 'nucleotides', 'between', 'exon', '10', 'and', 'exon', '11', 'of', 'the', 'processed', 'mRNA', '.', 'Normal', 'amounts', 'of', 'liver', 'PAH', 'protein', 'are', 'present', 'in', 'homozygous', 'patients', ',', 'but', 'no', 'catalytic', 'activity', 'can', 'be', 'detected', '.', 'This', 'loss', 'of', 'enzyme', 'activity', 'is', 'probably', 'caused', 'by', 'conformational', 'changes', 'resulting', 'from', 'the', 'insertion', 'of', 'three', 'additional', 'amino', 'acids', '(', 'Gly-Leu-Gln', ')', 'between', 'the', 'normal', 'sequences', 'encoded', 'by', 'exon', '10', 'and', 'exon', '11', '.', '.']\n",
      "[NeMo I 2024-03-04 02:29:00 text_classification_dataset:240] subtokens: [CLS] abe ##rran ##t sp ##lic ##ing of ph ##en ##yla ##lani ##ne hydro ##xy ##lase mrna : the major cause for ph ##en ##yl ##ke ##ton ##uria in parts of southern europe . we report a mutation within the ph ##en ##yla ##lani ##ne hydro ##xy ##lase ( pa ##h ) gene that causes abe ##rran ##t sp ##lic ##ing of the mrna and that is in tight association with ch ##rom ##osomal ha ##pl ##otype ##s 6 , 10 , and 36 . because of the high frequency of these particular ha ##pl ##otype ##s in bulgaria , italy , and turkey , it appears to be one of the more frequent defects in the pa ##h gene causing classical ph ##en ##yl ##ke ##ton ##uria [SEP]\n",
      "[NeMo I 2024-03-04 02:29:00 text_classification_dataset:241] input_ids: 101 14863 28327 2102 11867 10415 2075 1997 6887 2368 23943 21141 2638 18479 18037 25002 28848 1024 1996 2350 3426 2005 6887 2368 8516 3489 2669 27703 1999 3033 1997 2670 2885 1012 2057 3189 1037 16221 2306 1996 6887 2368 23943 21141 2638 18479 18037 25002 1006 6643 2232 1007 4962 2008 5320 14863 28327 2102 11867 10415 2075 1997 1996 28848 1998 2008 2003 1999 4389 2523 2007 10381 21716 27642 5292 24759 26305 2015 1020 1010 2184 1010 1998 4029 1012 2138 1997 1996 2152 6075 1997 2122 3327 5292 24759 26305 2015 1999 8063 1010 3304 1010 1998 4977 1010 2009 3544 2000 2022 2028 1997 1996 2062 6976 18419 1999 1996 6643 2232 4962 4786 4556 6887 2368 8516 3489 2669 27703 102\n",
      "[NeMo I 2024-03-04 02:29:00 text_classification_dataset:242] segment_ids: 0 0 0 0 0 0 0 0 0 0 0 0 0 0 0 0 0 0 0 0 0 0 0 0 0 0 0 0 0 0 0 0 0 0 0 0 0 0 0 0 0 0 0 0 0 0 0 0 0 0 0 0 0 0 0 0 0 0 0 0 0 0 0 0 0 0 0 0 0 0 0 0 0 0 0 0 0 0 0 0 0 0 0 0 0 0 0 0 0 0 0 0 0 0 0 0 0 0 0 0 0 0 0 0 0 0 0 0 0 0 0 0 0 0 0 0 0 0 0 0 0 0 0 0 0 0 0 0 0\n",
      "[NeMo I 2024-03-04 02:29:00 text_classification_dataset:243] input_mask: 1 1 1 1 1 1 1 1 1 1 1 1 1 1 1 1 1 1 1 1 1 1 1 1 1 1 1 1 1 1 1 1 1 1 1 1 1 1 1 1 1 1 1 1 1 1 1 1 1 1 1 1 1 1 1 1 1 1 1 1 1 1 1 1 1 1 1 1 1 1 1 1 1 1 1 1 1 1 1 1 1 1 1 1 1 1 1 1 1 1 1 1 1 1 1 1 1 1 1 1 1 1 1 1 1 1 1 1 1 1 1 1 1 1 1 1 1 1 1 1 1 1 1 1 1 1 1 1 1\n",
      "[NeMo I 2024-03-04 02:29:00 text_classification_dataset:244] label: 2\n",
      "[NeMo W 2024-03-04 02:29:10 text_classification_dataset:250] Found 664 out of 683 sentences with more than 128 subtokens. Truncated long sentences from the end.\n",
      "[NeMo I 2024-03-04 02:29:10 data_preprocessing:299] Some stats of the lengths of the sequences:\n",
      "[NeMo I 2024-03-04 02:29:10 data_preprocessing:301] Min: 74 |                  Max: 129 |                  Mean: 128.36163982430455 |                  Median: 129.0\n",
      "[NeMo I 2024-03-04 02:29:10 data_preprocessing:307] 75 percentile: 129.00\n",
      "[NeMo I 2024-03-04 02:29:10 data_preprocessing:308] 99 percentile: 129.00\n",
      "[NeMo I 2024-03-04 02:29:10 text_classification_dataset:120] Read 100 examples from /dli/task/data/NCBI_tc-3/dev_nemo_format.tsv.\n",
      "[NeMo I 2024-03-04 02:29:10 text_classification_dataset:238] *** Example ***\n",
      "[NeMo I 2024-03-04 02:29:10 text_classification_dataset:239] example 0: ['BRCA1', 'is', 'secreted', 'and', 'exhibits', 'properties', 'of', 'a', 'granin.', 'Germline', 'mutations', 'in', 'BRCA1', 'are', 'responsible', 'for', 'most', 'cases', 'of', 'inherited', 'breast', 'and', 'ovarian', 'cancer', '.', 'However', ',', 'the', 'function', 'of', 'the', 'BRCA1', 'protein', 'has', 'remained', 'elusive', '.', 'We', 'now', 'show', 'that', 'BRCA1', 'encodes', 'a', '190-kD', 'protein', 'with', 'sequence', 'homology', 'and', 'biochemical', 'analogy', 'to', 'the', 'granin', 'protein', 'family', '.', 'Interestingly', ',', 'BRCA2', 'also', 'includes', 'a', 'motif', 'similar', 'to', 'the', 'granin', 'consensus', 'at', 'the', 'C', 'terminus', 'of', 'the', 'protein', '.', 'Both', 'BRCA1', 'and', 'the', 'granins', 'localize', 'to', 'secretory', 'vesicles', ',', 'are', 'secreted', 'by', 'a', 'regulated', 'pathway', ',', 'are', 'post-translationally', 'glycosylated', 'and', 'are', 'responsive', 'to', 'hormones', '.', 'As', 'a', 'regulated', 'secretory', 'protein', ',', 'BRCA1', 'appears', 'to', 'function', 'by', 'a', 'mechanism', 'not', 'previously', 'described', 'for', 'tumour', 'suppressor', 'gene', 'products', '.', '.']\n",
      "[NeMo I 2024-03-04 02:29:10 text_classification_dataset:240] subtokens: [CLS] br ##ca ##1 is secret ##ed and exhibits properties of a gran ##in . ge ##rm ##line mutations in br ##ca ##1 are responsible for most cases of inherited breast and o ##var ##ian cancer . however , the function of the br ##ca ##1 protein has remained elusive . we now show that br ##ca ##1 en ##codes a 190 - k ##d protein with sequence homo ##logy and bio ##chemical analogy to the gran ##in protein family . interesting ##ly , br ##ca ##2 also includes a motif similar to the gran ##in consensus at the c terminus of the protein . both br ##ca ##1 and the gran ##ins local ##ize to secret ##ory ve ##sic ##les , are secret ##ed by a regulated [SEP]\n",
      "[NeMo I 2024-03-04 02:29:10 text_classification_dataset:241] input_ids: 101 7987 3540 2487 2003 3595 2098 1998 10637 5144 1997 1037 12604 2378 1012 16216 10867 4179 14494 1999 7987 3540 2487 2024 3625 2005 2087 3572 1997 7900 7388 1998 1051 10755 2937 4456 1012 2174 1010 1996 3853 1997 1996 7987 3540 2487 5250 2038 2815 26475 1012 2057 2085 2265 2008 7987 3540 2487 4372 23237 1037 11827 1011 1047 2094 5250 2007 5537 24004 6483 1998 16012 15869 23323 2000 1996 12604 2378 5250 2155 1012 5875 2135 1010 7987 3540 2475 2036 2950 1037 16226 2714 2000 1996 12604 2378 10465 2012 1996 1039 7342 1997 1996 5250 1012 2119 7987 3540 2487 1998 1996 12604 7076 2334 4697 2000 3595 10253 2310 19570 4244 1010 2024 3595 2098 2011 1037 12222 102\n",
      "[NeMo I 2024-03-04 02:29:10 text_classification_dataset:242] segment_ids: 0 0 0 0 0 0 0 0 0 0 0 0 0 0 0 0 0 0 0 0 0 0 0 0 0 0 0 0 0 0 0 0 0 0 0 0 0 0 0 0 0 0 0 0 0 0 0 0 0 0 0 0 0 0 0 0 0 0 0 0 0 0 0 0 0 0 0 0 0 0 0 0 0 0 0 0 0 0 0 0 0 0 0 0 0 0 0 0 0 0 0 0 0 0 0 0 0 0 0 0 0 0 0 0 0 0 0 0 0 0 0 0 0 0 0 0 0 0 0 0 0 0 0 0 0 0 0 0 0\n",
      "[NeMo I 2024-03-04 02:29:10 text_classification_dataset:243] input_mask: 1 1 1 1 1 1 1 1 1 1 1 1 1 1 1 1 1 1 1 1 1 1 1 1 1 1 1 1 1 1 1 1 1 1 1 1 1 1 1 1 1 1 1 1 1 1 1 1 1 1 1 1 1 1 1 1 1 1 1 1 1 1 1 1 1 1 1 1 1 1 1 1 1 1 1 1 1 1 1 1 1 1 1 1 1 1 1 1 1 1 1 1 1 1 1 1 1 1 1 1 1 1 1 1 1 1 1 1 1 1 1 1 1 1 1 1 1 1 1 1 1 1 1 1 1 1 1 1 1\n",
      "[NeMo I 2024-03-04 02:29:10 text_classification_dataset:244] label: 0\n",
      "[NeMo I 2024-03-04 02:29:10 text_classification_dataset:238] *** Example ***\n",
      "[NeMo I 2024-03-04 02:29:10 text_classification_dataset:239] example 1: ['Ovarian', 'cancer', 'risk', 'in', 'BRCA1', 'carriers', 'is', 'modified', 'by', 'the', 'HRAS1', 'variable', 'number', 'of', 'tandem', 'repeat', '(VNTR)', 'locus.', 'Women', 'who', 'carry', 'a', 'mutation', 'in', 'the', 'BRCA1', 'gene', '(', 'on', 'chromosome', '17q21', ')', ',', 'have', 'an', '80', '%', 'risk', 'of', 'breast', 'cancer', 'and', 'a', '40', '%', 'risk', 'of', 'ovarian', 'cancer', 'by', 'the', 'age', 'of', '70', '(', 'ref', '.', '1', ')', '.', 'The', 'variable', 'penetrance', 'of', 'BRCA1', 'suggests', 'that', 'other', 'genetic', 'and', 'non-genetic', 'factors', 'play', 'a', 'role', 'in', 'tumourigenesis', 'in', 'these', 'individuals', '.', 'The', 'HRAS1', 'variable', 'number', 'of', 'tandem', 'repeats', '(', 'VNTR', ')', 'polymorphism', ',', 'located', '1', 'kilobase', '(', 'kb', ')', 'downstream', 'of', 'the', 'HRAS1', 'proto-oncogene', '(', 'chromosome', '11p15', '.', '5', ')', 'is', 'one', 'possible', 'genetic', 'modifier', 'of', 'cancer', 'penetrance', '.', 'Individuals', 'who', 'have', 'rare', 'alleles', 'of', 'the', 'VNTR', 'have', 'an', 'increased', 'risk', 'of', 'certain', 'types', 'of', 'cancers', ',', 'including', 'breast', 'cancer', '(', '2-4', ')', '.', 'To', 'investigate', 'whether', 'the', 'presence', 'of', 'rare', 'HRAS1', 'alleles', 'increases', 'susceptibility', 'to', 'hereditary', 'breast', 'and', 'ovarian', 'cancer', ',', 'we', 'have', 'typed', 'a', 'panel', 'of', '307', 'female', 'BRCA1', 'carriers', 'at', 'this', 'locus', 'using', 'a', 'PCR-based', 'technique', '.', 'The', 'risk', 'for', 'ovarian', 'cancer', 'was', '2', '.', '11', 'times', 'greater', 'for', 'BRCA1', 'carriers', 'harbouring', 'one', 'or', 'two', 'rare', 'HRAS1', 'alleles', ',', 'compared', 'to', 'carriers', 'with', 'only', 'common', 'alleles', '(', 'P', '=', '0', '.', '015', ')', '.', 'The', 'magnitude', 'of', 'the', 'relative', 'risk', 'associated', 'with', 'a', 'rare', 'HRAS1', 'allele', 'was', 'not', 'altered', 'by', 'adjusting', 'for', 'the', 'other', 'known', 'risk', 'factors', 'for', 'hereditary', 'ovarian', 'cancer', '(', '5', ')', '.', 'Susceptibility', 'to', 'breast', 'cancer', 'did', 'not', 'appear', 'to', 'be', 'affected', 'by', 'the', 'presence', 'of', 'rare', 'HRAS1', 'alleles', '.', 'This', 'study', 'is', 'the', 'first', 'to', 'show', 'the', 'effect', 'of', 'a', 'modifying', 'gene', 'on', 'the', 'penetrance', 'of', 'an', 'inherited', 'cancer', 'syndrome']\n",
      "[NeMo I 2024-03-04 02:29:10 text_classification_dataset:240] subtokens: [CLS] o ##var ##ian cancer risk in br ##ca ##1 carriers is modified by the hr ##as ##1 variable number of tandem repeat ( v ##nt ##r ) locus . women who carry a mutation in the br ##ca ##1 gene ( on chromosome 17 ##q ##21 ) , have an 80 % risk of breast cancer and a 40 % risk of o ##var ##ian cancer by the age of 70 ( ref . 1 ) . the variable pen ##et ##rance of br ##ca ##1 suggests that other genetic and non - genetic factors play a role in tu ##mour ##igen ##esis in these individuals . the hr ##as ##1 variable number of tandem repeats ( v ##nt ##r ) poly ##morphism , located 1 ki [SEP]\n",
      "[NeMo I 2024-03-04 02:29:10 text_classification_dataset:241] input_ids: 101 1051 10755 2937 4456 3891 1999 7987 3540 2487 11363 2003 6310 2011 1996 17850 3022 2487 8023 2193 1997 18231 9377 1006 1058 3372 2099 1007 25206 1012 2308 2040 4287 1037 16221 1999 1996 7987 3540 2487 4962 1006 2006 16706 2459 4160 17465 1007 1010 2031 2019 3770 1003 3891 1997 7388 4456 1998 1037 2871 1003 3891 1997 1051 10755 2937 4456 2011 1996 2287 1997 3963 1006 25416 1012 1015 1007 1012 1996 8023 7279 3388 21621 1997 7987 3540 2487 6083 2008 2060 7403 1998 2512 1011 7403 5876 2377 1037 2535 1999 10722 20360 29206 19009 1999 2122 3633 1012 1996 17850 3022 2487 8023 2193 1997 18231 17993 1006 1058 3372 2099 1007 26572 19539 1010 2284 1015 11382 102\n",
      "[NeMo I 2024-03-04 02:29:10 text_classification_dataset:242] segment_ids: 0 0 0 0 0 0 0 0 0 0 0 0 0 0 0 0 0 0 0 0 0 0 0 0 0 0 0 0 0 0 0 0 0 0 0 0 0 0 0 0 0 0 0 0 0 0 0 0 0 0 0 0 0 0 0 0 0 0 0 0 0 0 0 0 0 0 0 0 0 0 0 0 0 0 0 0 0 0 0 0 0 0 0 0 0 0 0 0 0 0 0 0 0 0 0 0 0 0 0 0 0 0 0 0 0 0 0 0 0 0 0 0 0 0 0 0 0 0 0 0 0 0 0 0 0 0 0 0 0\n",
      "[NeMo I 2024-03-04 02:29:10 text_classification_dataset:243] input_mask: 1 1 1 1 1 1 1 1 1 1 1 1 1 1 1 1 1 1 1 1 1 1 1 1 1 1 1 1 1 1 1 1 1 1 1 1 1 1 1 1 1 1 1 1 1 1 1 1 1 1 1 1 1 1 1 1 1 1 1 1 1 1 1 1 1 1 1 1 1 1 1 1 1 1 1 1 1 1 1 1 1 1 1 1 1 1 1 1 1 1 1 1 1 1 1 1 1 1 1 1 1 1 1 1 1 1 1 1 1 1 1 1 1 1 1 1 1 1 1 1 1 1 1 1 1 1 1 1 1\n",
      "[NeMo I 2024-03-04 02:29:10 text_classification_dataset:244] label: 0\n",
      "[NeMo W 2024-03-04 02:29:12 text_classification_dataset:250] Found 99 out of 100 sentences with more than 128 subtokens. Truncated long sentences from the end.\n",
      "[NeMo I 2024-03-04 02:29:12 data_preprocessing:299] Some stats of the lengths of the sequences:\n",
      "[NeMo I 2024-03-04 02:29:12 data_preprocessing:301] Min: 120 |                  Max: 129 |                  Mean: 128.91 |                  Median: 129.0\n",
      "[NeMo I 2024-03-04 02:29:12 data_preprocessing:307] 75 percentile: 129.00\n",
      "[NeMo I 2024-03-04 02:29:12 data_preprocessing:308] 99 percentile: 129.00\n",
      "[NeMo I 2024-03-04 02:29:12 text_classification_dataset:120] Read 10 examples from /dli/task/data/NCBI_tc-3/test_nemo_format.tsv.\n",
      "[NeMo I 2024-03-04 02:29:12 text_classification_dataset:238] *** Example ***\n",
      "[NeMo I 2024-03-04 02:29:12 text_classification_dataset:239] example 0: ['Clustering', 'of', 'missense', 'mutations', 'in', 'the', 'ataxia-telangiectasia', 'gene', 'in', 'a', 'sporadic', 'T-cell', 'leukaemia.', 'Ataxia-telangiectasia', '(', 'A-T', ')', 'is', 'a', 'recessive', 'multi-system', 'disorder', 'caused', 'by', 'mutations', 'in', 'the', 'ATM', 'gene', 'at', '11q22-q23', '(', 'ref', '.', '3', ')', '.', 'The', 'risk', 'of', 'cancer', ',', 'especially', 'lymphoid', 'neoplasias', ',', 'is', 'substantially', 'elevated', 'in', 'A-T', 'patients', 'and', 'has', 'long', 'been', 'associated', 'with', 'chromosomal', 'instability', '.', 'By', 'analysing', 'tumour', 'DNA', 'from', 'patients', 'with', 'sporadic', 'T-cell', 'prolymphocytic', 'leukaemia', '(', 'T-PLL', ')', ',', 'a', 'rare', 'clonal', 'malignancy', 'with', 'similarities', 'to', 'a', 'mature', 'T-cell', 'leukaemia', 'seen', 'in', 'A-T', ',', 'we', 'demonstrate', 'a', 'high', 'frequency', 'of', 'ATM', 'mutations', 'in', 'T-PLL', '.', 'In', 'marked', 'contrast', 'to', 'the', 'ATM', 'mutation', 'pattern', 'in', 'A-T', ',', 'the', 'most', 'frequent', 'nucleotide', 'changes', 'in', 'this', 'leukaemia', 'were', 'missense', 'mutations', '.', 'These', 'clustered', 'in', 'the', 'region', 'corresponding', 'to', 'the', 'kinase', 'domain', ',', 'which', 'is', 'highly', 'conserved', 'in', 'ATM-related', 'proteins', 'in', 'mouse', ',', 'yeast', 'and', 'Drosophila', '.', 'The', 'resulting', 'amino-acid', 'substitutions', 'are', 'predicted', 'to', 'interfere', 'with', 'ATP', 'binding', 'or', 'substrate', 'recognition', '.', 'Two', 'of', 'seventeen', 'mutated', 'T-PLL', 'samples', 'had', 'a', 'previously', 'reported', 'A-T', 'allele', '.', 'In', 'contrast', ',', 'no', 'mutations', 'were', 'detected', 'in', 'the', 'p53', 'gene', ',', 'suggesting', 'that', 'this', 'tumour', 'suppressor', 'is', 'not', 'frequently', 'altered', 'in', 'this', 'leukaemia', '.', 'Occasional', 'missense', 'mutations', 'in', 'ATM', 'were', 'also', 'found', 'in', 'tumour', 'DNA', 'from', 'patients', 'with', 'B-cell', 'non-Hodgkins', 'lymphomas', '(', 'B-NHL', ')', 'and', 'a', 'B-NHL', 'cell', 'line', '.', 'The', 'evidence', 'of', 'a', 'significant', 'proportion', 'of', 'loss-of-function', 'mutations', 'and', 'a', 'complete', 'absence', 'of', 'the', 'normal', 'copy', 'of', 'ATM', 'in', 'the', 'majority', 'of', 'mutated', 'tumours', 'establishes', 'somatic', 'inactivation', 'of', 'this', 'gene', 'in', 'the', 'pathogenesis', 'of', 'sporadic', 'T-PLL', 'and', 'suggests', 'that', 'ATM', 'acts', 'as', 'a', 'tumour', 'suppressor', '.', 'As', 'constitutional', 'DNA', 'was', 'not', 'available', ',', 'a', 'putative', 'hereditary', 'predisposition', 'to', 'T-PLL', 'will', 'require', 'further', 'investigation', '.', '.']\n",
      "[NeMo I 2024-03-04 02:29:12 text_classification_dataset:240] subtokens: [CLS] cluster ##ing of miss ##ense mutations in the ata ##xia - tel ##ang ##iec ##tas ##ia gene in a sporadic t - cell le ##uka ##emia . ata ##xia - tel ##ang ##iec ##tas ##ia ( a - t ) is a recess ##ive multi - system disorder caused by mutations in the atm gene at 11 ##q ##22 - q ##23 ( ref . 3 ) . the risk of cancer , especially l ##ym ##ph ##oid neo ##pl ##asia ##s , is substantially elevated in a - t patients and has long been associated with ch ##rom ##osomal instability . by anal ##ys ##ing tu ##mour dna from patients with sporadic t - cell pro ##ly ##mp ##ho ##cy ##tic le ##uka ##emia ( t [SEP]\n",
      "[NeMo I 2024-03-04 02:29:12 text_classification_dataset:241] input_ids: 101 9324 2075 1997 3335 16700 14494 1999 1996 29533 14787 1011 10093 5654 23783 10230 2401 4962 1999 1037 24590 1056 1011 3526 3393 15750 17577 1012 29533 14787 1011 10093 5654 23783 10230 2401 1006 1037 1011 1056 1007 2003 1037 28290 3512 4800 1011 2291 8761 3303 2011 14494 1999 1996 27218 4962 2012 2340 4160 19317 1011 1053 21926 1006 25416 1012 1017 1007 1012 1996 3891 1997 4456 1010 2926 1048 24335 8458 9314 9253 24759 15396 2015 1010 2003 12381 8319 1999 1037 1011 1056 5022 1998 2038 2146 2042 3378 2007 10381 21716 27642 18549 1012 2011 20302 7274 2075 10722 20360 6064 2013 5022 2007 24590 1056 1011 3526 4013 2135 8737 6806 5666 4588 3393 15750 17577 1006 1056 102\n",
      "[NeMo I 2024-03-04 02:29:12 text_classification_dataset:242] segment_ids: 0 0 0 0 0 0 0 0 0 0 0 0 0 0 0 0 0 0 0 0 0 0 0 0 0 0 0 0 0 0 0 0 0 0 0 0 0 0 0 0 0 0 0 0 0 0 0 0 0 0 0 0 0 0 0 0 0 0 0 0 0 0 0 0 0 0 0 0 0 0 0 0 0 0 0 0 0 0 0 0 0 0 0 0 0 0 0 0 0 0 0 0 0 0 0 0 0 0 0 0 0 0 0 0 0 0 0 0 0 0 0 0 0 0 0 0 0 0 0 0 0 0 0 0 0 0 0 0 0\n",
      "[NeMo I 2024-03-04 02:29:12 text_classification_dataset:243] input_mask: 1 1 1 1 1 1 1 1 1 1 1 1 1 1 1 1 1 1 1 1 1 1 1 1 1 1 1 1 1 1 1 1 1 1 1 1 1 1 1 1 1 1 1 1 1 1 1 1 1 1 1 1 1 1 1 1 1 1 1 1 1 1 1 1 1 1 1 1 1 1 1 1 1 1 1 1 1 1 1 1 1 1 1 1 1 1 1 1 1 1 1 1 1 1 1 1 1 1 1 1 1 1 1 1 1 1 1 1 1 1 1 1 1 1 1 1 1 1 1 1 1 1 1 1 1 1 1 1 1\n",
      "[NeMo I 2024-03-04 02:29:12 text_classification_dataset:244] label: 0\n",
      "[NeMo I 2024-03-04 02:29:12 text_classification_dataset:238] *** Example ***\n",
      "[NeMo I 2024-03-04 02:29:12 text_classification_dataset:239] example 1: ['Myotonic', 'dystrophy', 'protein', 'kinase', 'is', 'involved', 'in', 'the', 'modulation', 'of', 'the', 'Ca2+', 'homeostasis', 'in', 'skeletal', 'muscle', 'cells.', 'Myotonic', 'dystrophy', '(', 'DM', ')', ',', 'the', 'most', 'prevalent', 'muscular', 'disorder', 'in', 'adults', ',', 'is', 'caused', 'by', '(', 'CTG', ')', 'n-repeat', 'expansion', 'in', 'a', 'gene', 'encoding', 'a', 'protein', 'kinase', '(', 'DM', 'protein', 'kinase', ';', 'DMPK', ')', 'and', 'involves', 'changes', 'in', 'cytoarchitecture', 'and', 'ion', 'homeostasis', '.', 'To', 'obtain', 'clues', 'to', 'the', 'normal', 'biological', 'role', 'of', 'DMPK', 'in', 'cellular', 'ion', 'homeostasis', ',', 'we', 'have', 'compared', 'the', 'resting', '[', 'Ca2', '+', ']', 'i', ',', 'the', 'amplitude', 'and', 'shape', 'of', 'depolarization-induced', 'Ca2', '+', 'transients', ',', 'and', 'the', 'content', 'of', 'ATP-driven', 'ion', 'pumps', 'in', 'cultured', 'skeletal', 'muscle', 'cells', 'of', 'wild-type', 'and', 'DMPK', '[', '-', '/', '-', ']', 'knockout', 'mice', '.', 'In', 'vitro-differentiated', 'DMPK', '[', '-', '/', '-', ']', 'myotubes', 'exhibit', 'a', 'higher', 'resting', '[', 'Ca2', '+', ']', 'i', 'than', 'do', 'wild-type', 'myotubes', 'because', 'of', 'an', 'altered', 'open', 'probability', 'of', 'voltage-dependent', 'l-type', 'Ca2', '+', 'and', 'Na', '+', 'channels', '.', 'The', 'mutant', 'myotubes', 'exhibit', 'smaller', 'and', 'slower', 'Ca2', '+', 'responses', 'upon', 'triggering', 'by', 'acetylcholine', 'or', 'high', 'external', 'K', '+', '.', 'In', 'addition', ',', 'we', 'observed', 'that', 'these', 'Ca2', '+', 'transients', 'partially', 'result', 'from', 'an', 'influx', 'of', 'extracellular', 'Ca2', '+', 'through', 'the', 'l-type', 'Ca2', '+', 'channel', '.', 'Neither', 'the', 'content', 'nor', 'the', 'activity', 'of', 'Na', '+', '/', 'K', '+', 'ATPase', 'and', 'sarcoplasmic', 'reticulum', 'Ca2', '+', '-ATPase', 'are', 'affected', 'by', 'DMPK', 'absence', '.', 'In', 'conclusion', ',', 'our', 'data', 'suggest', 'that', 'DMPK', 'is', 'involved', 'in', 'modulating', 'the', 'initial', 'events', 'of', 'excitation-contraction', 'coupling', 'in', 'skeletal', 'muscle', '.', '.']\n",
      "[NeMo I 2024-03-04 02:29:12 text_classification_dataset:240] subtokens: [CLS] my ##oton ##ic d ##yst ##rop ##hy protein kinase is involved in the modulation of the ca ##2 + home ##osta ##sis in skeletal muscle cells . my ##oton ##ic d ##yst ##rop ##hy ( d ##m ) , the most prevalent muscular disorder in adults , is caused by ( ct ##g ) n - repeat expansion in a gene encoding a protein kinase ( d ##m protein kinase ; d ##mp ##k ) and involves changes in cy ##to ##ar ##chi ##tec ##ture and ion home ##osta ##sis . to obtain clues to the normal biological role of d ##mp ##k in cellular ion home ##osta ##sis , we have compared the resting [ ca ##2 + ] i , the amplitude and shape of [SEP]\n",
      "[NeMo I 2024-03-04 02:29:12 text_classification_dataset:241] input_ids: 101 2026 25862 2594 1040 27268 18981 10536 5250 21903 2003 2920 1999 1996 25502 1997 1996 6187 2475 1009 2188 28696 6190 1999 20415 6740 4442 1012 2026 25862 2594 1040 27268 18981 10536 1006 1040 2213 1007 1010 1996 2087 15157 13472 8761 1999 6001 1010 2003 3303 2011 1006 14931 2290 1007 1050 1011 9377 4935 1999 1037 4962 17181 1037 5250 21903 1006 1040 2213 5250 21903 1025 1040 8737 2243 1007 1998 7336 3431 1999 22330 3406 2906 5428 26557 11244 1998 10163 2188 28696 6190 1012 2000 6855 15774 2000 1996 3671 6897 2535 1997 1040 8737 2243 1999 12562 10163 2188 28696 6190 1010 2057 2031 4102 1996 8345 1031 6187 2475 1009 1033 1045 1010 1996 22261 1998 4338 1997 102\n",
      "[NeMo I 2024-03-04 02:29:12 text_classification_dataset:242] segment_ids: 0 0 0 0 0 0 0 0 0 0 0 0 0 0 0 0 0 0 0 0 0 0 0 0 0 0 0 0 0 0 0 0 0 0 0 0 0 0 0 0 0 0 0 0 0 0 0 0 0 0 0 0 0 0 0 0 0 0 0 0 0 0 0 0 0 0 0 0 0 0 0 0 0 0 0 0 0 0 0 0 0 0 0 0 0 0 0 0 0 0 0 0 0 0 0 0 0 0 0 0 0 0 0 0 0 0 0 0 0 0 0 0 0 0 0 0 0 0 0 0 0 0 0 0 0 0 0 0 0\n",
      "[NeMo I 2024-03-04 02:29:12 text_classification_dataset:243] input_mask: 1 1 1 1 1 1 1 1 1 1 1 1 1 1 1 1 1 1 1 1 1 1 1 1 1 1 1 1 1 1 1 1 1 1 1 1 1 1 1 1 1 1 1 1 1 1 1 1 1 1 1 1 1 1 1 1 1 1 1 1 1 1 1 1 1 1 1 1 1 1 1 1 1 1 1 1 1 1 1 1 1 1 1 1 1 1 1 1 1 1 1 1 1 1 1 1 1 1 1 1 1 1 1 1 1 1 1 1 1 1 1 1 1 1 1 1 1 1 1 1 1 1 1 1 1 1 1 1 1\n",
      "[NeMo I 2024-03-04 02:29:12 text_classification_dataset:244] label: 1\n",
      "[NeMo W 2024-03-04 02:29:12 text_classification_dataset:250] Found 10 out of 10 sentences with more than 128 subtokens. Truncated long sentences from the end.\n",
      "[NeMo I 2024-03-04 02:29:12 data_preprocessing:299] Some stats of the lengths of the sequences:\n",
      "[NeMo I 2024-03-04 02:29:12 data_preprocessing:301] Min: 129 |                  Max: 129 |                  Mean: 129.0 |                  Median: 129.0\n",
      "[NeMo I 2024-03-04 02:29:12 data_preprocessing:307] 75 percentile: 129.00\n",
      "[NeMo I 2024-03-04 02:29:12 data_preprocessing:308] 99 percentile: 129.00\n",
      "[NeMo W 2024-03-04 02:29:12 modelPT:197] You tried to register an artifact under config key=tokenizer.vocab_file but an artifact forit has already been registered.\n",
      "[NeMo W 2024-03-04 02:29:12 nemo_logging:349] /opt/conda/lib/python3.8/site-packages/nemo/core/classes/modelPT.py:243: UserWarning: update_node() is deprecated, use OmegaConf.update(). (Since 2.0)\n",
      "      self.cfg.update_node(config_path, return_path)\n",
      "    \n",
      "Lock 140461156383328 acquired on /root/.cache/huggingface/transformers/a8041bf617d7f94ea26d15e218abd04afc2004805632abc0ed2066aa16d50d04.faf6ea826ae9c5867d12b22257f9877e6b8367890837bd60f7c54a29633f7f2f.lock\n",
      "Downloading: 100%|███████████████████████████| 440M/440M [00:05<00:00, 81.2MB/s]\n",
      "Lock 140461156383328 released on /root/.cache/huggingface/transformers/a8041bf617d7f94ea26d15e218abd04afc2004805632abc0ed2066aa16d50d04.faf6ea826ae9c5867d12b22257f9877e6b8367890837bd60f7c54a29633f7f2f.lock\n",
      "Some weights of the model checkpoint at bert-base-uncased were not used when initializing BertModel: ['cls.predictions.transform.LayerNorm.bias', 'cls.seq_relationship.weight', 'cls.predictions.decoder.weight', 'cls.predictions.bias', 'cls.predictions.transform.LayerNorm.weight', 'cls.predictions.transform.dense.weight', 'cls.predictions.transform.dense.bias', 'cls.seq_relationship.bias']\n",
      "- This IS expected if you are initializing BertModel from the checkpoint of a model trained on another task or with another architecture (e.g. initializing a BertForSequenceClassification model from a BertForPreTraining model).\n",
      "- This IS NOT expected if you are initializing BertModel from the checkpoint of a model that you expect to be exactly identical (initializing a BertForSequenceClassification model from a BertForSequenceClassification model).\n",
      "Some weights of the model checkpoint at bert-base-uncased were not used when initializing BertEncoder: ['cls.predictions.transform.LayerNorm.bias', 'cls.seq_relationship.weight', 'cls.predictions.decoder.weight', 'cls.predictions.bias', 'cls.predictions.transform.LayerNorm.weight', 'cls.predictions.transform.dense.weight', 'cls.predictions.transform.dense.bias', 'cls.seq_relationship.bias']\n",
      "- This IS expected if you are initializing BertEncoder from the checkpoint of a model trained on another task or with another architecture (e.g. initializing a BertForSequenceClassification model from a BertForPreTraining model).\n",
      "- This IS NOT expected if you are initializing BertEncoder from the checkpoint of a model that you expect to be exactly identical (initializing a BertForSequenceClassification model from a BertForSequenceClassification model).\n",
      "[NeMo I 2024-03-04 02:29:19 text_classification_with_bert:118] ===========================================================================================\n",
      "[NeMo I 2024-03-04 02:29:19 text_classification_with_bert:119] Starting training...\n",
      "LOCAL_RANK: 0 - CUDA_VISIBLE_DEVICES: [0]\n",
      "[NeMo I 2024-03-04 02:29:19 modelPT:748] Optimizer config = Adam (\n",
      "    Parameter Group 0\n",
      "        amsgrad: False\n",
      "        betas: [0.9, 0.999]\n",
      "        eps: 1e-08\n",
      "        lr: 2e-05\n",
      "        weight_decay: 0.01\n",
      "    )\n",
      "[NeMo I 2024-03-04 02:29:19 lr_scheduler:617] Scheduler \"<nemo.core.optim.lr_scheduler.WarmupAnnealing object at 0x7fbfa954b730>\" \n",
      "    will be used during training (effective maximum steps = 33) - \n",
      "    Parameters : \n",
      "    (warmup_steps: null\n",
      "    warmup_ratio: 0.1\n",
      "    last_epoch: -1\n",
      "    max_steps: 33\n",
      "    )\n",
      "initializing ddp: GLOBAL_RANK: 0, MEMBER: 1/1\n",
      "Added key: store_based_barrier_key:1 to store for rank: 0\n",
      "\n",
      "  | Name                  | Type                 | Params\n",
      "---------------------------------------------------------------\n",
      "0 | loss                  | CrossEntropyLoss     | 0     \n",
      "1 | bert_model            | BertEncoder          | 109 M \n",
      "2 | classifier            | SequenceClassifier   | 592 K \n",
      "3 | classification_report | ClassificationReport | 0     \n",
      "---------------------------------------------------------------\n",
      "110 M     Trainable params\n",
      "0         Non-trainable params\n",
      "110 M     Total params\n",
      "440.301   Total estimated model params size (MB)\n",
      "Epoch 0:  85%|▊| 11/13 [00:03<00:00,  2.88it/s, loss=1.04, v_num=8-59, lr=1.6e-5\n",
      "Validating: 0it [00:00, ?it/s]\u001b[A\n",
      "Validating:   0%|                                         | 0/2 [00:00<?, ?it/s]\u001b[A\n",
      "Epoch 0: 100%|█| 13/13 [00:04<00:00,  3.23it/s, loss=1.04, v_num=8-59, lr=1.6e-5\u001b[A[NeMo I 2024-03-04 02:29:26 text_classification_model:165] val_report: \n",
      "    label                                                precision    recall       f1           support   \n",
      "    label_id: 0                                              0.00       0.00       0.00         32\n",
      "    label_id: 1                                              0.00       0.00       0.00         24\n",
      "    label_id: 2                                             44.00     100.00      61.11         44\n",
      "    -------------------\n",
      "    micro avg                                               44.00      44.00      44.00        100\n",
      "    macro avg                                               14.67      33.33      20.37        100\n",
      "    weighted avg                                            19.36      44.00      26.89        100\n",
      "    \n",
      "Epoch 0: 100%|█| 13/13 [00:04<00:00,  3.16it/s, loss=1.04, v_num=8-59, lr=1.53e-\n",
      "                                                                                \u001b[AEpoch 0, global step 10: val_loss reached 1.08997 (best 1.08997), saving model to \"/dli/task/nemo_experiments/TextClassification/2024-03-04_02-28-59/checkpoints/TextClassification--val_loss=1.09-epoch=0.ckpt\" as top 3\n",
      "Epoch 1:  92%|▉| 12/13 [00:03<00:00,  3.60it/s, loss=1.01, v_num=8-59, lr=8.67e-\n",
      "Validating: 0it [00:00, ?it/s]\u001b[A\n",
      "Validating:   0%|                                         | 0/2 [00:00<?, ?it/s]\u001b[A\n",
      "Validating:  50%|████████████████▌                | 1/2 [00:00<00:00,  5.11it/s]\u001b[A[NeMo I 2024-03-04 02:29:33 text_classification_model:165] val_report: \n",
      "    label                                                precision    recall       f1           support   \n",
      "    label_id: 0                                              0.00       0.00       0.00         32\n",
      "    label_id: 1                                              0.00       0.00       0.00         24\n",
      "    label_id: 2                                             44.00     100.00      61.11         44\n",
      "    -------------------\n",
      "    micro avg                                               44.00      44.00      44.00        100\n",
      "    macro avg                                               14.67      33.33      20.37        100\n",
      "    weighted avg                                            19.36      44.00      26.89        100\n",
      "    \n",
      "Epoch 1: 100%|█| 13/13 [00:03<00:00,  3.60it/s, loss=1.01, v_num=8-59, lr=8e-6, \n",
      "                                                                                \u001b[AEpoch 1, global step 21: val_loss reached 1.10328 (best 1.08997), saving model to \"/dli/task/nemo_experiments/TextClassification/2024-03-04_02-28-59/checkpoints/TextClassification--val_loss=1.10-epoch=1.ckpt\" as top 3\n",
      "Epoch 2:  92%|▉| 12/13 [00:03<00:00,  3.62it/s, loss=0.988, v_num=8-59, lr=1.33e\n",
      "Validating: 0it [00:00, ?it/s]\u001b[A\n",
      "Validating:   0%|                                         | 0/2 [00:00<?, ?it/s]\u001b[A\n",
      "Validating:  50%|████████████████▌                | 1/2 [00:00<00:00,  4.89it/s]\u001b[A[NeMo I 2024-03-04 02:29:40 text_classification_model:165] val_report: \n",
      "    label                                                precision    recall       f1           support   \n",
      "    label_id: 0                                              0.00       0.00       0.00         32\n",
      "    label_id: 1                                              0.00       0.00       0.00         24\n",
      "    label_id: 2                                             44.00     100.00      61.11         44\n",
      "    -------------------\n",
      "    micro avg                                               44.00      44.00      44.00        100\n",
      "    macro avg                                               14.67      33.33      20.37        100\n",
      "    weighted avg                                            19.36      44.00      26.89        100\n",
      "    \n",
      "Epoch 2: 100%|█| 13/13 [00:03<00:00,  3.60it/s, loss=0.988, v_num=8-59, lr=6.67e\n",
      "                                                                                \u001b[AEpoch 2, global step 32: val_loss reached 1.08639 (best 1.08639), saving model to \"/dli/task/nemo_experiments/TextClassification/2024-03-04_02-28-59/checkpoints/TextClassification--val_loss=1.09-epoch=2.ckpt\" as top 3\n",
      "Saving latest checkpoint...\n",
      "Epoch 2: 100%|█| 13/13 [00:07<00:00,  1.75it/s, loss=0.988, v_num=8-59, lr=6.67e\n",
      "[NeMo W 2024-03-04 02:29:44 nemo_logging:349] /opt/conda/lib/python3.8/site-packages/nemo/core/classes/modelPT.py:308: UserWarning: update_node() is deprecated, use OmegaConf.update(). (Since 2.0)\n",
      "      conf.update_node(conf_path, item.path)\n",
      "    \n",
      "[NeMo I 2024-03-04 02:30:07 text_classification_with_bert:121] Training finished!\n",
      "[NeMo I 2024-03-04 02:30:07 text_classification_with_bert:122] ===========================================================================================\n",
      "[NeMo I 2024-03-04 02:30:28 text_classification_with_bert:127] Model is saved into `.nemo` file: text_classification_model.nemo\n",
      "[NeMo I 2024-03-04 02:30:28 text_classification_with_bert:131] ===========================================================================================\n",
      "[NeMo I 2024-03-04 02:30:28 text_classification_with_bert:132] Starting the testing of the trained model on test set...\n",
      "LOCAL_RANK: 0 - CUDA_VISIBLE_DEVICES: [0]\n",
      "Testing: 100%|████████████████████████████████████| 1/1 [00:00<00:00,  9.89it/s][NeMo I 2024-03-04 02:30:29 text_classification_model:165] test_report: \n",
      "    label                                                precision    recall       f1           support   \n",
      "    label_id: 0                                              0.00       0.00       0.00          4\n",
      "    label_id: 1                                              0.00       0.00       0.00          2\n",
      "    label_id: 2                                             40.00     100.00      57.14          4\n",
      "    -------------------\n",
      "    micro avg                                               40.00      40.00      40.00         10\n",
      "    macro avg                                               13.33      33.33      19.05         10\n",
      "    weighted avg                                            16.00      40.00      22.86         10\n",
      "    \n",
      "Testing: 100%|████████████████████████████████████| 1/1 [00:00<00:00,  7.26it/s]\n",
      "[NeMo I 2024-03-04 02:30:29 text_classification_with_bert:134] Testing finished!\n",
      "[NeMo I 2024-03-04 02:30:29 text_classification_with_bert:135] ===========================================================================================\n",
      "[NeMo I 2024-03-04 02:30:29 text_classification_with_bert:139] ===========================================================================================\n",
      "[NeMo I 2024-03-04 02:30:29 text_classification_with_bert:140] Starting the inference on some sample queries...\n",
      "[NeMo I 2024-03-04 02:30:29 text_classification_with_bert:144] The prediction results of some sample queries with the trained model:\n",
      "[NeMo I 2024-03-04 02:30:29 text_classification_with_bert:146] Query : In contrast no mutations were detected in the p53 gene suggesting that this tumour suppressor is not frequently altered in this leukaemia\n",
      "[NeMo I 2024-03-04 02:30:29 text_classification_with_bert:147] Predicted label: 2\n",
      "[NeMo I 2024-03-04 02:30:29 text_classification_with_bert:146] Query : The first predictive testing for Huntington disease  was based on analysis of linked polymorphic DNA markers to estimate the likelihood of inheriting the mutation for HD\n",
      "[NeMo I 2024-03-04 02:30:29 text_classification_with_bert:147] Predicted label: 2\n",
      "[NeMo I 2024-03-04 02:30:29 text_classification_with_bert:146] Query : Further studies suggested that low dilutions of C5D serum contain a factor or factors interfering at some step in the hemolytic assay of C5 rather than a true C5 inhibitor or inactivator\n",
      "[NeMo I 2024-03-04 02:30:29 text_classification_with_bert:147] Predicted label: 2\n",
      "[NeMo I 2024-03-04 02:30:29 text_classification_with_bert:149] Inference finished!\n",
      "[NeMo I 2024-03-04 02:30:29 text_classification_with_bert:150] ===========================================================================================\n",
      "CPU times: user 770 ms, sys: 417 ms, total: 1.19 s\n",
      "Wall time: 1min 35s\n"
     ]
    }
   ],
   "source": [
    "%%time\n",
    "# The training takes about 3 minutes to run\n",
    "\n",
    "TC_DIR = \"/dli/task/nemo/examples/nlp/text_classification\"\n",
    "\n",
    "# set the values we want to override\n",
    "NUM_CLASSES = 3\n",
    "MAX_SEQ_LENGTH = 128\n",
    "PATH_TO_TRAIN_FILE = \"/dli/task/data/NCBI_tc-3/train_nemo_format.tsv\"\n",
    "PATH_TO_VAL_FILE = \"/dli/task/data/NCBI_tc-3/dev_nemo_format.tsv\"\n",
    "PATH_TO_TEST_FILE = \"/dli/task/data/NCBI_tc-3/test_nemo_format.tsv\"\n",
    "# disease domain inference sample answers should be 0, 1, 2 \n",
    "INFER_SAMPLES_0 = \"In contrast no mutations were detected in the p53 gene suggesting that this tumour suppressor is not frequently altered in this leukaemia \"\n",
    "INFER_SAMPLES_1 = \"The first predictive testing for Huntington disease  was based on analysis of linked polymorphic DNA markers to estimate the likelihood of inheriting the mutation for HD\"\n",
    "INFER_SAMPLES_2 = \"Further studies suggested that low dilutions of C5D serum contain a factor or factors interfering at some step in the hemolytic assay of C5 rather than a true C5 inhibitor or inactivator\"\n",
    "MAX_EPOCHS = 3\n",
    "\n",
    "# Run the training script, overriding the config values in the command line\n",
    "!python $TC_DIR/text_classification_with_bert.py \\\n",
    "        model.dataset.num_classes=$NUM_CLASSES \\\n",
    "        model.dataset.max_seq_length=$MAX_SEQ_LENGTH \\\n",
    "        model.train_ds.file_path=$PATH_TO_TRAIN_FILE \\\n",
    "        model.validation_ds.file_path=$PATH_TO_VAL_FILE \\\n",
    "        model.test_ds.file_path=$PATH_TO_TEST_FILE \\\n",
    "        model.infer_samples=[\"$INFER_SAMPLES_0\",\"$INFER_SAMPLES_1\",\"$INFER_SAMPLES_2\"] \\\n",
    "        trainer.max_epochs=$MAX_EPOCHS"
   ]
  },
  {
   "cell_type": "markdown",
   "metadata": {
    "id": "UYpyZQyihN9a"
   },
   "source": [
    "각 트레이닝 실험이 시작할때, 커맨트 라인을 통해 추가되거나, 재정의된 파라미터를 포함하여 실험 사양(specification)의 로그가 프린트됩니다. 또한, 사용 가능한 GPU , 로그 저장 위치 및 모델에 대한 해당 입력과 함께 데이터세트로부터 일부 샘플과 같은 추가 정보도 함께 표시됩니다. 로그는 데이터세트에 있는 시퀀스 길이에 대한 일부 통계 값도 제공합니다.\n",
    "\n",
    "각 epoch 후, 정밀도, 리콜, f1 점수를 포함한 검증 세트에 대한 메트릭 요약 테이블이 있습니다. f1 점수는 모든 false positive(위양성)와 false negative(위음성)을 모두 소고려하여 단순 정확도보다 더 유용한 것으로 간주됩니다.\n",
    "\n",
    "트레이닝이 끝나면, NeMo는 `model.nemo_file_path`에서 지정한 경로에 마지막 체크포인트를 저장합니다.  이 값을 기본 값으로 두었기 때문에 `.nemo` 형식으로 워크스페이스에 기록될 예정입니다.."
   ]
  },
  {
   "cell_type": "code",
   "execution_count": 13,
   "metadata": {
    "id": "R64okvdDhN9b"
   },
   "outputs": [
    {
     "name": "stdout",
     "output_type": "stream",
     "text": [
      "text_classification_model.nemo\n"
     ]
    }
   ],
   "source": [
    "!ls *.nemo"
   ]
  },
  {
   "cell_type": "markdown",
   "metadata": {
    "id": "Q07Wgk5NhN9b"
   },
   "source": [
    "실험에서 얻은 결과가 그렇게 좋지 않으셨을 수 도 있습니다. 하지만 몇 가지 변경만으로 다른 실험을 시도하는 것은 매우 쉽습니다. 더 긴 트레이닝, 조정된 학습 속도, 트레이닝와 검증 데이터 세트의 배치 크기를 변경하면 결과를 개선할 수 있습니다. "
   ]
  },
  {
   "cell_type": "markdown",
   "metadata": {
    "id": "grk32A6yhN9b"
   },
   "source": [
    "## 2.2.4 예제: Experiment 수행하기\n",
    "동일한 텍스트 분류 문제를 사용하여 다른 유사한 실험을 진행해 봅니다. 이번에는 몇 가지 개선 사항이 제안되었습니다. :\n",
    "  \n",
    "* 혼합 정밀도를 `amp_level` 를 \"O1\" 로 16의 `precision(정밀도)` 로 설정하여 정확도에 있어 거의 또는 전혀 저하되지 않고 모델을 더 빠르게 실행할 수 있도록 합니다. \n",
    "* Epoch(에포크) 수를 약간 위로 조정하여 결과를 개선합니다. (더 큰 `max_epochs`)\n",
    "* 학습 속도를 약간 높여 모델 가중치를 업데이트할 때 마다 예상 오류에 대해 보다 신속하게 대응할 수 있도록 합니다. \n",
    "\n",
    "아래 셀에 여러분을 위해 새로운 값이 제공되었습니다. 명령을 적절한 재정의와 함께 추가하고 셀을 실행합니다. 만약에 실습 진행에 어려움이 있으신 경우, [솔루션](solutions/ex2.2.4.ipynb)을 참고 합니다."
   ]
  },
  {
   "cell_type": "code",
   "execution_count": 14,
   "metadata": {
    "id": "1Bl3_RMbhN9c",
    "scrolled": true,
    "tags": []
   },
   "outputs": [
    {
     "name": "stdout",
     "output_type": "stream",
     "text": [
      "[NeMo W 2024-03-04 02:33:58 nemo_logging:349] /opt/conda/lib/python3.8/site-packages/omegaconf/basecontainer.py:225: UserWarning: cfg.pretty() is deprecated and will be removed in a future version.\n",
      "    Use OmegaConf.to_yaml(cfg)\n",
      "    \n",
      "      warnings.warn(\n",
      "    \n",
      "[NeMo I 2024-03-04 02:33:58 text_classification_with_bert:110] \n",
      "    Config Params:\n",
      "    trainer:\n",
      "      gpus: 1\n",
      "      num_nodes: 1\n",
      "      max_epochs: 5\n",
      "      max_steps: null\n",
      "      accumulate_grad_batches: 1\n",
      "      gradient_clip_val: 0.0\n",
      "      amp_level: O1\n",
      "      precision: 16\n",
      "      accelerator: ddp\n",
      "      log_every_n_steps: 1\n",
      "      val_check_interval: 1.0\n",
      "      resume_from_checkpoint: null\n",
      "      num_sanity_val_steps: 0\n",
      "      checkpoint_callback: false\n",
      "      logger: false\n",
      "    model:\n",
      "      nemo_path: text_classification_model.nemo\n",
      "      tokenizer:\n",
      "        tokenizer_name: ${model.language_model.pretrained_model_name}\n",
      "        vocab_file: null\n",
      "        tokenizer_model: null\n",
      "        special_tokens: null\n",
      "      language_model:\n",
      "        pretrained_model_name: bert-base-uncased\n",
      "        lm_checkpoint: null\n",
      "        config_file: null\n",
      "        config: null\n",
      "      classifier_head:\n",
      "        num_output_layers: 2\n",
      "        fc_dropout: 0.1\n",
      "      class_labels:\n",
      "        class_labels_file: null\n",
      "      dataset:\n",
      "        num_classes: 3\n",
      "        do_lower_case: false\n",
      "        max_seq_length: 128\n",
      "        class_balancing: null\n",
      "        use_cache: false\n",
      "      train_ds:\n",
      "        file_path: /dli/task/data/NCBI_tc-3/train_nemo_format.tsv\n",
      "        batch_size: 64\n",
      "        shuffle: true\n",
      "        num_samples: -1\n",
      "        num_workers: 3\n",
      "        drop_last: false\n",
      "        pin_memory: false\n",
      "      validation_ds:\n",
      "        file_path: /dli/task/data/NCBI_tc-3/dev_nemo_format.tsv\n",
      "        batch_size: 64\n",
      "        shuffle: false\n",
      "        num_samples: -1\n",
      "        num_workers: 3\n",
      "        drop_last: false\n",
      "        pin_memory: false\n",
      "      test_ds:\n",
      "        file_path: /dli/task/data/NCBI_tc-3/test_nemo_format.tsv\n",
      "        batch_size: 64\n",
      "        shuffle: false\n",
      "        num_samples: -1\n",
      "        num_workers: 3\n",
      "        drop_last: false\n",
      "        pin_memory: false\n",
      "      optim:\n",
      "        name: adam\n",
      "        lr: 5.0e-05\n",
      "        betas:\n",
      "        - 0.9\n",
      "        - 0.999\n",
      "        weight_decay: 0.01\n",
      "        sched:\n",
      "          name: WarmupAnnealing\n",
      "          warmup_steps: null\n",
      "          warmup_ratio: 0.1\n",
      "          last_epoch: -1\n",
      "          monitor: val_loss\n",
      "          reduce_on_plateau: false\n",
      "      infer_samples:\n",
      "      - In contrast no mutations were detected in the p53 gene suggesting that this tumour\n",
      "        suppressor is not frequently altered in this leukaemia\n",
      "      - The first predictive testing for Huntington disease  was based on analysis of\n",
      "        linked polymorphic DNA markers to estimate the likelihood of inheriting the mutation\n",
      "        for HD\n",
      "      - Further studies suggested that low dilutions of C5D serum contain a factor or\n",
      "        factors interfering at some step in the hemolytic assay of C5 rather than a true\n",
      "        C5 inhibitor or inactivator\n",
      "    exp_manager:\n",
      "      exp_dir: null\n",
      "      name: TextClassification\n",
      "      create_tensorboard_logger: true\n",
      "      create_checkpoint_callback: true\n",
      "    \n",
      "GPU available: True, used: True\n",
      "TPU available: False, using: 0 TPU cores\n",
      "Using native 16bit precision.\n",
      "[NeMo I 2024-03-04 02:33:58 exp_manager:216] Experiments will be logged at /dli/task/nemo_experiments/TextClassification/2024-03-04_02-33-58\n",
      "[NeMo I 2024-03-04 02:33:58 exp_manager:563] TensorboardLogger has been set up\n",
      "Using bos_token, but it is not set yet.\n",
      "Using eos_token, but it is not set yet.\n",
      "[NeMo I 2024-03-04 02:33:58 text_classification_dataset:120] Read 683 examples from /dli/task/data/NCBI_tc-3/train_nemo_format.tsv.\n",
      "[NeMo I 2024-03-04 02:33:58 text_classification_dataset:238] *** Example ***\n",
      "[NeMo I 2024-03-04 02:33:58 text_classification_dataset:239] example 0: ['Molecular', 'analysis', 'in', 'familial', 'neurohypophyseal', 'diabetes', 'insipidus:', 'early', 'diagnosis', 'of', 'an', 'asymptomatic', 'carrier.', 'Familial', 'neurohypophyseal', 'diabetes', 'insipidus', '(', 'FNDI', ')', 'is', 'an', 'inherited', 'deficiency', 'of', 'the', 'hormone', 'arginine', 'vasopressin', '(', 'AVP', ')', 'and', 'is', 'transmitted', 'as', 'an', 'autosomal', 'dominant', 'trait', '.', 'In', 'the', 'present', 'study', 'we', 'have', 'analyzed', 'the', 'AVP-neurophysin', 'II', '(', 'AVP-NPII', ')', 'gene', 'in', 'a', 'Spanish', 'kindred', '.', 'Studies', 'were', 'performed', 'on', 'seven', 'members', '(', 'four', 'clinically', 'affected', ')', 'of', 'the', 'family', '.', 'Patients', 'were', 'diagnosed', 'at', 'the', 'Hospital', 'Universitario', 'Gregorio', 'Maranon', '(', 'Madrid', ',', 'Spain', ')', '.', 'The', 'entire', 'coding', 'region', 'of', 'the', 'AVP-NPII', 'gene', 'of', 'all', 'family', 'members', 'was', 'amplified', 'by', 'PCR', 'and', 'sequenced', '.', 'All', 'affected', 'individuals', 'presented', 'a', 'missense', 'mutation', '(', 'G1757--', '>', 'A', ')', 'that', 'replaces', 'glycine', 'at', 'position', '23', 'with', 'arginine', 'within', 'the', 'NPII', 'domain', '.', 'The', 'substitution', 'was', 'confirmed', 'by', 'restriction', 'endonuclease', 'analysis', 'and', 'was', 'present', 'in', 'heterozygosis', '.', 'Additionally', ',', 'one', 'of', 'the', 'asymptomatic', 'relatives', '(', 'a', 'girl', '8', 'months', 'old', 'at', 'the', 'time', 'of', 'study', ')', 'was', 'identified', 'as', 'carrier', 'of', 'the', 'same', 'mutation', 'and', 'developed', 'the', 'disease', '3', 'months', 'later', '.', 'The', 'alteration', 'found', 'in', 'the', 'second', 'exon', 'of', 'the', 'gene', 'in', 'this', 'family', 'seems', 'to', 'be', 'responsible', 'for', 'the', 'disease', ',', 'as', 'all', 'individuals', 'harboring', 'the', 'mutation', 'had', 'been', 'previously', 'diagnosed', 'or', 'have', 'eventually', 'developed', 'FNDI', '.', 'Identification', 'of', 'the', 'molecular', 'defect', 'underlying', 'FNDI', 'in', 'affected', 'families', 'is', 'a', 'powerful', 'tool', 'for', 'early', 'asymptomatic', 'diagnosis', 'in', 'infants', '.', '.']\n",
      "[NeMo I 2024-03-04 02:33:58 text_classification_dataset:240] subtokens: [CLS] molecular analysis in fa ##mi ##lia ##l ne ##uro ##hy ##pop ##hy ##sea ##l diabetes ins ##ip ##id ##us : early diagnosis of an as ##ym ##pt ##oma ##tic carrier . fa ##mi ##lia ##l ne ##uro ##hy ##pop ##hy ##sea ##l diabetes ins ##ip ##id ##us ( f ##ndi ) is an inherited deficiency of the hormone ar ##gin ##ine va ##sop ##ress ##in ( av ##p ) and is transmitted as an auto ##som ##al dominant trait . in the present study we have analyzed the av ##p - ne ##uro ##phy ##sin ii ( av ##p - np ##ii ) gene in a spanish kind ##red . studies were performed on seven members ( four clinical ##ly affected ) of the family . patients [SEP]\n",
      "[NeMo I 2024-03-04 02:33:58 text_classification_dataset:241] input_ids: 101 8382 4106 1999 6904 4328 6632 2140 11265 10976 10536 16340 10536 17310 2140 14671 16021 11514 3593 2271 1024 2220 11616 1997 2019 2004 24335 13876 9626 4588 6839 1012 6904 4328 6632 2140 11265 10976 10536 16340 10536 17310 2140 14671 16021 11514 3593 2271 1006 1042 16089 1007 2003 2019 7900 18888 1997 1996 18714 12098 11528 3170 12436 28793 8303 2378 1006 20704 2361 1007 1998 2003 11860 2004 2019 8285 25426 2389 7444 18275 1012 1999 1996 2556 2817 2057 2031 16578 1996 20704 2361 1011 11265 10976 21281 11493 2462 1006 20704 2361 1011 27937 6137 1007 4962 1999 1037 3009 2785 5596 1012 2913 2020 2864 2006 2698 2372 1006 2176 6612 2135 5360 1007 1997 1996 2155 1012 5022 102\n",
      "[NeMo I 2024-03-04 02:33:58 text_classification_dataset:242] segment_ids: 0 0 0 0 0 0 0 0 0 0 0 0 0 0 0 0 0 0 0 0 0 0 0 0 0 0 0 0 0 0 0 0 0 0 0 0 0 0 0 0 0 0 0 0 0 0 0 0 0 0 0 0 0 0 0 0 0 0 0 0 0 0 0 0 0 0 0 0 0 0 0 0 0 0 0 0 0 0 0 0 0 0 0 0 0 0 0 0 0 0 0 0 0 0 0 0 0 0 0 0 0 0 0 0 0 0 0 0 0 0 0 0 0 0 0 0 0 0 0 0 0 0 0 0 0 0 0 0 0\n",
      "[NeMo I 2024-03-04 02:33:58 text_classification_dataset:243] input_mask: 1 1 1 1 1 1 1 1 1 1 1 1 1 1 1 1 1 1 1 1 1 1 1 1 1 1 1 1 1 1 1 1 1 1 1 1 1 1 1 1 1 1 1 1 1 1 1 1 1 1 1 1 1 1 1 1 1 1 1 1 1 1 1 1 1 1 1 1 1 1 1 1 1 1 1 1 1 1 1 1 1 1 1 1 1 1 1 1 1 1 1 1 1 1 1 1 1 1 1 1 1 1 1 1 1 1 1 1 1 1 1 1 1 1 1 1 1 1 1 1 1 1 1 1 1 1 1 1 1\n",
      "[NeMo I 2024-03-04 02:33:58 text_classification_dataset:244] label: 2\n",
      "[NeMo I 2024-03-04 02:33:58 text_classification_dataset:238] *** Example ***\n",
      "[NeMo I 2024-03-04 02:33:58 text_classification_dataset:239] example 1: ['Pendred', 'syndrome:', 'phenotypic', 'variability', 'in', 'two', 'families', 'carrying', 'the', 'same', 'PDS', 'missense', 'mutation.', 'Pendred', 'syndrome', 'comprises', 'congenital', 'sensorineural', 'hearing', 'loss', ',', 'thyroid', 'goiter', ',', 'and', 'positive', 'perchlorate', 'discharge', 'test', '.', 'Recently', ',', 'this', 'autosomal', 'recessive', 'disorder', 'was', 'shown', 'to', 'be', 'caused', 'by', 'mutations', 'in', 'the', 'PDS', 'gene', ',', 'which', 'encodes', 'an', 'anion', 'transporter', 'called', 'pendrin', '.', 'Molecular', 'analysis', 'of', 'the', 'PDS', 'gene', 'was', 'performed', 'in', 'two', 'consanguineous', 'large', 'families', 'from', 'Southern', 'Tunisia', 'comprising', 'a', 'total', 'of', '23', 'individuals', 'affected', 'with', 'profound', 'congenital', 'deafness', ';', 'the', 'same', 'missense', 'mutation', ',', 'L445W', ',', 'was', 'identified', 'in', 'all', 'affected', 'individuals', '.', 'A', 'widened', 'vestibular', 'aqueduct', 'was', 'found', 'in', 'all', 'patients', 'who', 'underwent', 'computed', 'tomography', '(', 'CT', ')', 'scan', 'exploration', 'of', 'the', 'inner', 'ear', '.', 'In', 'contrast', ',', 'goiter', 'was', 'present', 'in', 'only', '11', 'affected', 'individuals', ',', 'who', 'interestingly', 'had', 'a', 'normal', 'result', 'of', 'the', 'perchlorate', 'discharge', 'test', 'whenever', 'performed', '.', 'The', 'present', 'results', 'question', 'the', 'sensitivity', 'of', 'the', 'perchlorate', 'test', 'for', 'the', 'diagnosis', 'of', 'Pendred', 'syndrome', 'and', 'support', 'the', 'use', 'of', 'a', 'molecular', 'analysis', 'of', 'the', 'PDS', 'gene', 'in', 'the', 'assessment', 'of', 'individuals', 'with', 'severe', 'to', 'profound', 'congenital', 'hearing', 'loss', 'associated', 'with', 'inner', 'ear', 'morphological', 'anomaly', 'even', 'in', 'the', 'absence', 'of', 'a', 'thyroid', 'goiter', '.', '.']\n",
      "[NeMo I 2024-03-04 02:33:58 text_classification_dataset:240] subtokens: [CLS] pen ##dre ##d syndrome : ph ##eno ##typic variability in two families carrying the same pd ##s miss ##ense mutation . pen ##dre ##d syndrome comprises congenital sensor ##ine ##ural hearing loss , thyroid go ##iter , and positive perch ##lor ##ate discharge test . recently , this auto ##som ##al recess ##ive disorder was shown to be caused by mutations in the pd ##s gene , which en ##codes an an ##ion transport ##er called pen ##dr ##in . molecular analysis of the pd ##s gene was performed in two con ##san ##gui ##neo ##us large families from southern tunisia comprising a total of 23 individuals affected with profound congenital deaf ##ness ; the same miss ##ense mutation , l ##44 ##5 ##w , was identified [SEP]\n",
      "[NeMo I 2024-03-04 02:33:58 text_classification_dataset:241] input_ids: 101 7279 16200 2094 8715 1024 6887 16515 23186 28436 1999 2048 2945 4755 1996 2168 22851 2015 3335 16700 16221 1012 7279 16200 2094 8715 8681 27480 13617 3170 11137 4994 3279 1010 29610 2175 21646 1010 1998 3893 21836 10626 3686 11889 3231 1012 3728 1010 2023 8285 25426 2389 28290 3512 8761 2001 3491 2000 2022 3303 2011 14494 1999 1996 22851 2015 4962 1010 2029 4372 23237 2019 2019 3258 3665 2121 2170 7279 13626 2378 1012 8382 4106 1997 1996 22851 2015 4962 2001 2864 1999 2048 9530 8791 25698 23585 2271 2312 2945 2013 2670 13437 9605 1037 2561 1997 2603 3633 5360 2007 13769 27480 12419 2791 1025 1996 2168 3335 16700 16221 1010 1048 22932 2629 2860 1010 2001 4453 102\n",
      "[NeMo I 2024-03-04 02:33:58 text_classification_dataset:242] segment_ids: 0 0 0 0 0 0 0 0 0 0 0 0 0 0 0 0 0 0 0 0 0 0 0 0 0 0 0 0 0 0 0 0 0 0 0 0 0 0 0 0 0 0 0 0 0 0 0 0 0 0 0 0 0 0 0 0 0 0 0 0 0 0 0 0 0 0 0 0 0 0 0 0 0 0 0 0 0 0 0 0 0 0 0 0 0 0 0 0 0 0 0 0 0 0 0 0 0 0 0 0 0 0 0 0 0 0 0 0 0 0 0 0 0 0 0 0 0 0 0 0 0 0 0 0 0 0 0 0 0\n",
      "[NeMo I 2024-03-04 02:33:58 text_classification_dataset:243] input_mask: 1 1 1 1 1 1 1 1 1 1 1 1 1 1 1 1 1 1 1 1 1 1 1 1 1 1 1 1 1 1 1 1 1 1 1 1 1 1 1 1 1 1 1 1 1 1 1 1 1 1 1 1 1 1 1 1 1 1 1 1 1 1 1 1 1 1 1 1 1 1 1 1 1 1 1 1 1 1 1 1 1 1 1 1 1 1 1 1 1 1 1 1 1 1 1 1 1 1 1 1 1 1 1 1 1 1 1 1 1 1 1 1 1 1 1 1 1 1 1 1 1 1 1 1 1 1 1 1 1\n",
      "[NeMo I 2024-03-04 02:33:58 text_classification_dataset:244] label: 2\n",
      "[NeMo W 2024-03-04 02:34:09 text_classification_dataset:250] Found 664 out of 683 sentences with more than 128 subtokens. Truncated long sentences from the end.\n",
      "[NeMo I 2024-03-04 02:34:09 data_preprocessing:299] Some stats of the lengths of the sequences:\n",
      "[NeMo I 2024-03-04 02:34:09 data_preprocessing:301] Min: 74 |                  Max: 129 |                  Mean: 128.36163982430455 |                  Median: 129.0\n",
      "[NeMo I 2024-03-04 02:34:09 data_preprocessing:307] 75 percentile: 129.00\n",
      "[NeMo I 2024-03-04 02:34:09 data_preprocessing:308] 99 percentile: 129.00\n",
      "[NeMo I 2024-03-04 02:34:09 text_classification_dataset:120] Read 100 examples from /dli/task/data/NCBI_tc-3/dev_nemo_format.tsv.\n",
      "[NeMo I 2024-03-04 02:34:09 text_classification_dataset:238] *** Example ***\n",
      "[NeMo I 2024-03-04 02:34:09 text_classification_dataset:239] example 0: ['BRCA1', 'is', 'secreted', 'and', 'exhibits', 'properties', 'of', 'a', 'granin.', 'Germline', 'mutations', 'in', 'BRCA1', 'are', 'responsible', 'for', 'most', 'cases', 'of', 'inherited', 'breast', 'and', 'ovarian', 'cancer', '.', 'However', ',', 'the', 'function', 'of', 'the', 'BRCA1', 'protein', 'has', 'remained', 'elusive', '.', 'We', 'now', 'show', 'that', 'BRCA1', 'encodes', 'a', '190-kD', 'protein', 'with', 'sequence', 'homology', 'and', 'biochemical', 'analogy', 'to', 'the', 'granin', 'protein', 'family', '.', 'Interestingly', ',', 'BRCA2', 'also', 'includes', 'a', 'motif', 'similar', 'to', 'the', 'granin', 'consensus', 'at', 'the', 'C', 'terminus', 'of', 'the', 'protein', '.', 'Both', 'BRCA1', 'and', 'the', 'granins', 'localize', 'to', 'secretory', 'vesicles', ',', 'are', 'secreted', 'by', 'a', 'regulated', 'pathway', ',', 'are', 'post-translationally', 'glycosylated', 'and', 'are', 'responsive', 'to', 'hormones', '.', 'As', 'a', 'regulated', 'secretory', 'protein', ',', 'BRCA1', 'appears', 'to', 'function', 'by', 'a', 'mechanism', 'not', 'previously', 'described', 'for', 'tumour', 'suppressor', 'gene', 'products', '.', '.']\n",
      "[NeMo I 2024-03-04 02:34:09 text_classification_dataset:240] subtokens: [CLS] br ##ca ##1 is secret ##ed and exhibits properties of a gran ##in . ge ##rm ##line mutations in br ##ca ##1 are responsible for most cases of inherited breast and o ##var ##ian cancer . however , the function of the br ##ca ##1 protein has remained elusive . we now show that br ##ca ##1 en ##codes a 190 - k ##d protein with sequence homo ##logy and bio ##chemical analogy to the gran ##in protein family . interesting ##ly , br ##ca ##2 also includes a motif similar to the gran ##in consensus at the c terminus of the protein . both br ##ca ##1 and the gran ##ins local ##ize to secret ##ory ve ##sic ##les , are secret ##ed by a regulated [SEP]\n",
      "[NeMo I 2024-03-04 02:34:09 text_classification_dataset:241] input_ids: 101 7987 3540 2487 2003 3595 2098 1998 10637 5144 1997 1037 12604 2378 1012 16216 10867 4179 14494 1999 7987 3540 2487 2024 3625 2005 2087 3572 1997 7900 7388 1998 1051 10755 2937 4456 1012 2174 1010 1996 3853 1997 1996 7987 3540 2487 5250 2038 2815 26475 1012 2057 2085 2265 2008 7987 3540 2487 4372 23237 1037 11827 1011 1047 2094 5250 2007 5537 24004 6483 1998 16012 15869 23323 2000 1996 12604 2378 5250 2155 1012 5875 2135 1010 7987 3540 2475 2036 2950 1037 16226 2714 2000 1996 12604 2378 10465 2012 1996 1039 7342 1997 1996 5250 1012 2119 7987 3540 2487 1998 1996 12604 7076 2334 4697 2000 3595 10253 2310 19570 4244 1010 2024 3595 2098 2011 1037 12222 102\n",
      "[NeMo I 2024-03-04 02:34:09 text_classification_dataset:242] segment_ids: 0 0 0 0 0 0 0 0 0 0 0 0 0 0 0 0 0 0 0 0 0 0 0 0 0 0 0 0 0 0 0 0 0 0 0 0 0 0 0 0 0 0 0 0 0 0 0 0 0 0 0 0 0 0 0 0 0 0 0 0 0 0 0 0 0 0 0 0 0 0 0 0 0 0 0 0 0 0 0 0 0 0 0 0 0 0 0 0 0 0 0 0 0 0 0 0 0 0 0 0 0 0 0 0 0 0 0 0 0 0 0 0 0 0 0 0 0 0 0 0 0 0 0 0 0 0 0 0 0\n",
      "[NeMo I 2024-03-04 02:34:09 text_classification_dataset:243] input_mask: 1 1 1 1 1 1 1 1 1 1 1 1 1 1 1 1 1 1 1 1 1 1 1 1 1 1 1 1 1 1 1 1 1 1 1 1 1 1 1 1 1 1 1 1 1 1 1 1 1 1 1 1 1 1 1 1 1 1 1 1 1 1 1 1 1 1 1 1 1 1 1 1 1 1 1 1 1 1 1 1 1 1 1 1 1 1 1 1 1 1 1 1 1 1 1 1 1 1 1 1 1 1 1 1 1 1 1 1 1 1 1 1 1 1 1 1 1 1 1 1 1 1 1 1 1 1 1 1 1\n",
      "[NeMo I 2024-03-04 02:34:09 text_classification_dataset:244] label: 0\n",
      "[NeMo I 2024-03-04 02:34:09 text_classification_dataset:238] *** Example ***\n",
      "[NeMo I 2024-03-04 02:34:09 text_classification_dataset:239] example 1: ['Ovarian', 'cancer', 'risk', 'in', 'BRCA1', 'carriers', 'is', 'modified', 'by', 'the', 'HRAS1', 'variable', 'number', 'of', 'tandem', 'repeat', '(VNTR)', 'locus.', 'Women', 'who', 'carry', 'a', 'mutation', 'in', 'the', 'BRCA1', 'gene', '(', 'on', 'chromosome', '17q21', ')', ',', 'have', 'an', '80', '%', 'risk', 'of', 'breast', 'cancer', 'and', 'a', '40', '%', 'risk', 'of', 'ovarian', 'cancer', 'by', 'the', 'age', 'of', '70', '(', 'ref', '.', '1', ')', '.', 'The', 'variable', 'penetrance', 'of', 'BRCA1', 'suggests', 'that', 'other', 'genetic', 'and', 'non-genetic', 'factors', 'play', 'a', 'role', 'in', 'tumourigenesis', 'in', 'these', 'individuals', '.', 'The', 'HRAS1', 'variable', 'number', 'of', 'tandem', 'repeats', '(', 'VNTR', ')', 'polymorphism', ',', 'located', '1', 'kilobase', '(', 'kb', ')', 'downstream', 'of', 'the', 'HRAS1', 'proto-oncogene', '(', 'chromosome', '11p15', '.', '5', ')', 'is', 'one', 'possible', 'genetic', 'modifier', 'of', 'cancer', 'penetrance', '.', 'Individuals', 'who', 'have', 'rare', 'alleles', 'of', 'the', 'VNTR', 'have', 'an', 'increased', 'risk', 'of', 'certain', 'types', 'of', 'cancers', ',', 'including', 'breast', 'cancer', '(', '2-4', ')', '.', 'To', 'investigate', 'whether', 'the', 'presence', 'of', 'rare', 'HRAS1', 'alleles', 'increases', 'susceptibility', 'to', 'hereditary', 'breast', 'and', 'ovarian', 'cancer', ',', 'we', 'have', 'typed', 'a', 'panel', 'of', '307', 'female', 'BRCA1', 'carriers', 'at', 'this', 'locus', 'using', 'a', 'PCR-based', 'technique', '.', 'The', 'risk', 'for', 'ovarian', 'cancer', 'was', '2', '.', '11', 'times', 'greater', 'for', 'BRCA1', 'carriers', 'harbouring', 'one', 'or', 'two', 'rare', 'HRAS1', 'alleles', ',', 'compared', 'to', 'carriers', 'with', 'only', 'common', 'alleles', '(', 'P', '=', '0', '.', '015', ')', '.', 'The', 'magnitude', 'of', 'the', 'relative', 'risk', 'associated', 'with', 'a', 'rare', 'HRAS1', 'allele', 'was', 'not', 'altered', 'by', 'adjusting', 'for', 'the', 'other', 'known', 'risk', 'factors', 'for', 'hereditary', 'ovarian', 'cancer', '(', '5', ')', '.', 'Susceptibility', 'to', 'breast', 'cancer', 'did', 'not', 'appear', 'to', 'be', 'affected', 'by', 'the', 'presence', 'of', 'rare', 'HRAS1', 'alleles', '.', 'This', 'study', 'is', 'the', 'first', 'to', 'show', 'the', 'effect', 'of', 'a', 'modifying', 'gene', 'on', 'the', 'penetrance', 'of', 'an', 'inherited', 'cancer', 'syndrome']\n",
      "[NeMo I 2024-03-04 02:34:09 text_classification_dataset:240] subtokens: [CLS] o ##var ##ian cancer risk in br ##ca ##1 carriers is modified by the hr ##as ##1 variable number of tandem repeat ( v ##nt ##r ) locus . women who carry a mutation in the br ##ca ##1 gene ( on chromosome 17 ##q ##21 ) , have an 80 % risk of breast cancer and a 40 % risk of o ##var ##ian cancer by the age of 70 ( ref . 1 ) . the variable pen ##et ##rance of br ##ca ##1 suggests that other genetic and non - genetic factors play a role in tu ##mour ##igen ##esis in these individuals . the hr ##as ##1 variable number of tandem repeats ( v ##nt ##r ) poly ##morphism , located 1 ki [SEP]\n",
      "[NeMo I 2024-03-04 02:34:09 text_classification_dataset:241] input_ids: 101 1051 10755 2937 4456 3891 1999 7987 3540 2487 11363 2003 6310 2011 1996 17850 3022 2487 8023 2193 1997 18231 9377 1006 1058 3372 2099 1007 25206 1012 2308 2040 4287 1037 16221 1999 1996 7987 3540 2487 4962 1006 2006 16706 2459 4160 17465 1007 1010 2031 2019 3770 1003 3891 1997 7388 4456 1998 1037 2871 1003 3891 1997 1051 10755 2937 4456 2011 1996 2287 1997 3963 1006 25416 1012 1015 1007 1012 1996 8023 7279 3388 21621 1997 7987 3540 2487 6083 2008 2060 7403 1998 2512 1011 7403 5876 2377 1037 2535 1999 10722 20360 29206 19009 1999 2122 3633 1012 1996 17850 3022 2487 8023 2193 1997 18231 17993 1006 1058 3372 2099 1007 26572 19539 1010 2284 1015 11382 102\n",
      "[NeMo I 2024-03-04 02:34:09 text_classification_dataset:242] segment_ids: 0 0 0 0 0 0 0 0 0 0 0 0 0 0 0 0 0 0 0 0 0 0 0 0 0 0 0 0 0 0 0 0 0 0 0 0 0 0 0 0 0 0 0 0 0 0 0 0 0 0 0 0 0 0 0 0 0 0 0 0 0 0 0 0 0 0 0 0 0 0 0 0 0 0 0 0 0 0 0 0 0 0 0 0 0 0 0 0 0 0 0 0 0 0 0 0 0 0 0 0 0 0 0 0 0 0 0 0 0 0 0 0 0 0 0 0 0 0 0 0 0 0 0 0 0 0 0 0 0\n",
      "[NeMo I 2024-03-04 02:34:09 text_classification_dataset:243] input_mask: 1 1 1 1 1 1 1 1 1 1 1 1 1 1 1 1 1 1 1 1 1 1 1 1 1 1 1 1 1 1 1 1 1 1 1 1 1 1 1 1 1 1 1 1 1 1 1 1 1 1 1 1 1 1 1 1 1 1 1 1 1 1 1 1 1 1 1 1 1 1 1 1 1 1 1 1 1 1 1 1 1 1 1 1 1 1 1 1 1 1 1 1 1 1 1 1 1 1 1 1 1 1 1 1 1 1 1 1 1 1 1 1 1 1 1 1 1 1 1 1 1 1 1 1 1 1 1 1 1\n",
      "[NeMo I 2024-03-04 02:34:09 text_classification_dataset:244] label: 0\n",
      "[NeMo W 2024-03-04 02:34:10 text_classification_dataset:250] Found 99 out of 100 sentences with more than 128 subtokens. Truncated long sentences from the end.\n",
      "[NeMo I 2024-03-04 02:34:10 data_preprocessing:299] Some stats of the lengths of the sequences:\n",
      "[NeMo I 2024-03-04 02:34:10 data_preprocessing:301] Min: 120 |                  Max: 129 |                  Mean: 128.91 |                  Median: 129.0\n",
      "[NeMo I 2024-03-04 02:34:10 data_preprocessing:307] 75 percentile: 129.00\n",
      "[NeMo I 2024-03-04 02:34:10 data_preprocessing:308] 99 percentile: 129.00\n",
      "[NeMo I 2024-03-04 02:34:10 text_classification_dataset:120] Read 10 examples from /dli/task/data/NCBI_tc-3/test_nemo_format.tsv.\n",
      "[NeMo I 2024-03-04 02:34:10 text_classification_dataset:238] *** Example ***\n",
      "[NeMo I 2024-03-04 02:34:10 text_classification_dataset:239] example 0: ['Clustering', 'of', 'missense', 'mutations', 'in', 'the', 'ataxia-telangiectasia', 'gene', 'in', 'a', 'sporadic', 'T-cell', 'leukaemia.', 'Ataxia-telangiectasia', '(', 'A-T', ')', 'is', 'a', 'recessive', 'multi-system', 'disorder', 'caused', 'by', 'mutations', 'in', 'the', 'ATM', 'gene', 'at', '11q22-q23', '(', 'ref', '.', '3', ')', '.', 'The', 'risk', 'of', 'cancer', ',', 'especially', 'lymphoid', 'neoplasias', ',', 'is', 'substantially', 'elevated', 'in', 'A-T', 'patients', 'and', 'has', 'long', 'been', 'associated', 'with', 'chromosomal', 'instability', '.', 'By', 'analysing', 'tumour', 'DNA', 'from', 'patients', 'with', 'sporadic', 'T-cell', 'prolymphocytic', 'leukaemia', '(', 'T-PLL', ')', ',', 'a', 'rare', 'clonal', 'malignancy', 'with', 'similarities', 'to', 'a', 'mature', 'T-cell', 'leukaemia', 'seen', 'in', 'A-T', ',', 'we', 'demonstrate', 'a', 'high', 'frequency', 'of', 'ATM', 'mutations', 'in', 'T-PLL', '.', 'In', 'marked', 'contrast', 'to', 'the', 'ATM', 'mutation', 'pattern', 'in', 'A-T', ',', 'the', 'most', 'frequent', 'nucleotide', 'changes', 'in', 'this', 'leukaemia', 'were', 'missense', 'mutations', '.', 'These', 'clustered', 'in', 'the', 'region', 'corresponding', 'to', 'the', 'kinase', 'domain', ',', 'which', 'is', 'highly', 'conserved', 'in', 'ATM-related', 'proteins', 'in', 'mouse', ',', 'yeast', 'and', 'Drosophila', '.', 'The', 'resulting', 'amino-acid', 'substitutions', 'are', 'predicted', 'to', 'interfere', 'with', 'ATP', 'binding', 'or', 'substrate', 'recognition', '.', 'Two', 'of', 'seventeen', 'mutated', 'T-PLL', 'samples', 'had', 'a', 'previously', 'reported', 'A-T', 'allele', '.', 'In', 'contrast', ',', 'no', 'mutations', 'were', 'detected', 'in', 'the', 'p53', 'gene', ',', 'suggesting', 'that', 'this', 'tumour', 'suppressor', 'is', 'not', 'frequently', 'altered', 'in', 'this', 'leukaemia', '.', 'Occasional', 'missense', 'mutations', 'in', 'ATM', 'were', 'also', 'found', 'in', 'tumour', 'DNA', 'from', 'patients', 'with', 'B-cell', 'non-Hodgkins', 'lymphomas', '(', 'B-NHL', ')', 'and', 'a', 'B-NHL', 'cell', 'line', '.', 'The', 'evidence', 'of', 'a', 'significant', 'proportion', 'of', 'loss-of-function', 'mutations', 'and', 'a', 'complete', 'absence', 'of', 'the', 'normal', 'copy', 'of', 'ATM', 'in', 'the', 'majority', 'of', 'mutated', 'tumours', 'establishes', 'somatic', 'inactivation', 'of', 'this', 'gene', 'in', 'the', 'pathogenesis', 'of', 'sporadic', 'T-PLL', 'and', 'suggests', 'that', 'ATM', 'acts', 'as', 'a', 'tumour', 'suppressor', '.', 'As', 'constitutional', 'DNA', 'was', 'not', 'available', ',', 'a', 'putative', 'hereditary', 'predisposition', 'to', 'T-PLL', 'will', 'require', 'further', 'investigation', '.', '.']\n",
      "[NeMo I 2024-03-04 02:34:10 text_classification_dataset:240] subtokens: [CLS] cluster ##ing of miss ##ense mutations in the ata ##xia - tel ##ang ##iec ##tas ##ia gene in a sporadic t - cell le ##uka ##emia . ata ##xia - tel ##ang ##iec ##tas ##ia ( a - t ) is a recess ##ive multi - system disorder caused by mutations in the atm gene at 11 ##q ##22 - q ##23 ( ref . 3 ) . the risk of cancer , especially l ##ym ##ph ##oid neo ##pl ##asia ##s , is substantially elevated in a - t patients and has long been associated with ch ##rom ##osomal instability . by anal ##ys ##ing tu ##mour dna from patients with sporadic t - cell pro ##ly ##mp ##ho ##cy ##tic le ##uka ##emia ( t [SEP]\n",
      "[NeMo I 2024-03-04 02:34:10 text_classification_dataset:241] input_ids: 101 9324 2075 1997 3335 16700 14494 1999 1996 29533 14787 1011 10093 5654 23783 10230 2401 4962 1999 1037 24590 1056 1011 3526 3393 15750 17577 1012 29533 14787 1011 10093 5654 23783 10230 2401 1006 1037 1011 1056 1007 2003 1037 28290 3512 4800 1011 2291 8761 3303 2011 14494 1999 1996 27218 4962 2012 2340 4160 19317 1011 1053 21926 1006 25416 1012 1017 1007 1012 1996 3891 1997 4456 1010 2926 1048 24335 8458 9314 9253 24759 15396 2015 1010 2003 12381 8319 1999 1037 1011 1056 5022 1998 2038 2146 2042 3378 2007 10381 21716 27642 18549 1012 2011 20302 7274 2075 10722 20360 6064 2013 5022 2007 24590 1056 1011 3526 4013 2135 8737 6806 5666 4588 3393 15750 17577 1006 1056 102\n",
      "[NeMo I 2024-03-04 02:34:10 text_classification_dataset:242] segment_ids: 0 0 0 0 0 0 0 0 0 0 0 0 0 0 0 0 0 0 0 0 0 0 0 0 0 0 0 0 0 0 0 0 0 0 0 0 0 0 0 0 0 0 0 0 0 0 0 0 0 0 0 0 0 0 0 0 0 0 0 0 0 0 0 0 0 0 0 0 0 0 0 0 0 0 0 0 0 0 0 0 0 0 0 0 0 0 0 0 0 0 0 0 0 0 0 0 0 0 0 0 0 0 0 0 0 0 0 0 0 0 0 0 0 0 0 0 0 0 0 0 0 0 0 0 0 0 0 0 0\n",
      "[NeMo I 2024-03-04 02:34:10 text_classification_dataset:243] input_mask: 1 1 1 1 1 1 1 1 1 1 1 1 1 1 1 1 1 1 1 1 1 1 1 1 1 1 1 1 1 1 1 1 1 1 1 1 1 1 1 1 1 1 1 1 1 1 1 1 1 1 1 1 1 1 1 1 1 1 1 1 1 1 1 1 1 1 1 1 1 1 1 1 1 1 1 1 1 1 1 1 1 1 1 1 1 1 1 1 1 1 1 1 1 1 1 1 1 1 1 1 1 1 1 1 1 1 1 1 1 1 1 1 1 1 1 1 1 1 1 1 1 1 1 1 1 1 1 1 1\n",
      "[NeMo I 2024-03-04 02:34:10 text_classification_dataset:244] label: 0\n",
      "[NeMo I 2024-03-04 02:34:10 text_classification_dataset:238] *** Example ***\n",
      "[NeMo I 2024-03-04 02:34:10 text_classification_dataset:239] example 1: ['Myotonic', 'dystrophy', 'protein', 'kinase', 'is', 'involved', 'in', 'the', 'modulation', 'of', 'the', 'Ca2+', 'homeostasis', 'in', 'skeletal', 'muscle', 'cells.', 'Myotonic', 'dystrophy', '(', 'DM', ')', ',', 'the', 'most', 'prevalent', 'muscular', 'disorder', 'in', 'adults', ',', 'is', 'caused', 'by', '(', 'CTG', ')', 'n-repeat', 'expansion', 'in', 'a', 'gene', 'encoding', 'a', 'protein', 'kinase', '(', 'DM', 'protein', 'kinase', ';', 'DMPK', ')', 'and', 'involves', 'changes', 'in', 'cytoarchitecture', 'and', 'ion', 'homeostasis', '.', 'To', 'obtain', 'clues', 'to', 'the', 'normal', 'biological', 'role', 'of', 'DMPK', 'in', 'cellular', 'ion', 'homeostasis', ',', 'we', 'have', 'compared', 'the', 'resting', '[', 'Ca2', '+', ']', 'i', ',', 'the', 'amplitude', 'and', 'shape', 'of', 'depolarization-induced', 'Ca2', '+', 'transients', ',', 'and', 'the', 'content', 'of', 'ATP-driven', 'ion', 'pumps', 'in', 'cultured', 'skeletal', 'muscle', 'cells', 'of', 'wild-type', 'and', 'DMPK', '[', '-', '/', '-', ']', 'knockout', 'mice', '.', 'In', 'vitro-differentiated', 'DMPK', '[', '-', '/', '-', ']', 'myotubes', 'exhibit', 'a', 'higher', 'resting', '[', 'Ca2', '+', ']', 'i', 'than', 'do', 'wild-type', 'myotubes', 'because', 'of', 'an', 'altered', 'open', 'probability', 'of', 'voltage-dependent', 'l-type', 'Ca2', '+', 'and', 'Na', '+', 'channels', '.', 'The', 'mutant', 'myotubes', 'exhibit', 'smaller', 'and', 'slower', 'Ca2', '+', 'responses', 'upon', 'triggering', 'by', 'acetylcholine', 'or', 'high', 'external', 'K', '+', '.', 'In', 'addition', ',', 'we', 'observed', 'that', 'these', 'Ca2', '+', 'transients', 'partially', 'result', 'from', 'an', 'influx', 'of', 'extracellular', 'Ca2', '+', 'through', 'the', 'l-type', 'Ca2', '+', 'channel', '.', 'Neither', 'the', 'content', 'nor', 'the', 'activity', 'of', 'Na', '+', '/', 'K', '+', 'ATPase', 'and', 'sarcoplasmic', 'reticulum', 'Ca2', '+', '-ATPase', 'are', 'affected', 'by', 'DMPK', 'absence', '.', 'In', 'conclusion', ',', 'our', 'data', 'suggest', 'that', 'DMPK', 'is', 'involved', 'in', 'modulating', 'the', 'initial', 'events', 'of', 'excitation-contraction', 'coupling', 'in', 'skeletal', 'muscle', '.', '.']\n",
      "[NeMo I 2024-03-04 02:34:10 text_classification_dataset:240] subtokens: [CLS] my ##oton ##ic d ##yst ##rop ##hy protein kinase is involved in the modulation of the ca ##2 + home ##osta ##sis in skeletal muscle cells . my ##oton ##ic d ##yst ##rop ##hy ( d ##m ) , the most prevalent muscular disorder in adults , is caused by ( ct ##g ) n - repeat expansion in a gene encoding a protein kinase ( d ##m protein kinase ; d ##mp ##k ) and involves changes in cy ##to ##ar ##chi ##tec ##ture and ion home ##osta ##sis . to obtain clues to the normal biological role of d ##mp ##k in cellular ion home ##osta ##sis , we have compared the resting [ ca ##2 + ] i , the amplitude and shape of [SEP]\n",
      "[NeMo I 2024-03-04 02:34:10 text_classification_dataset:241] input_ids: 101 2026 25862 2594 1040 27268 18981 10536 5250 21903 2003 2920 1999 1996 25502 1997 1996 6187 2475 1009 2188 28696 6190 1999 20415 6740 4442 1012 2026 25862 2594 1040 27268 18981 10536 1006 1040 2213 1007 1010 1996 2087 15157 13472 8761 1999 6001 1010 2003 3303 2011 1006 14931 2290 1007 1050 1011 9377 4935 1999 1037 4962 17181 1037 5250 21903 1006 1040 2213 5250 21903 1025 1040 8737 2243 1007 1998 7336 3431 1999 22330 3406 2906 5428 26557 11244 1998 10163 2188 28696 6190 1012 2000 6855 15774 2000 1996 3671 6897 2535 1997 1040 8737 2243 1999 12562 10163 2188 28696 6190 1010 2057 2031 4102 1996 8345 1031 6187 2475 1009 1033 1045 1010 1996 22261 1998 4338 1997 102\n",
      "[NeMo I 2024-03-04 02:34:10 text_classification_dataset:242] segment_ids: 0 0 0 0 0 0 0 0 0 0 0 0 0 0 0 0 0 0 0 0 0 0 0 0 0 0 0 0 0 0 0 0 0 0 0 0 0 0 0 0 0 0 0 0 0 0 0 0 0 0 0 0 0 0 0 0 0 0 0 0 0 0 0 0 0 0 0 0 0 0 0 0 0 0 0 0 0 0 0 0 0 0 0 0 0 0 0 0 0 0 0 0 0 0 0 0 0 0 0 0 0 0 0 0 0 0 0 0 0 0 0 0 0 0 0 0 0 0 0 0 0 0 0 0 0 0 0 0 0\n",
      "[NeMo I 2024-03-04 02:34:10 text_classification_dataset:243] input_mask: 1 1 1 1 1 1 1 1 1 1 1 1 1 1 1 1 1 1 1 1 1 1 1 1 1 1 1 1 1 1 1 1 1 1 1 1 1 1 1 1 1 1 1 1 1 1 1 1 1 1 1 1 1 1 1 1 1 1 1 1 1 1 1 1 1 1 1 1 1 1 1 1 1 1 1 1 1 1 1 1 1 1 1 1 1 1 1 1 1 1 1 1 1 1 1 1 1 1 1 1 1 1 1 1 1 1 1 1 1 1 1 1 1 1 1 1 1 1 1 1 1 1 1 1 1 1 1 1 1\n",
      "[NeMo I 2024-03-04 02:34:10 text_classification_dataset:244] label: 1\n",
      "[NeMo W 2024-03-04 02:34:10 text_classification_dataset:250] Found 10 out of 10 sentences with more than 128 subtokens. Truncated long sentences from the end.\n",
      "[NeMo I 2024-03-04 02:34:10 data_preprocessing:299] Some stats of the lengths of the sequences:\n",
      "[NeMo I 2024-03-04 02:34:10 data_preprocessing:301] Min: 129 |                  Max: 129 |                  Mean: 129.0 |                  Median: 129.0\n",
      "[NeMo I 2024-03-04 02:34:10 data_preprocessing:307] 75 percentile: 129.00\n",
      "[NeMo I 2024-03-04 02:34:10 data_preprocessing:308] 99 percentile: 129.00\n",
      "[NeMo W 2024-03-04 02:34:10 modelPT:197] You tried to register an artifact under config key=tokenizer.vocab_file but an artifact forit has already been registered.\n",
      "[NeMo W 2024-03-04 02:34:10 nemo_logging:349] /opt/conda/lib/python3.8/site-packages/nemo/core/classes/modelPT.py:243: UserWarning: update_node() is deprecated, use OmegaConf.update(). (Since 2.0)\n",
      "      self.cfg.update_node(config_path, return_path)\n",
      "    \n",
      "Some weights of the model checkpoint at bert-base-uncased were not used when initializing BertModel: ['cls.predictions.transform.LayerNorm.bias', 'cls.seq_relationship.weight', 'cls.predictions.bias', 'cls.predictions.transform.LayerNorm.weight', 'cls.predictions.transform.dense.weight', 'cls.seq_relationship.bias', 'cls.predictions.transform.dense.bias', 'cls.predictions.decoder.weight']\n",
      "- This IS expected if you are initializing BertModel from the checkpoint of a model trained on another task or with another architecture (e.g. initializing a BertForSequenceClassification model from a BertForPreTraining model).\n",
      "- This IS NOT expected if you are initializing BertModel from the checkpoint of a model that you expect to be exactly identical (initializing a BertForSequenceClassification model from a BertForSequenceClassification model).\n",
      "Some weights of the model checkpoint at bert-base-uncased were not used when initializing BertEncoder: ['cls.predictions.transform.LayerNorm.bias', 'cls.seq_relationship.weight', 'cls.predictions.bias', 'cls.predictions.transform.LayerNorm.weight', 'cls.predictions.transform.dense.weight', 'cls.seq_relationship.bias', 'cls.predictions.transform.dense.bias', 'cls.predictions.decoder.weight']\n",
      "- This IS expected if you are initializing BertEncoder from the checkpoint of a model trained on another task or with another architecture (e.g. initializing a BertForSequenceClassification model from a BertForPreTraining model).\n",
      "- This IS NOT expected if you are initializing BertEncoder from the checkpoint of a model that you expect to be exactly identical (initializing a BertForSequenceClassification model from a BertForSequenceClassification model).\n",
      "[NeMo I 2024-03-04 02:34:12 text_classification_with_bert:118] ===========================================================================================\n",
      "[NeMo I 2024-03-04 02:34:12 text_classification_with_bert:119] Starting training...\n",
      "LOCAL_RANK: 0 - CUDA_VISIBLE_DEVICES: [0]\n",
      "[NeMo I 2024-03-04 02:34:12 modelPT:748] Optimizer config = Adam (\n",
      "    Parameter Group 0\n",
      "        amsgrad: False\n",
      "        betas: [0.9, 0.999]\n",
      "        eps: 1e-08\n",
      "        lr: 5e-05\n",
      "        weight_decay: 0.01\n",
      "    )\n",
      "[NeMo I 2024-03-04 02:34:12 lr_scheduler:617] Scheduler \"<nemo.core.optim.lr_scheduler.WarmupAnnealing object at 0x7f334f127be0>\" \n",
      "    will be used during training (effective maximum steps = 55) - \n",
      "    Parameters : \n",
      "    (warmup_steps: null\n",
      "    warmup_ratio: 0.1\n",
      "    last_epoch: -1\n",
      "    max_steps: 55\n",
      "    )\n",
      "initializing ddp: GLOBAL_RANK: 0, MEMBER: 1/1\n",
      "Added key: store_based_barrier_key:1 to store for rank: 0\n",
      "\n",
      "  | Name                  | Type                 | Params\n",
      "---------------------------------------------------------------\n",
      "0 | loss                  | CrossEntropyLoss     | 0     \n",
      "1 | bert_model            | BertEncoder          | 109 M \n",
      "2 | classifier            | SequenceClassifier   | 592 K \n",
      "3 | classification_report | ClassificationReport | 0     \n",
      "---------------------------------------------------------------\n",
      "110 M     Trainable params\n",
      "0         Non-trainable params\n",
      "110 M     Total params\n",
      "440.301   Total estimated model params size (MB)\n",
      "Epoch 0:  85%|▊| 11/13 [00:03<00:00,  3.51it/s, loss=1.02, v_num=3-58, lr=4.6e-5\n",
      "Validating: 0it [00:00, ?it/s]\u001b[A\n",
      "Validating:   0%|                                         | 0/2 [00:00<?, ?it/s]\u001b[A\n",
      "Epoch 0: 100%|█| 13/13 [00:03<00:00,  3.91it/s, loss=1.02, v_num=3-58, lr=4.6e-5\u001b[A[NeMo I 2024-03-04 02:34:17 text_classification_model:165] val_report: \n",
      "    label                                                precision    recall       f1           support   \n",
      "    label_id: 0                                              0.00       0.00       0.00         32\n",
      "    label_id: 1                                              0.00       0.00       0.00         24\n",
      "    label_id: 2                                             44.00     100.00      61.11         44\n",
      "    -------------------\n",
      "    micro avg                                               44.00      44.00      44.00        100\n",
      "    macro avg                                               14.67      33.33      20.37        100\n",
      "    weighted avg                                            19.36      44.00      26.89        100\n",
      "    \n",
      "Epoch 0: 100%|█| 13/13 [00:03<00:00,  3.82it/s, loss=1.02, v_num=3-58, lr=4.5e-5\n",
      "                                                                                \u001b[AEpoch 0, global step 10: val_loss reached 1.09735 (best 1.09735), saving model to \"/dli/task/nemo_experiments/TextClassification/2024-03-04_02-33-58/checkpoints/TextClassification--val_loss=1.10-epoch=0.ckpt\" as top 3\n",
      "Epoch 1:  92%|▉| 12/13 [00:02<00:00,  4.57it/s, loss=0.947, v_num=3-58, lr=3.5e-\n",
      "Validating: 0it [00:00, ?it/s]\u001b[A\n",
      "Validating:   0%|                                         | 0/2 [00:00<?, ?it/s]\u001b[A\n",
      "Validating:  50%|████████████████▌                | 1/2 [00:00<00:00,  5.81it/s]\u001b[A[NeMo I 2024-03-04 02:34:24 text_classification_model:165] val_report: \n",
      "    label                                                precision    recall       f1           support   \n",
      "    label_id: 0                                            100.00      84.38      91.53         32\n",
      "    label_id: 1                                             87.50      29.17      43.75         24\n",
      "    label_id: 2                                             66.15      97.73      78.90         44\n",
      "    -------------------\n",
      "    micro avg                                               77.00      77.00      77.00        100\n",
      "    macro avg                                               84.55      70.42      71.39        100\n",
      "    weighted avg                                            82.11      77.00      74.50        100\n",
      "    \n",
      "Epoch 1: 100%|█| 13/13 [00:02<00:00,  4.52it/s, loss=0.947, v_num=3-58, lr=3.4e-\n",
      "                                                                                \u001b[AEpoch 1, global step 21: val_loss reached 0.78966 (best 0.78966), saving model to \"/dli/task/nemo_experiments/TextClassification/2024-03-04_02-33-58/checkpoints/TextClassification--val_loss=0.79-epoch=1.ckpt\" as top 3\n",
      "Epoch 2:  92%|▉| 12/13 [00:02<00:00,  4.56it/s, loss=0.774, v_num=3-58, lr=2.4e-\n",
      "Validating: 0it [00:00, ?it/s]\u001b[A\n",
      "Validating:   0%|                                         | 0/2 [00:00<?, ?it/s]\u001b[A\n",
      "Validating:  50%|████████████████▌                | 1/2 [00:00<00:00,  7.11it/s]\u001b[A[NeMo I 2024-03-04 02:34:30 text_classification_model:165] val_report: \n",
      "    label                                                precision    recall       f1           support   \n",
      "    label_id: 0                                             90.91      93.75      92.31         32\n",
      "    label_id: 1                                             78.26      75.00      76.60         24\n",
      "    label_id: 2                                             88.64      88.64      88.64         44\n",
      "    -------------------\n",
      "    micro avg                                               87.00      87.00      87.00        100\n",
      "    macro avg                                               85.94      85.80      85.85        100\n",
      "    weighted avg                                            86.87      87.00      86.92        100\n",
      "    \n",
      "Epoch 2: 100%|█| 13/13 [00:02<00:00,  4.55it/s, loss=0.774, v_num=3-58, lr=2.3e-\n",
      "                                                                                \u001b[AEpoch 2, global step 32: val_loss reached 0.58011 (best 0.58011), saving model to \"/dli/task/nemo_experiments/TextClassification/2024-03-04_02-33-58/checkpoints/TextClassification--val_loss=0.58-epoch=2.ckpt\" as top 3\n",
      "Epoch 3:  92%|▉| 12/13 [00:02<00:00,  4.56it/s, loss=0.576, v_num=3-58, lr=1.3e-\n",
      "Validating: 0it [00:00, ?it/s]\u001b[A\n",
      "Validating:   0%|                                         | 0/2 [00:00<?, ?it/s]\u001b[A\n",
      "Validating:  50%|████████████████▌                | 1/2 [00:00<00:00,  5.81it/s]\u001b[A[NeMo I 2024-03-04 02:34:37 text_classification_model:165] val_report: \n",
      "    label                                                precision    recall       f1           support   \n",
      "    label_id: 0                                             90.91      93.75      92.31         32\n",
      "    label_id: 1                                             79.17      79.17      79.17         24\n",
      "    label_id: 2                                             90.70      88.64      89.66         44\n",
      "    -------------------\n",
      "    micro avg                                               88.00      88.00      88.00        100\n",
      "    macro avg                                               86.92      87.18      87.04        100\n",
      "    weighted avg                                            88.00      88.00      87.99        100\n",
      "    \n",
      "Epoch 3: 100%|█| 13/13 [00:02<00:00,  4.51it/s, loss=0.576, v_num=3-58, lr=1.2e-\n",
      "                                                                                \u001b[AEpoch 3, global step 43: val_loss reached 0.46430 (best 0.46430), saving model to \"/dli/task/nemo_experiments/TextClassification/2024-03-04_02-33-58/checkpoints/TextClassification--val_loss=0.46-epoch=3.ckpt\" as top 3\n",
      "Epoch 4:  92%|▉| 12/13 [00:02<00:00,  4.55it/s, loss=0.448, v_num=3-58, lr=2e-6,\n",
      "Validating: 0it [00:00, ?it/s]\u001b[A\n",
      "Validating:   0%|                                         | 0/2 [00:00<?, ?it/s]\u001b[A\n",
      "Validating:  50%|████████████████▌                | 1/2 [00:00<00:00,  5.08it/s]\u001b[A[NeMo I 2024-03-04 02:34:44 text_classification_model:165] val_report: \n",
      "    label                                                precision    recall       f1           support   \n",
      "    label_id: 0                                             90.91      93.75      92.31         32\n",
      "    label_id: 1                                             79.17      79.17      79.17         24\n",
      "    label_id: 2                                             90.70      88.64      89.66         44\n",
      "    -------------------\n",
      "    micro avg                                               88.00      88.00      88.00        100\n",
      "    macro avg                                               86.92      87.18      87.04        100\n",
      "    weighted avg                                            88.00      88.00      87.99        100\n",
      "    \n",
      "Epoch 4: 100%|█| 13/13 [00:02<00:00,  4.46it/s, loss=0.448, v_num=3-58, lr=1e-6,\n",
      "                                                                                \u001b[AEpoch 4, global step 54: val_loss reached 0.44308 (best 0.44308), saving model to \"/dli/task/nemo_experiments/TextClassification/2024-03-04_02-33-58/checkpoints/TextClassification--val_loss=0.44-epoch=4.ckpt\" as top 3\n",
      "Saving latest checkpoint...\n",
      "Epoch 4: 100%|█| 13/13 [00:07<00:00,  1.75it/s, loss=0.448, v_num=3-58, lr=1e-6,\n",
      "[NeMo W 2024-03-04 02:34:49 nemo_logging:349] /opt/conda/lib/python3.8/site-packages/nemo/core/classes/modelPT.py:308: UserWarning: update_node() is deprecated, use OmegaConf.update(). (Since 2.0)\n",
      "      conf.update_node(conf_path, item.path)\n",
      "    \n",
      "[NeMo I 2024-03-04 02:35:11 text_classification_with_bert:121] Training finished!\n",
      "[NeMo I 2024-03-04 02:35:11 text_classification_with_bert:122] ===========================================================================================\n",
      "[NeMo I 2024-03-04 02:35:38 text_classification_with_bert:127] Model is saved into `.nemo` file: text_classification_model.nemo\n",
      "[NeMo I 2024-03-04 02:35:38 text_classification_with_bert:131] ===========================================================================================\n",
      "[NeMo I 2024-03-04 02:35:38 text_classification_with_bert:132] Starting the testing of the trained model on test set...\n",
      "LOCAL_RANK: 0 - CUDA_VISIBLE_DEVICES: [0]\n",
      "Testing: 0it [00:00, ?it/s][NeMo I 2024-03-04 02:35:39 text_classification_model:165] test_report: \n",
      "    label                                                precision    recall       f1           support   \n",
      "    label_id: 0                                             75.00      75.00      75.00          4\n",
      "    label_id: 1                                            100.00     100.00     100.00          2\n",
      "    label_id: 2                                             75.00      75.00      75.00          4\n",
      "    -------------------\n",
      "    micro avg                                               80.00      80.00      80.00         10\n",
      "    macro avg                                               83.33      83.33      83.33         10\n",
      "    weighted avg                                            80.00      80.00      80.00         10\n",
      "    \n",
      "Testing: 100%|████████████████████████████████████| 1/1 [00:00<00:00,  7.46it/s]\n",
      "[NeMo I 2024-03-04 02:35:39 text_classification_with_bert:134] Testing finished!\n",
      "[NeMo I 2024-03-04 02:35:39 text_classification_with_bert:135] ===========================================================================================\n",
      "[NeMo I 2024-03-04 02:35:39 text_classification_with_bert:139] ===========================================================================================\n",
      "[NeMo I 2024-03-04 02:35:39 text_classification_with_bert:140] Starting the inference on some sample queries...\n",
      "[NeMo I 2024-03-04 02:35:39 text_classification_with_bert:144] The prediction results of some sample queries with the trained model:\n",
      "[NeMo I 2024-03-04 02:35:39 text_classification_with_bert:146] Query : In contrast no mutations were detected in the p53 gene suggesting that this tumour suppressor is not frequently altered in this leukaemia\n",
      "[NeMo I 2024-03-04 02:35:39 text_classification_with_bert:147] Predicted label: 2\n",
      "[NeMo I 2024-03-04 02:35:39 text_classification_with_bert:146] Query : The first predictive testing for Huntington disease  was based on analysis of linked polymorphic DNA markers to estimate the likelihood of inheriting the mutation for HD\n",
      "[NeMo I 2024-03-04 02:35:39 text_classification_with_bert:147] Predicted label: 1\n",
      "[NeMo I 2024-03-04 02:35:39 text_classification_with_bert:146] Query : Further studies suggested that low dilutions of C5D serum contain a factor or factors interfering at some step in the hemolytic assay of C5 rather than a true C5 inhibitor or inactivator\n",
      "[NeMo I 2024-03-04 02:35:39 text_classification_with_bert:147] Predicted label: 2\n",
      "[NeMo I 2024-03-04 02:35:39 text_classification_with_bert:149] Inference finished!\n",
      "[NeMo I 2024-03-04 02:35:39 text_classification_with_bert:150] ===========================================================================================\n",
      "CPU times: user 800 ms, sys: 499 ms, total: 1.3 s\n",
      "Wall time: 1min 45s\n"
     ]
    }
   ],
   "source": [
    "%%time\n",
    "# The training takes about 3 minutes to run\n",
    "\n",
    "TC_DIR = \"/dli/task/nemo/examples/nlp/text_classification\"\n",
    "\n",
    "# set the values we want to override\n",
    "NUM_CLASSES = 3\n",
    "MAX_SEQ_LENGTH = 128\n",
    "PATH_TO_TRAIN_FILE = \"/dli/task/data/NCBI_tc-3/train_nemo_format.tsv\"\n",
    "PATH_TO_VAL_FILE = \"/dli/task/data/NCBI_tc-3/dev_nemo_format.tsv\"\n",
    "PATH_TO_TEST_FILE = \"/dli/task/data/NCBI_tc-3/test_nemo_format.tsv\"\n",
    "# disease domain inference sample answers should be 0, 1, 2 \n",
    "INFER_SAMPLES_0 = \"In contrast no mutations were detected in the p53 gene suggesting that this tumour suppressor is not frequently altered in this leukaemia \"\n",
    "INFER_SAMPLES_1 = \"The first predictive testing for Huntington disease  was based on analysis of linked polymorphic DNA markers to estimate the likelihood of inheriting the mutation for HD\"\n",
    "INFER_SAMPLES_2 = \"Further studies suggested that low dilutions of C5D serum contain a factor or factors interfering at some step in the hemolytic assay of C5 rather than a true C5 inhibitor or inactivator\"\n",
    "MAX_EPOCHS = 5\n",
    "AMP_LEVEL = 'O1'\n",
    "PRECISION = 16\n",
    "LR = 5.0e-05\n",
    "\n",
    "# Override the config values in the command line\n",
    "!python $TC_DIR/text_classification_with_bert.py \\\n",
    "        model.dataset.num_classes=$NUM_CLASSES \\\n",
    "        model.dataset.max_seq_length=$MAX_SEQ_LENGTH \\\n",
    "        model.train_ds.file_path=$PATH_TO_TRAIN_FILE \\\n",
    "        model.validation_ds.file_path=$PATH_TO_VAL_FILE \\\n",
    "        model.test_ds.file_path=$PATH_TO_TEST_FILE \\\n",
    "        model.infer_samples=[\"$INFER_SAMPLES_0\",\"$INFER_SAMPLES_1\",\"$INFER_SAMPLES_2\"] \\\n",
    "        trainer.max_epochs=$MAX_EPOCHS \\\n",
    "        trainer.amp_level=$AMP_LEVEL \\\n",
    "        trainer.precision=$PRECISION \\\n",
    "        model.optim.lr=$LR"
   ]
  },
  {
   "cell_type": "markdown",
   "metadata": {
    "id": "R1nj9WTRhN9c"
   },
   "source": [
    "이번 실험 결과가 이전 실험과 비교 했을 때 어떠셨나요? 출력 값에서 F1 점수와 추론 결과를 확인해 봅니다. "
   ]
  },
  {
   "cell_type": "markdown",
   "metadata": {
    "id": "GR34HH9GhN9d"
   },
   "source": [
    "## 2.2.5 TensorBoard로 결과 시각화하기\n",
    "[experiment manager](https://docs.nvidia.com/deeplearning/nemo/user-guide/docs/en/stable/core/core.html?highlight=tensorboard#experiment-manager) 는 텐서보드로 볼 수 있는 결과들을 저장합니다. <br>\n",
    "인스턴스에 대한 [TensorBoard](/tensorboard/)를 열어 살펴보십시오."
   ]
  },
  {
   "cell_type": "markdown",
   "metadata": {
    "id": "R3kxAjgvhN9e",
    "tags": []
   },
   "source": [
    "실행한 모델들의 성능을 비고하려면 \"Train Loss\" 스케일러를 선택합니다. 여러분은 함께 실행한 모든 모델을 보실 수도 있고, 개별 모델을 선택하여 비교할 수 있습니다. 아래 예제는 첫 번째 주황색 실험 결과와 두 번째 파란색 예제 결과를 보여줍니다. 이를 통해 두 번째 실험에서 손실이 더 적었음을 알 수 있습니다. \n",
    "\n",
    "<img src=\"images/tensorboard_01.png\" width=1000px>"
   ]
  },
  {
   "cell_type": "markdown",
   "metadata": {
    "id": "aoYsa36IhN9e"
   },
   "source": [
    "## 2.2.6 예제: 언어 모델 변경하기\n",
    "지금까지는 기본적인 `bert-base-uncased` 언어 모델을 사용해 왔지만, 이 모델은 여러분이 시도해볼 수 있는 모델 중 하나일 뿐입니다. 다음 셀을 실행하여 사용 가능한 언어 모델들을 확인해 보세요."
   ]
  },
  {
   "cell_type": "code",
   "execution_count": 23,
   "metadata": {
    "id": "GtKiDQQbhN9f",
    "scrolled": true,
    "tags": []
   },
   "outputs": [
    {
     "data": {
      "text/plain": [
       "['megatron-bert-345m-uncased',\n",
       " 'megatron-bert-345m-cased',\n",
       " 'megatron-bert-uncased',\n",
       " 'megatron-bert-cased',\n",
       " 'biomegatron-bert-345m-uncased',\n",
       " 'biomegatron-bert-345m-cased',\n",
       " 'bert-base-uncased',\n",
       " 'bert-large-uncased',\n",
       " 'bert-base-cased',\n",
       " 'bert-large-cased',\n",
       " 'bert-base-multilingual-uncased',\n",
       " 'bert-base-multilingual-cased',\n",
       " 'bert-base-chinese',\n",
       " 'bert-base-german-cased',\n",
       " 'bert-large-uncased-whole-word-masking',\n",
       " 'bert-large-cased-whole-word-masking',\n",
       " 'bert-large-uncased-whole-word-masking-finetuned-squad',\n",
       " 'bert-large-cased-whole-word-masking-finetuned-squad',\n",
       " 'bert-base-cased-finetuned-mrpc',\n",
       " 'bert-base-german-dbmdz-cased',\n",
       " 'bert-base-german-dbmdz-uncased',\n",
       " 'cl-tohoku/bert-base-japanese',\n",
       " 'cl-tohoku/bert-base-japanese-whole-word-masking',\n",
       " 'cl-tohoku/bert-base-japanese-char',\n",
       " 'cl-tohoku/bert-base-japanese-char-whole-word-masking',\n",
       " 'TurkuNLP/bert-base-finnish-cased-v1',\n",
       " 'TurkuNLP/bert-base-finnish-uncased-v1',\n",
       " 'wietsedv/bert-base-dutch-cased',\n",
       " 'distilbert-base-uncased',\n",
       " 'distilbert-base-uncased-distilled-squad',\n",
       " 'distilbert-base-cased',\n",
       " 'distilbert-base-cased-distilled-squad',\n",
       " 'distilbert-base-german-cased',\n",
       " 'distilbert-base-multilingual-cased',\n",
       " 'distilbert-base-uncased-finetuned-sst-2-english',\n",
       " 'roberta-base',\n",
       " 'roberta-large',\n",
       " 'roberta-large-mnli',\n",
       " 'distilroberta-base',\n",
       " 'roberta-base-openai-detector',\n",
       " 'roberta-large-openai-detector',\n",
       " 'albert-base-v1',\n",
       " 'albert-large-v1',\n",
       " 'albert-xlarge-v1',\n",
       " 'albert-xxlarge-v1',\n",
       " 'albert-base-v2',\n",
       " 'albert-large-v2',\n",
       " 'albert-xlarge-v2',\n",
       " 'albert-xxlarge-v2']"
      ]
     },
     "execution_count": 23,
     "metadata": {},
     "output_type": "execute_result"
    }
   ],
   "source": [
    "# complete list of supported BERT-like models\n",
    "from nemo.collections import nlp as nemo_nlp\n",
    "nemo_nlp.modules.get_pretrained_lm_models_list()"
   ]
  },
  {
   "cell_type": "markdown",
   "metadata": {
    "id": "ZhKL61VYhN9f"
   },
   "source": [
    "이번 예제에서는 `megatron-bert-345m-cased`와 같은 새로운 언어 모델을 선택합니다.  \n",
    "\n",
    "메모리를 지우기 위해 노트북 커널을 새로 시작하셔야 할 수도 있습니다. 대형 모델을 사용할 경우, GPU 메모리 공간을 절약하는 다른 방법은 `batch_size` 를 32, 16 또는 8로 줄이고 `max_seq_length`를 64로 줄이는 것입니다. 이 예제에서는 정답이 따로 없습니다. 오히려 이번 예제는 여러분이 여러 실험을 해볼 수 있는 기회입니다.일부 모델은 실행하는 데 몇 분이 소요될 수 있으므로 다음 노트북으로 먼저 이동한 후 나중에 시간이 나면 다시 여기로 돌아오셔도 좋습니다. 실습 진행에 어려움이 있는 경우, [예제 솔루션](solutions/ex2.2.6.ipynb) 을 살펴보십시오. 이 모델에 대한 손실값 및 f1 결과 값을 기록해놓거나 텐서보드를 통해 차이점을 시각화해보는 것을 잊지 마세요. "
   ]
  },
  {
   "cell_type": "code",
   "execution_count": 16,
   "metadata": {
    "id": "t_ER2axChN9g"
   },
   "outputs": [
    {
     "data": {
      "text/plain": [
       "{'status': 'ok', 'restart': True}"
      ]
     },
     "execution_count": 16,
     "metadata": {},
     "output_type": "execute_result"
    }
   ],
   "source": [
    "# Restart the kernel\n",
    "import IPython\n",
    "app = IPython.Application.instance()\n",
    "app.kernel.do_shutdown(True)"
   ]
  },
  {
   "cell_type": "code",
   "execution_count": 25,
   "metadata": {
    "id": "fb5CKKdIhN9g",
    "scrolled": true,
    "tags": []
   },
   "outputs": [
    {
     "name": "stdout",
     "output_type": "stream",
     "text": [
      "[NeMo W 2024-03-04 02:57:29 nemo_logging:349] /opt/conda/lib/python3.8/site-packages/omegaconf/basecontainer.py:225: UserWarning: cfg.pretty() is deprecated and will be removed in a future version.\n",
      "    Use OmegaConf.to_yaml(cfg)\n",
      "    \n",
      "      warnings.warn(\n",
      "    \n",
      "[NeMo I 2024-03-04 02:57:29 text_classification_with_bert:110] \n",
      "    Config Params:\n",
      "    trainer:\n",
      "      gpus: 1\n",
      "      num_nodes: 1\n",
      "      max_epochs: 5\n",
      "      max_steps: null\n",
      "      accumulate_grad_batches: 1\n",
      "      gradient_clip_val: 0.0\n",
      "      amp_level: O1\n",
      "      precision: 16\n",
      "      accelerator: ddp\n",
      "      log_every_n_steps: 1\n",
      "      val_check_interval: 1.0\n",
      "      resume_from_checkpoint: null\n",
      "      num_sanity_val_steps: 0\n",
      "      checkpoint_callback: false\n",
      "      logger: false\n",
      "    model:\n",
      "      nemo_path: text_classification_model.nemo\n",
      "      tokenizer:\n",
      "        tokenizer_name: ${model.language_model.pretrained_model_name}\n",
      "        vocab_file: null\n",
      "        tokenizer_model: null\n",
      "        special_tokens: null\n",
      "      language_model:\n",
      "        pretrained_model_name: megatron-bert-345m-cased\n",
      "        lm_checkpoint: null\n",
      "        config_file: null\n",
      "        config: null\n",
      "      classifier_head:\n",
      "        num_output_layers: 2\n",
      "        fc_dropout: 0.1\n",
      "      class_labels:\n",
      "        class_labels_file: null\n",
      "      dataset:\n",
      "        num_classes: 3\n",
      "        do_lower_case: false\n",
      "        max_seq_length: 64\n",
      "        class_balancing: null\n",
      "        use_cache: false\n",
      "      train_ds:\n",
      "        file_path: /dli/task/data/NCBI_tc-3/train_nemo_format.tsv\n",
      "        batch_size: 32\n",
      "        shuffle: true\n",
      "        num_samples: -1\n",
      "        num_workers: 3\n",
      "        drop_last: false\n",
      "        pin_memory: false\n",
      "      validation_ds:\n",
      "        file_path: /dli/task/data/NCBI_tc-3/dev_nemo_format.tsv\n",
      "        batch_size: 32\n",
      "        shuffle: false\n",
      "        num_samples: -1\n",
      "        num_workers: 3\n",
      "        drop_last: false\n",
      "        pin_memory: false\n",
      "      test_ds:\n",
      "        file_path: /dli/task/data/NCBI_tc-3/test_nemo_format.tsv\n",
      "        batch_size: 32\n",
      "        shuffle: false\n",
      "        num_samples: -1\n",
      "        num_workers: 3\n",
      "        drop_last: false\n",
      "        pin_memory: false\n",
      "      optim:\n",
      "        name: adam\n",
      "        lr: 5.0e-05\n",
      "        betas:\n",
      "        - 0.9\n",
      "        - 0.999\n",
      "        weight_decay: 0.01\n",
      "        sched:\n",
      "          name: WarmupAnnealing\n",
      "          warmup_steps: null\n",
      "          warmup_ratio: 0.1\n",
      "          last_epoch: -1\n",
      "          monitor: val_loss\n",
      "          reduce_on_plateau: false\n",
      "      infer_samples:\n",
      "      - In contrast no mutations were detected in the p53 gene suggesting that this tumour\n",
      "        suppressor is not frequently altered in this leukaemia\n",
      "      - The first predictive testing for Huntington disease  was based on analysis of\n",
      "        linked polymorphic DNA markers to estimate the likelihood of inheriting the mutation\n",
      "        for HD\n",
      "      - Further studies suggested that low dilutions of C5D serum contain a factor or\n",
      "        factors interfering at some step in the hemolytic assay of C5 rather than a true\n",
      "        C5 inhibitor or inactivator\n",
      "    exp_manager:\n",
      "      exp_dir: null\n",
      "      name: TextClassification\n",
      "      create_tensorboard_logger: true\n",
      "      create_checkpoint_callback: true\n",
      "    \n",
      "GPU available: True, used: True\n",
      "TPU available: False, using: 0 TPU cores\n",
      "Using native 16bit precision.\n",
      "[NeMo I 2024-03-04 02:57:29 exp_manager:216] Experiments will be logged at /dli/task/nemo_experiments/TextClassification/2024-03-04_02-57-29\n",
      "[NeMo I 2024-03-04 02:57:29 exp_manager:563] TensorboardLogger has been set up\n",
      "[NeMo I 2024-03-04 02:57:29 megatron_utils:274] Downloading from https://s3.amazonaws.com/models.huggingface.co/bert/bert-large-cased-vocab.txt\n",
      "100% [........................................................] 213450 / 213450Lock 139898408912832 acquired on /root/.cache/huggingface/transformers/11ad22b0deaa199d15b331609ca5f60872a1a91473e9b40c115192dadb6d9a30.bdf0177a774dcff07681b2527b926c099e6563687c75a79f7469c7a7da7898c7.lock\n",
      "Downloading: 100%|█████████████████████████████| 762/762 [00:00<00:00, 1.53MB/s]\n",
      "Lock 139898408912832 released on /root/.cache/huggingface/transformers/11ad22b0deaa199d15b331609ca5f60872a1a91473e9b40c115192dadb6d9a30.bdf0177a774dcff07681b2527b926c099e6563687c75a79f7469c7a7da7898c7.lock\n",
      "Lock 139898408911104 acquired on /root/.cache/huggingface/transformers/c9961ea5b7e8ad58701728c45f4d225f70b19aa59745121e5a96c8a44efca4c8.437aa611e89f6fc6675a049d2b5545390adbc617e7d655286421c191d2be2791.lock\n",
      "Downloading: 100%|███████████████████████████| 213k/213k [00:00<00:00, 41.8MB/s]\n",
      "Lock 139898408911104 released on /root/.cache/huggingface/transformers/c9961ea5b7e8ad58701728c45f4d225f70b19aa59745121e5a96c8a44efca4c8.437aa611e89f6fc6675a049d2b5545390adbc617e7d655286421c191d2be2791.lock\n",
      "Lock 139898409288416 acquired on /root/.cache/huggingface/transformers/45d2aa048795efc7b12791662c188d5e3aa2f9ac54b2cf3f6e4d7bc6544e3d13.25d8d06fb0679146a3ed2a3463e3585380bff882fe6e1ebc497196e40dbbd7fa.lock\n",
      "Downloading: 100%|████████████████████████████| 49.0/49.0 [00:00<00:00, 105kB/s]\n",
      "Lock 139898409288416 released on /root/.cache/huggingface/transformers/45d2aa048795efc7b12791662c188d5e3aa2f9ac54b2cf3f6e4d7bc6544e3d13.25d8d06fb0679146a3ed2a3463e3585380bff882fe6e1ebc497196e40dbbd7fa.lock\n",
      "Lock 139898410582800 acquired on /root/.cache/huggingface/transformers/75be22d7750034989358861e325977feda47740e1c3f8a4dc1cb73570aad843e.2b9a196704f2f183fe3f4b48d6e662dba8203fdcb3346bfa896831378edf6f97.lock\n",
      "Downloading: 100%|███████████████████████████| 436k/436k [00:00<00:00, 32.8MB/s]\n",
      "Lock 139898410582800 released on /root/.cache/huggingface/transformers/75be22d7750034989358861e325977feda47740e1c3f8a4dc1cb73570aad843e.2b9a196704f2f183fe3f4b48d6e662dba8203fdcb3346bfa896831378edf6f97.lock\n",
      "Using bos_token, but it is not set yet.\n",
      "Using eos_token, but it is not set yet.\n",
      "[NeMo I 2024-03-04 02:57:30 text_classification_dataset:120] Read 683 examples from /dli/task/data/NCBI_tc-3/train_nemo_format.tsv.\n",
      "[NeMo I 2024-03-04 02:57:30 text_classification_dataset:238] *** Example ***\n",
      "[NeMo I 2024-03-04 02:57:30 text_classification_dataset:239] example 0: ['Understanding', 'the', 'molecular', 'basis', 'of', 'fragile', 'X', 'syndrome.', 'Fragile', 'X', 'syndrome', ',', 'a', 'common', 'form', 'of', 'inherited', 'mental', 'retardation', ',', 'is', 'mainly', 'caused', 'by', 'massive', 'expansion', 'of', 'CGG', 'triplet', 'repeats', 'located', 'in', 'the', '5-untranslated', 'region', 'of', 'the', 'fragile', 'X', 'mental', 'retardation-1', '(', 'FMR1', ')', 'gene', '.', 'In', 'patients', 'with', 'fragile', 'X', 'syndrome', ',', 'the', 'expanded', 'CGG', 'triplet', 'repeats', 'are', 'hypermethylated', 'and', 'the', 'expression', 'of', 'the', 'FMR1', 'gene', 'is', 'repressed', ',', 'which', 'leads', 'to', 'the', 'absence', 'of', 'FMR1', 'protein', '(', 'FMRP', ')', 'and', 'subsequent', 'mental', 'retardation', '.', 'FMRP', 'is', 'an', 'RNA-binding', 'protein', 'that', 'shuttles', 'between', 'the', 'nucleus', 'and', 'cytoplasm', '.', 'This', 'protein', 'has', 'been', 'implicated', 'in', 'protein', 'translation', 'as', 'it', 'is', 'found', 'associated', 'with', 'polyribosomes', 'and', 'the', 'rough', 'endoplasmic', 'reticulum', '.', 'We', 'discuss', 'here', 'the', 'recent', 'progress', 'made', 'towards', 'understanding', 'the', 'molecular', 'mechanism', 'of', 'CGG', 'repeat', 'expansion', 'and', 'physiological', 'function', '(', 's', ')', 'of', 'FMRP', '.', 'These', 'studies', 'will', 'not', 'only', 'help', 'to', 'illuminate', 'the', 'molecular', 'basis', 'of', 'the', 'general', 'class', 'of', 'human', 'diseases', 'with', 'trinucleotide', 'repeat', 'expansion', 'but', 'also', 'provide', 'an', 'avenue', 'to', 'understand', 'aspects', 'of', 'human', 'cognition', 'and', 'intelligence', '.', '.']\n",
      "[NeMo I 2024-03-04 02:57:30 text_classification_dataset:240] subtokens: [CLS] Understanding the molecular basis of fragile X syndrome . Fr ##agi ##le X syndrome , a common form of inherited mental re ##tar ##dation , is mainly caused by massive expansion of C ##G ##G triple ##t repeats located in the 5 - un ##tra ##ns ##lated region of the fragile X mental re ##tar ##dation - 1 ( FM ##R ##1 ) [SEP]\n",
      "[NeMo I 2024-03-04 02:57:30 text_classification_dataset:241] input_ids: 101 21300 1103 9546 3142 1104 14434 161 9318 119 13359 27547 1513 161 9318 117 170 1887 1532 1104 7459 4910 1231 6817 13759 117 1110 2871 2416 1118 4672 4298 1104 140 2349 2349 9225 1204 19811 1388 1107 1103 126 118 8362 4487 2316 6951 1805 1104 1103 14434 161 4910 1231 6817 13759 118 122 113 3941 2069 1475 114 102\n",
      "[NeMo I 2024-03-04 02:57:30 text_classification_dataset:242] segment_ids: 0 0 0 0 0 0 0 0 0 0 0 0 0 0 0 0 0 0 0 0 0 0 0 0 0 0 0 0 0 0 0 0 0 0 0 0 0 0 0 0 0 0 0 0 0 0 0 0 0 0 0 0 0 0 0 0 0 0 0 0 0 0 0 0 0\n",
      "[NeMo I 2024-03-04 02:57:30 text_classification_dataset:243] input_mask: 1 1 1 1 1 1 1 1 1 1 1 1 1 1 1 1 1 1 1 1 1 1 1 1 1 1 1 1 1 1 1 1 1 1 1 1 1 1 1 1 1 1 1 1 1 1 1 1 1 1 1 1 1 1 1 1 1 1 1 1 1 1 1 1 1\n",
      "[NeMo I 2024-03-04 02:57:30 text_classification_dataset:244] label: 2\n",
      "[NeMo I 2024-03-04 02:57:30 text_classification_dataset:238] *** Example ***\n",
      "[NeMo I 2024-03-04 02:57:30 text_classification_dataset:239] example 1: ['Molecular', 'and', 'phenotypic', 'analysis', 'of', 'patients', 'with', 'deletions', 'within', 'the', 'deletion-rich', 'region', 'of', 'the', 'Duchenne', 'muscular', 'dystrophy', '(DMD)', 'gene.', 'Eighty', 'unrelated', 'individuals', 'with', 'Duchenne', 'muscular', 'dystrophy', '(', 'DMD', ')or', 'Becker', 'muscular', 'dystrophy', '(', 'BMD', ')', 'were', 'found', 'to', 'have', 'deletions', 'in', 'the', 'major', 'deletion-rich', 'region', 'of', 'the', 'DMD', 'locus', '.', 'This', 'region', 'includes', 'the', 'last', 'five', 'exons', 'detected', 'by', 'cDNA5b-7', ',', 'all', 'exons', 'detected', 'by', 'cDNA8', ',', 'and', 'the', 'first', 'two', 'exons', 'detected', 'by', 'cDNA9', '.', 'These', '80', 'individuals', 'account', 'for', 'approximately', '75', '%', 'of', '109', 'deletions', 'of', 'the', 'gene', ',', 'detected', 'among', '181', 'patients', 'analyzed', 'with', 'the', 'entire', 'dystrophin', 'cDNA', '.', 'Endpoints', 'for', 'many', 'of', 'these', 'deletions', 'were', 'further', 'characterized', 'using', 'two', 'genomic', 'probes', ',', 'p20', '(', 'DXS269', ';', 'Wapenaar', 'et', 'al', '.', ')', 'and', 'GMGX11', '(', 'DXS239', ';', 'present', 'paper', ')', '.', 'Clinical', 'findings', 'are', 'presented', 'for', 'all', '80', 'patients', 'allowing', 'a', 'correlation', 'of', 'phenotypic', 'severity', 'with', 'the', 'genotype', '.', 'Thirty-eight', 'independent', 'patients', 'were', 'old', 'enough', 'to', 'be', 'classified', 'as', 'DMD', ',', 'BMD', ',', 'or', 'intermediate', 'phenotype', 'and', 'had', 'deletions', 'of', 'exons', 'with', 'sequenced', 'intron', '/', 'exon', 'boundaries', '.', 'Of', 'these', ',', 'eight', 'BMD', 'patients', 'and', 'one', 'intermediate', 'patient', 'had', 'gene', 'deletions', 'predicted', 'to', 'leave', 'the', 'reading', 'frame', 'intact', ',', 'while', '21', 'DMD', 'patients', ',', '7', 'intermediate', 'patients', ',', 'and', '1', 'BMD', 'patient', 'had', 'gene', 'deletions', 'predicted', 'to', 'disrupt', 'the', 'reading', 'frame', '.', 'Thus', ',', 'with', 'two', 'exceptions', ',', 'frameshift', 'deletions', 'of', 'the', 'gene', 'resulted', 'in', 'more', 'severe', 'phenotype', 'than', 'did', 'in-frame', 'deletions', '.', 'This', 'is', 'in', 'agreement', 'with', 'recent', 'findings', 'by', 'Baumbach', 'et', 'al', '.', 'and', 'Koenig', 'et', 'al', '.', 'but', 'is', 'in', 'contrast', 'to', 'findings', ',', 'by', 'Malhotra', 'et', 'al', '.', 'at', 'the', '5', \"'\", 'end', 'of', 'the', 'gene', '.']\n",
      "[NeMo I 2024-03-04 02:57:30 text_classification_dataset:240] subtokens: [CLS] Molecular and p ##hen ##otypic analysis of patients with del ##eti ##ons within the del ##eti ##on - rich region of the Du ##chen ##ne muscular d ##ys ##tro ##phy ( D ##MD ) gene . Eight ##y unrelated individuals with Du ##chen ##ne muscular d ##ys ##tro ##phy ( D ##MD ) or Becker muscular d ##ys ##tro ##phy ( B ##MD [SEP]\n",
      "[NeMo I 2024-03-04 02:57:30 text_classification_dataset:241] input_ids: 101 22175 1105 185 10436 27202 3622 1104 4420 1114 3687 26883 4199 1439 1103 3687 26883 1320 118 3987 1805 1104 1103 12786 10415 1673 14310 173 6834 8005 22192 113 141 18219 114 5565 119 8371 1183 16037 2833 1114 12786 10415 1673 14310 173 6834 8005 22192 113 141 18219 114 1137 16139 14310 173 6834 8005 22192 113 139 18219 102\n",
      "[NeMo I 2024-03-04 02:57:30 text_classification_dataset:242] segment_ids: 0 0 0 0 0 0 0 0 0 0 0 0 0 0 0 0 0 0 0 0 0 0 0 0 0 0 0 0 0 0 0 0 0 0 0 0 0 0 0 0 0 0 0 0 0 0 0 0 0 0 0 0 0 0 0 0 0 0 0 0 0 0 0 0 0\n",
      "[NeMo I 2024-03-04 02:57:30 text_classification_dataset:243] input_mask: 1 1 1 1 1 1 1 1 1 1 1 1 1 1 1 1 1 1 1 1 1 1 1 1 1 1 1 1 1 1 1 1 1 1 1 1 1 1 1 1 1 1 1 1 1 1 1 1 1 1 1 1 1 1 1 1 1 1 1 1 1 1 1 1 1\n",
      "[NeMo I 2024-03-04 02:57:30 text_classification_dataset:244] label: 1\n",
      "[NeMo W 2024-03-04 02:57:37 text_classification_dataset:250] Found 683 out of 683 sentences with more than 64 subtokens. Truncated long sentences from the end.\n",
      "[NeMo I 2024-03-04 02:57:37 data_preprocessing:299] Some stats of the lengths of the sequences:\n",
      "[NeMo I 2024-03-04 02:57:37 data_preprocessing:301] Min: 65 |                  Max: 65 |                  Mean: 65.0 |                  Median: 65.0\n",
      "[NeMo I 2024-03-04 02:57:37 data_preprocessing:307] 75 percentile: 65.00\n",
      "[NeMo I 2024-03-04 02:57:37 data_preprocessing:308] 99 percentile: 65.00\n",
      "[NeMo I 2024-03-04 02:57:38 text_classification_dataset:120] Read 100 examples from /dli/task/data/NCBI_tc-3/dev_nemo_format.tsv.\n",
      "[NeMo I 2024-03-04 02:57:38 text_classification_dataset:238] *** Example ***\n",
      "[NeMo I 2024-03-04 02:57:38 text_classification_dataset:239] example 0: ['BRCA1', 'is', 'secreted', 'and', 'exhibits', 'properties', 'of', 'a', 'granin.', 'Germline', 'mutations', 'in', 'BRCA1', 'are', 'responsible', 'for', 'most', 'cases', 'of', 'inherited', 'breast', 'and', 'ovarian', 'cancer', '.', 'However', ',', 'the', 'function', 'of', 'the', 'BRCA1', 'protein', 'has', 'remained', 'elusive', '.', 'We', 'now', 'show', 'that', 'BRCA1', 'encodes', 'a', '190-kD', 'protein', 'with', 'sequence', 'homology', 'and', 'biochemical', 'analogy', 'to', 'the', 'granin', 'protein', 'family', '.', 'Interestingly', ',', 'BRCA2', 'also', 'includes', 'a', 'motif', 'similar', 'to', 'the', 'granin', 'consensus', 'at', 'the', 'C', 'terminus', 'of', 'the', 'protein', '.', 'Both', 'BRCA1', 'and', 'the', 'granins', 'localize', 'to', 'secretory', 'vesicles', ',', 'are', 'secreted', 'by', 'a', 'regulated', 'pathway', ',', 'are', 'post-translationally', 'glycosylated', 'and', 'are', 'responsive', 'to', 'hormones', '.', 'As', 'a', 'regulated', 'secretory', 'protein', ',', 'BRCA1', 'appears', 'to', 'function', 'by', 'a', 'mechanism', 'not', 'previously', 'described', 'for', 'tumour', 'suppressor', 'gene', 'products', '.', '.']\n",
      "[NeMo I 2024-03-04 02:57:38 text_classification_dataset:240] subtokens: [CLS] BR ##CA ##1 is secret ##ed and exhibits properties of a g ##rani ##n . G ##er ##m ##line mutations in BR ##CA ##1 are responsible for most cases of inherited breast and o ##var ##ian cancer . However , the function of the BR ##CA ##1 protein has remained el ##usive . We now show that BR ##CA ##1 en ##codes a [SEP]\n",
      "[NeMo I 2024-03-04 02:57:38 text_classification_dataset:241] input_ids: 101 26660 11356 1475 1110 3318 1174 1105 10877 4625 1104 170 176 23851 1179 119 144 1200 1306 2568 17157 1107 26660 11356 1475 1132 2784 1111 1211 2740 1104 7459 7209 1105 184 8997 1811 4182 119 1438 117 1103 3053 1104 1103 26660 11356 1475 4592 1144 1915 8468 17849 119 1284 1208 1437 1115 26660 11356 1475 4035 25634 170 102\n",
      "[NeMo I 2024-03-04 02:57:38 text_classification_dataset:242] segment_ids: 0 0 0 0 0 0 0 0 0 0 0 0 0 0 0 0 0 0 0 0 0 0 0 0 0 0 0 0 0 0 0 0 0 0 0 0 0 0 0 0 0 0 0 0 0 0 0 0 0 0 0 0 0 0 0 0 0 0 0 0 0 0 0 0 0\n",
      "[NeMo I 2024-03-04 02:57:38 text_classification_dataset:243] input_mask: 1 1 1 1 1 1 1 1 1 1 1 1 1 1 1 1 1 1 1 1 1 1 1 1 1 1 1 1 1 1 1 1 1 1 1 1 1 1 1 1 1 1 1 1 1 1 1 1 1 1 1 1 1 1 1 1 1 1 1 1 1 1 1 1 1\n",
      "[NeMo I 2024-03-04 02:57:38 text_classification_dataset:244] label: 0\n",
      "[NeMo I 2024-03-04 02:57:38 text_classification_dataset:238] *** Example ***\n",
      "[NeMo I 2024-03-04 02:57:38 text_classification_dataset:239] example 1: ['Ovarian', 'cancer', 'risk', 'in', 'BRCA1', 'carriers', 'is', 'modified', 'by', 'the', 'HRAS1', 'variable', 'number', 'of', 'tandem', 'repeat', '(VNTR)', 'locus.', 'Women', 'who', 'carry', 'a', 'mutation', 'in', 'the', 'BRCA1', 'gene', '(', 'on', 'chromosome', '17q21', ')', ',', 'have', 'an', '80', '%', 'risk', 'of', 'breast', 'cancer', 'and', 'a', '40', '%', 'risk', 'of', 'ovarian', 'cancer', 'by', 'the', 'age', 'of', '70', '(', 'ref', '.', '1', ')', '.', 'The', 'variable', 'penetrance', 'of', 'BRCA1', 'suggests', 'that', 'other', 'genetic', 'and', 'non-genetic', 'factors', 'play', 'a', 'role', 'in', 'tumourigenesis', 'in', 'these', 'individuals', '.', 'The', 'HRAS1', 'variable', 'number', 'of', 'tandem', 'repeats', '(', 'VNTR', ')', 'polymorphism', ',', 'located', '1', 'kilobase', '(', 'kb', ')', 'downstream', 'of', 'the', 'HRAS1', 'proto-oncogene', '(', 'chromosome', '11p15', '.', '5', ')', 'is', 'one', 'possible', 'genetic', 'modifier', 'of', 'cancer', 'penetrance', '.', 'Individuals', 'who', 'have', 'rare', 'alleles', 'of', 'the', 'VNTR', 'have', 'an', 'increased', 'risk', 'of', 'certain', 'types', 'of', 'cancers', ',', 'including', 'breast', 'cancer', '(', '2-4', ')', '.', 'To', 'investigate', 'whether', 'the', 'presence', 'of', 'rare', 'HRAS1', 'alleles', 'increases', 'susceptibility', 'to', 'hereditary', 'breast', 'and', 'ovarian', 'cancer', ',', 'we', 'have', 'typed', 'a', 'panel', 'of', '307', 'female', 'BRCA1', 'carriers', 'at', 'this', 'locus', 'using', 'a', 'PCR-based', 'technique', '.', 'The', 'risk', 'for', 'ovarian', 'cancer', 'was', '2', '.', '11', 'times', 'greater', 'for', 'BRCA1', 'carriers', 'harbouring', 'one', 'or', 'two', 'rare', 'HRAS1', 'alleles', ',', 'compared', 'to', 'carriers', 'with', 'only', 'common', 'alleles', '(', 'P', '=', '0', '.', '015', ')', '.', 'The', 'magnitude', 'of', 'the', 'relative', 'risk', 'associated', 'with', 'a', 'rare', 'HRAS1', 'allele', 'was', 'not', 'altered', 'by', 'adjusting', 'for', 'the', 'other', 'known', 'risk', 'factors', 'for', 'hereditary', 'ovarian', 'cancer', '(', '5', ')', '.', 'Susceptibility', 'to', 'breast', 'cancer', 'did', 'not', 'appear', 'to', 'be', 'affected', 'by', 'the', 'presence', 'of', 'rare', 'HRAS1', 'alleles', '.', 'This', 'study', 'is', 'the', 'first', 'to', 'show', 'the', 'effect', 'of', 'a', 'modifying', 'gene', 'on', 'the', 'penetrance', 'of', 'an', 'inherited', 'cancer', 'syndrome']\n",
      "[NeMo I 2024-03-04 02:57:38 text_classification_dataset:240] subtokens: [CLS] O ##var ##ian cancer risk in BR ##CA ##1 carriers is modified by the H ##RA ##S ##1 variable number of tandem repeat ( V ##NT ##R ) lo ##cus . Women who carry a mutation in the BR ##CA ##1 gene ( on chromosome 17 ##q ##21 ) , have an 80 % risk of breast cancer and a 40 % risk [SEP]\n",
      "[NeMo I 2024-03-04 02:57:38 text_classification_dataset:241] input_ids: 101 152 8997 1811 4182 3187 1107 26660 11356 1475 11837 1110 5847 1118 1103 145 9664 1708 1475 7898 1295 1104 22090 9488 113 159 15681 2069 114 25338 6697 119 2453 1150 3564 170 17895 1107 1103 26660 11356 1475 5565 113 1113 18697 1542 4426 18202 114 117 1138 1126 2908 110 3187 1104 7209 4182 1105 170 1969 110 3187 102\n",
      "[NeMo I 2024-03-04 02:57:38 text_classification_dataset:242] segment_ids: 0 0 0 0 0 0 0 0 0 0 0 0 0 0 0 0 0 0 0 0 0 0 0 0 0 0 0 0 0 0 0 0 0 0 0 0 0 0 0 0 0 0 0 0 0 0 0 0 0 0 0 0 0 0 0 0 0 0 0 0 0 0 0 0 0\n",
      "[NeMo I 2024-03-04 02:57:38 text_classification_dataset:243] input_mask: 1 1 1 1 1 1 1 1 1 1 1 1 1 1 1 1 1 1 1 1 1 1 1 1 1 1 1 1 1 1 1 1 1 1 1 1 1 1 1 1 1 1 1 1 1 1 1 1 1 1 1 1 1 1 1 1 1 1 1 1 1 1 1 1 1\n",
      "[NeMo I 2024-03-04 02:57:38 text_classification_dataset:244] label: 0\n",
      "[NeMo W 2024-03-04 02:57:39 text_classification_dataset:250] Found 100 out of 100 sentences with more than 64 subtokens. Truncated long sentences from the end.\n",
      "[NeMo I 2024-03-04 02:57:39 data_preprocessing:299] Some stats of the lengths of the sequences:\n",
      "[NeMo I 2024-03-04 02:57:39 data_preprocessing:301] Min: 65 |                  Max: 65 |                  Mean: 65.0 |                  Median: 65.0\n",
      "[NeMo I 2024-03-04 02:57:39 data_preprocessing:307] 75 percentile: 65.00\n",
      "[NeMo I 2024-03-04 02:57:39 data_preprocessing:308] 99 percentile: 65.00\n",
      "[NeMo I 2024-03-04 02:57:39 text_classification_dataset:120] Read 10 examples from /dli/task/data/NCBI_tc-3/test_nemo_format.tsv.\n",
      "[NeMo I 2024-03-04 02:57:39 text_classification_dataset:238] *** Example ***\n",
      "[NeMo I 2024-03-04 02:57:39 text_classification_dataset:239] example 0: ['Clustering', 'of', 'missense', 'mutations', 'in', 'the', 'ataxia-telangiectasia', 'gene', 'in', 'a', 'sporadic', 'T-cell', 'leukaemia.', 'Ataxia-telangiectasia', '(', 'A-T', ')', 'is', 'a', 'recessive', 'multi-system', 'disorder', 'caused', 'by', 'mutations', 'in', 'the', 'ATM', 'gene', 'at', '11q22-q23', '(', 'ref', '.', '3', ')', '.', 'The', 'risk', 'of', 'cancer', ',', 'especially', 'lymphoid', 'neoplasias', ',', 'is', 'substantially', 'elevated', 'in', 'A-T', 'patients', 'and', 'has', 'long', 'been', 'associated', 'with', 'chromosomal', 'instability', '.', 'By', 'analysing', 'tumour', 'DNA', 'from', 'patients', 'with', 'sporadic', 'T-cell', 'prolymphocytic', 'leukaemia', '(', 'T-PLL', ')', ',', 'a', 'rare', 'clonal', 'malignancy', 'with', 'similarities', 'to', 'a', 'mature', 'T-cell', 'leukaemia', 'seen', 'in', 'A-T', ',', 'we', 'demonstrate', 'a', 'high', 'frequency', 'of', 'ATM', 'mutations', 'in', 'T-PLL', '.', 'In', 'marked', 'contrast', 'to', 'the', 'ATM', 'mutation', 'pattern', 'in', 'A-T', ',', 'the', 'most', 'frequent', 'nucleotide', 'changes', 'in', 'this', 'leukaemia', 'were', 'missense', 'mutations', '.', 'These', 'clustered', 'in', 'the', 'region', 'corresponding', 'to', 'the', 'kinase', 'domain', ',', 'which', 'is', 'highly', 'conserved', 'in', 'ATM-related', 'proteins', 'in', 'mouse', ',', 'yeast', 'and', 'Drosophila', '.', 'The', 'resulting', 'amino-acid', 'substitutions', 'are', 'predicted', 'to', 'interfere', 'with', 'ATP', 'binding', 'or', 'substrate', 'recognition', '.', 'Two', 'of', 'seventeen', 'mutated', 'T-PLL', 'samples', 'had', 'a', 'previously', 'reported', 'A-T', 'allele', '.', 'In', 'contrast', ',', 'no', 'mutations', 'were', 'detected', 'in', 'the', 'p53', 'gene', ',', 'suggesting', 'that', 'this', 'tumour', 'suppressor', 'is', 'not', 'frequently', 'altered', 'in', 'this', 'leukaemia', '.', 'Occasional', 'missense', 'mutations', 'in', 'ATM', 'were', 'also', 'found', 'in', 'tumour', 'DNA', 'from', 'patients', 'with', 'B-cell', 'non-Hodgkins', 'lymphomas', '(', 'B-NHL', ')', 'and', 'a', 'B-NHL', 'cell', 'line', '.', 'The', 'evidence', 'of', 'a', 'significant', 'proportion', 'of', 'loss-of-function', 'mutations', 'and', 'a', 'complete', 'absence', 'of', 'the', 'normal', 'copy', 'of', 'ATM', 'in', 'the', 'majority', 'of', 'mutated', 'tumours', 'establishes', 'somatic', 'inactivation', 'of', 'this', 'gene', 'in', 'the', 'pathogenesis', 'of', 'sporadic', 'T-PLL', 'and', 'suggests', 'that', 'ATM', 'acts', 'as', 'a', 'tumour', 'suppressor', '.', 'As', 'constitutional', 'DNA', 'was', 'not', 'available', ',', 'a', 'putative', 'hereditary', 'predisposition', 'to', 'T-PLL', 'will', 'require', 'further', 'investigation', '.', '.']\n",
      "[NeMo I 2024-03-04 02:57:39 text_classification_dataset:240] subtokens: [CLS] C ##luster ##ing of miss ##ense mutations in the at ##ax ##ia - te ##lang ##ie ##ct ##asi ##a gene in a s ##poradic T - cell le ##uka ##emia . At ##ax ##ia - te ##lang ##ie ##ct ##asi ##a ( A - T ) is a re ##cess ##ive multi - system disorder caused by mutations in the AT ##M gene [SEP]\n",
      "[NeMo I 2024-03-04 02:57:39 text_classification_dataset:241] input_ids: 101 140 23225 1158 1104 5529 22615 17157 1107 1103 1120 7897 1465 118 21359 19514 1663 5822 17506 1161 5565 1107 170 188 27695 157 118 2765 5837 12658 20504 119 1335 7897 1465 118 21359 19514 1663 5822 17506 1161 113 138 118 157 114 1110 170 1231 22371 2109 4321 118 1449 8936 2416 1118 17157 1107 1103 13020 2107 5565 102\n",
      "[NeMo I 2024-03-04 02:57:39 text_classification_dataset:242] segment_ids: 0 0 0 0 0 0 0 0 0 0 0 0 0 0 0 0 0 0 0 0 0 0 0 0 0 0 0 0 0 0 0 0 0 0 0 0 0 0 0 0 0 0 0 0 0 0 0 0 0 0 0 0 0 0 0 0 0 0 0 0 0 0 0 0 0\n",
      "[NeMo I 2024-03-04 02:57:39 text_classification_dataset:243] input_mask: 1 1 1 1 1 1 1 1 1 1 1 1 1 1 1 1 1 1 1 1 1 1 1 1 1 1 1 1 1 1 1 1 1 1 1 1 1 1 1 1 1 1 1 1 1 1 1 1 1 1 1 1 1 1 1 1 1 1 1 1 1 1 1 1 1\n",
      "[NeMo I 2024-03-04 02:57:39 text_classification_dataset:244] label: 0\n",
      "[NeMo I 2024-03-04 02:57:39 text_classification_dataset:238] *** Example ***\n",
      "[NeMo I 2024-03-04 02:57:39 text_classification_dataset:239] example 1: ['Myotonic', 'dystrophy', 'protein', 'kinase', 'is', 'involved', 'in', 'the', 'modulation', 'of', 'the', 'Ca2+', 'homeostasis', 'in', 'skeletal', 'muscle', 'cells.', 'Myotonic', 'dystrophy', '(', 'DM', ')', ',', 'the', 'most', 'prevalent', 'muscular', 'disorder', 'in', 'adults', ',', 'is', 'caused', 'by', '(', 'CTG', ')', 'n-repeat', 'expansion', 'in', 'a', 'gene', 'encoding', 'a', 'protein', 'kinase', '(', 'DM', 'protein', 'kinase', ';', 'DMPK', ')', 'and', 'involves', 'changes', 'in', 'cytoarchitecture', 'and', 'ion', 'homeostasis', '.', 'To', 'obtain', 'clues', 'to', 'the', 'normal', 'biological', 'role', 'of', 'DMPK', 'in', 'cellular', 'ion', 'homeostasis', ',', 'we', 'have', 'compared', 'the', 'resting', '[', 'Ca2', '+', ']', 'i', ',', 'the', 'amplitude', 'and', 'shape', 'of', 'depolarization-induced', 'Ca2', '+', 'transients', ',', 'and', 'the', 'content', 'of', 'ATP-driven', 'ion', 'pumps', 'in', 'cultured', 'skeletal', 'muscle', 'cells', 'of', 'wild-type', 'and', 'DMPK', '[', '-', '/', '-', ']', 'knockout', 'mice', '.', 'In', 'vitro-differentiated', 'DMPK', '[', '-', '/', '-', ']', 'myotubes', 'exhibit', 'a', 'higher', 'resting', '[', 'Ca2', '+', ']', 'i', 'than', 'do', 'wild-type', 'myotubes', 'because', 'of', 'an', 'altered', 'open', 'probability', 'of', 'voltage-dependent', 'l-type', 'Ca2', '+', 'and', 'Na', '+', 'channels', '.', 'The', 'mutant', 'myotubes', 'exhibit', 'smaller', 'and', 'slower', 'Ca2', '+', 'responses', 'upon', 'triggering', 'by', 'acetylcholine', 'or', 'high', 'external', 'K', '+', '.', 'In', 'addition', ',', 'we', 'observed', 'that', 'these', 'Ca2', '+', 'transients', 'partially', 'result', 'from', 'an', 'influx', 'of', 'extracellular', 'Ca2', '+', 'through', 'the', 'l-type', 'Ca2', '+', 'channel', '.', 'Neither', 'the', 'content', 'nor', 'the', 'activity', 'of', 'Na', '+', '/', 'K', '+', 'ATPase', 'and', 'sarcoplasmic', 'reticulum', 'Ca2', '+', '-ATPase', 'are', 'affected', 'by', 'DMPK', 'absence', '.', 'In', 'conclusion', ',', 'our', 'data', 'suggest', 'that', 'DMPK', 'is', 'involved', 'in', 'modulating', 'the', 'initial', 'events', 'of', 'excitation-contraction', 'coupling', 'in', 'skeletal', 'muscle', '.', '.']\n",
      "[NeMo I 2024-03-04 02:57:39 text_classification_dataset:240] subtokens: [CLS] My ##oto ##nic d ##ys ##tro ##phy protein kinase is involved in the m ##od ##ulation of the C ##a ##2 + home ##ost ##asis in skeletal muscle cells . My ##oto ##nic d ##ys ##tro ##phy ( D ##M ) , the most prevalent muscular disorder in adults , is caused by ( CT ##G ) n - repeat expansion in a [SEP]\n",
      "[NeMo I 2024-03-04 02:57:39 text_classification_dataset:241] input_ids: 101 1422 12355 7770 173 6834 8005 22192 4592 24779 1110 2017 1107 1103 182 5412 6856 1104 1103 140 1161 1477 116 1313 15540 14229 1107 23400 6484 3652 119 1422 12355 7770 173 6834 8005 22192 113 141 2107 114 117 1103 1211 15950 14310 8936 1107 6323 117 1110 2416 1118 113 16899 2349 114 183 118 9488 4298 1107 170 102\n",
      "[NeMo I 2024-03-04 02:57:39 text_classification_dataset:242] segment_ids: 0 0 0 0 0 0 0 0 0 0 0 0 0 0 0 0 0 0 0 0 0 0 0 0 0 0 0 0 0 0 0 0 0 0 0 0 0 0 0 0 0 0 0 0 0 0 0 0 0 0 0 0 0 0 0 0 0 0 0 0 0 0 0 0 0\n",
      "[NeMo I 2024-03-04 02:57:39 text_classification_dataset:243] input_mask: 1 1 1 1 1 1 1 1 1 1 1 1 1 1 1 1 1 1 1 1 1 1 1 1 1 1 1 1 1 1 1 1 1 1 1 1 1 1 1 1 1 1 1 1 1 1 1 1 1 1 1 1 1 1 1 1 1 1 1 1 1 1 1 1 1\n",
      "[NeMo I 2024-03-04 02:57:39 text_classification_dataset:244] label: 1\n",
      "[NeMo W 2024-03-04 02:57:39 text_classification_dataset:250] Found 10 out of 10 sentences with more than 64 subtokens. Truncated long sentences from the end.\n",
      "[NeMo I 2024-03-04 02:57:39 data_preprocessing:299] Some stats of the lengths of the sequences:\n",
      "[NeMo I 2024-03-04 02:57:39 data_preprocessing:301] Min: 65 |                  Max: 65 |                  Mean: 65.0 |                  Median: 65.0\n",
      "[NeMo I 2024-03-04 02:57:39 data_preprocessing:307] 75 percentile: 65.00\n",
      "[NeMo I 2024-03-04 02:57:39 data_preprocessing:308] 99 percentile: 65.00\n",
      "[NeMo W 2024-03-04 02:57:39 modelPT:197] You tried to register an artifact under config key=tokenizer.vocab_file but an artifact forit has already been registered.\n",
      "[NeMo W 2024-03-04 02:57:39 nemo_logging:349] /opt/conda/lib/python3.8/site-packages/nemo/core/classes/modelPT.py:243: UserWarning: update_node() is deprecated, use OmegaConf.update(). (Since 2.0)\n",
      "      self.cfg.update_node(config_path, return_path)\n",
      "    \n",
      "[NeMo I 2024-03-04 02:57:39 megatron_utils:274] Downloading from https://api.ngc.nvidia.com/v2/models/nvidia/megatron_bert_345m/versions/v0.1_cased/files/release/mp_rank_00/model_optim_rng.pt\n",
      " 43% [.....................                             ] 291594240 / 669513499"
     ]
    },
    {
     "name": "stderr",
     "output_type": "stream",
     "text": [
      "IOPub data rate exceeded.\n",
      "The Jupyter server will temporarily stop sending output\n",
      "to the client in order to avoid crashing it.\n",
      "To change this limit, set the config variable\n",
      "`--ServerApp.iopub_data_rate_limit`.\n",
      "\n",
      "Current values:\n",
      "ServerApp.iopub_data_rate_limit=1000000.0 (bytes/sec)\n",
      "ServerApp.rate_limit_window=3.0 (secs)\n",
      "\n"
     ]
    },
    {
     "name": "stdout",
     "output_type": "stream",
     "text": [
      "100% [..................................................] 669513499 / 669513499using world size: 1, data-parallel-size: 1, tensor-model-parallel size: 1, pipeline-model-parallel size: 1 \n",
      "setting global batch size to 1\n",
      "using torch.float32 for parameters ...\n",
      "------------------------ arguments ------------------------\n",
      "  adam_beta1 ...................................... 0.9\n",
      "  adam_beta2 ...................................... 0.999\n",
      "  adam_eps ........................................ 1e-08\n",
      "  adlr_autoresume ................................. False\n",
      "  adlr_autoresume_interval ........................ 1000\n",
      "  apply_query_key_layer_scaling ................... True\n",
      "  apply_residual_connection_post_layernorm ........ False\n",
      "  attention_dropout ............................... 0.1\n",
      "  attention_softmax_in_fp32 ....................... False\n",
      "  bert_load ....................................... None\n",
      "  bias_dropout_fusion ............................. False\n",
      "  bias_gelu_fusion ................................ False\n",
      "  block_data_path ................................. None\n",
      "  checkpoint_activations .......................... False\n",
      "  checkpoint_num_layers ........................... 1\n",
      "  clip_grad ....................................... 1.0\n",
      "  consumed_train_samples .......................... 0\n",
      "  consumed_valid_samples .......................... 0\n",
      "  data_impl ....................................... infer\n",
      "  data_parallel_size .............................. 1\n",
      "  data_path ....................................... None\n",
      "  DDP_impl ........................................ local\n",
      "  distribute_checkpointed_activations ............. False\n",
      "  distributed_backend ............................. nccl\n",
      "  eod_mask_loss ................................... False\n",
      "  eval_interval ................................... 1000\n",
      "  eval_iters ...................................... 100\n",
      "  exit_duration_in_mins ........................... None\n",
      "  exit_interval ................................... None\n",
      "  faiss_use_gpu ................................... False\n",
      "  finetune ........................................ False\n",
      "  fp16 ............................................ False\n",
      "  fp16_lm_cross_entropy ........................... False\n",
      "  fp32_allreduce .................................. False\n",
      "  fp32_residual_connection ........................ False\n",
      "  global_batch_size ............................... 1\n",
      "  hidden_dropout .................................. 0.1\n",
      "  hidden_size ..................................... 1024\n",
      "  hysteresis ...................................... 2\n",
      "  ict_head_size ................................... None\n",
      "  ict_load ........................................ None\n",
      "  indexer_batch_size .............................. 128\n",
      "  indexer_log_interval ............................ 1000\n",
      "  init_method_std ................................. 0.02\n",
      "  initial_loss_scale .............................. 4294967296\n",
      "  layernorm_epsilon ............................... 1e-05\n",
      "  lazy_mpu_init ................................... True\n",
      "  load ............................................ None\n",
      "  local_rank ...................................... None\n",
      "  log_interval .................................... 100\n",
      "  loss_scale ...................................... None\n",
      "  loss_scale_window ............................... 1000\n",
      "  lr .............................................. None\n",
      "  lr_decay_iters .................................. None\n",
      "  lr_decay_samples ................................ None\n",
      "  lr_decay_style .................................. linear\n",
      "  lr_warmup_fraction .............................. None\n",
      "  lr_warmup_iters ................................. 0\n",
      "  lr_warmup_samples ............................... 0\n",
      "  make_vocab_size_divisible_by .................... 128\n",
      "  mask_prob ....................................... 0.15\n",
      "  max_position_embeddings ......................... 512\n",
      "  merge_file ...................................... None\n",
      "  micro_batch_size ................................ 1\n",
      "  min_loss_scale .................................. 1.0\n",
      "  min_lr .......................................... 0.0\n",
      "  mmap_warmup ..................................... False\n",
      "  no_load_optim ................................... False\n",
      "  no_load_rng ..................................... False\n",
      "  no_save_optim ................................... False\n",
      "  no_save_rng ..................................... False\n",
      "  num_attention_heads ............................. 16\n",
      "  num_layers ...................................... 24\n",
      "  num_workers ..................................... 2\n",
      "  onnx_safe ....................................... True\n",
      "  openai_gelu ..................................... False\n",
      "  override_lr_scheduler ........................... False\n",
      "  params_dtype .................................... torch.float32\n",
      "  pipeline_model_parallel_size .................... 1\n",
      "  query_in_block_prob ............................. 0.1\n",
      "  rampup_batch_size ............................... None\n",
      "  rank ............................................ 0\n",
      "  report_topk_accuracies .......................... []\n",
      "  reset_attention_mask ............................ False\n",
      "  reset_position_ids .............................. False\n",
      "  save ............................................ None\n",
      "  save_interval ................................... None\n",
      "  scaled_masked_softmax_fusion .................... False\n",
      "  scaled_upper_triang_masked_softmax_fusion ....... False\n",
      "  seed ............................................ 1234\n",
      "  seq_length ...................................... None\n",
      "  short_seq_prob .................................. 0.1\n",
      "  split ........................................... 969, 30, 1\n",
      "  tensor_model_parallel_size ...................... 1\n",
      "  tensorboard_dir ................................. None\n",
      "  titles_data_path ................................ None\n",
      "  tokenizer_type .................................. BertWordPieceLowerCase\n",
      "  train_iters ..................................... None\n",
      "  train_samples ................................... None\n",
      "  use_checkpoint_lr_scheduler ..................... False\n",
      "  use_cpu_initialization .......................... False\n",
      "  use_one_sent_docs ............................... False\n",
      "  vocab_file ...................................... /root/.cache/huggingface/nemo_nlp_tmp/f0a1e1f5d288a72b70b8a54ba4951869/tokenizer.vocab_file\n",
      "  weight_decay .................................... 0.01\n",
      "  world_size ...................................... 1\n",
      "-------------------- end of arguments ---------------------\n",
      "setting number of micro-batches to constant 1\n",
      "> building BertWordPieceLowerCase tokenizer ...\n",
      " > padded vocab (size: 28996) with 60 dummy tokens (new size: 29056)\n",
      "[NeMo I 2024-03-04 02:57:43 megatron_bert:109] Megatron-lm argparse args: Namespace(DDP_impl='local', adam_beta1=0.9, adam_beta2=0.999, adam_eps=1e-08, adlr_autoresume=False, adlr_autoresume_interval=1000, apply_query_key_layer_scaling=True, apply_residual_connection_post_layernorm=False, attention_dropout=0.1, attention_softmax_in_fp32=False, bert_load=None, bias_dropout_fusion=False, bias_gelu_fusion=False, block_data_path=None, checkpoint_activations=False, checkpoint_num_layers=1, clip_grad=1.0, consumed_train_samples=0, consumed_valid_samples=0, data_impl='infer', data_parallel_size=1, data_path=None, distribute_checkpointed_activations=False, distributed_backend='nccl', eod_mask_loss=False, eval_interval=1000, eval_iters=100, exit_duration_in_mins=None, exit_interval=None, faiss_use_gpu=False, finetune=False, fp16=False, fp16_lm_cross_entropy=False, fp32_allreduce=False, fp32_residual_connection=False, global_batch_size=1, hidden_dropout=0.1, hidden_size=1024, hysteresis=2, ict_head_size=None, ict_load=None, indexer_batch_size=128, indexer_log_interval=1000, init_method_std=0.02, initial_loss_scale=4294967296, layernorm_epsilon=1e-05, lazy_mpu_init=True, load=None, local_rank=None, log_interval=100, loss_scale=None, loss_scale_window=1000, lr=None, lr_decay_iters=None, lr_decay_samples=None, lr_decay_style='linear', lr_warmup_fraction=None, lr_warmup_iters=0, lr_warmup_samples=0, make_vocab_size_divisible_by=128, mask_prob=0.15, max_position_embeddings=512, merge_file=None, micro_batch_size=1, min_loss_scale=1.0, min_lr=0.0, mmap_warmup=False, no_load_optim=False, no_load_rng=False, no_save_optim=False, no_save_rng=False, num_attention_heads=16, num_layers=24, num_workers=2, onnx_safe=True, openai_gelu=False, override_lr_scheduler=False, padded_vocab_size=29056, params_dtype=torch.float32, pipeline_model_parallel_size=1, query_in_block_prob=0.1, rampup_batch_size=None, rank=0, report_topk_accuracies=[], reset_attention_mask=False, reset_position_ids=False, save=None, save_interval=None, scaled_masked_softmax_fusion=False, scaled_upper_triang_masked_softmax_fusion=False, seed=1234, seq_length=None, short_seq_prob=0.1, split='969, 30, 1', tensor_model_parallel_size=1, tensorboard_dir=None, titles_data_path=None, tokenizer_type='BertWordPieceLowerCase', train_iters=None, train_samples=None, use_checkpoint_lr_scheduler=False, use_cpu_initialization=True, use_one_sent_docs=False, vocab_file='/root/.cache/huggingface/nemo_nlp_tmp/f0a1e1f5d288a72b70b8a54ba4951869/tokenizer.vocab_file', weight_decay=0.01, world_size=1)\n",
      "[NeMo W 2024-03-04 02:57:45 megatron_bert:185] Megatron-lm checkpoint version not found. Setting checkpoint_version to 0.\n",
      "[NeMo I 2024-03-04 02:57:46 megatron_bert:192] Checkpoint loaded from from /root/.cache/torch/megatron/megatron-bert-345m-cased\n",
      "[NeMo I 2024-03-04 02:57:46 text_classification_with_bert:118] ===========================================================================================\n",
      "[NeMo I 2024-03-04 02:57:46 text_classification_with_bert:119] Starting training...\n",
      "LOCAL_RANK: 0 - CUDA_VISIBLE_DEVICES: [0]\n",
      "[NeMo I 2024-03-04 02:57:46 modelPT:748] Optimizer config = Adam (\n",
      "    Parameter Group 0\n",
      "        amsgrad: False\n",
      "        betas: [0.9, 0.999]\n",
      "        eps: 1e-08\n",
      "        lr: 5e-05\n",
      "        weight_decay: 0.01\n",
      "    )\n",
      "[NeMo I 2024-03-04 02:57:46 lr_scheduler:617] Scheduler \"<nemo.core.optim.lr_scheduler.WarmupAnnealing object at 0x7f3ca3093520>\" \n",
      "    will be used during training (effective maximum steps = 110) - \n",
      "    Parameters : \n",
      "    (warmup_steps: null\n",
      "    warmup_ratio: 0.1\n",
      "    last_epoch: -1\n",
      "    max_steps: 110\n",
      "    )\n",
      "initializing ddp: GLOBAL_RANK: 0, MEMBER: 1/1\n",
      "Added key: store_based_barrier_key:1 to store for rank: 0\n",
      "\n",
      "  | Name                  | Type                 | Params\n",
      "---------------------------------------------------------------\n",
      "0 | loss                  | CrossEntropyLoss     | 0     \n",
      "1 | bert_model            | MegatronBertEncoder  | 332 M \n",
      "2 | classifier            | SequenceClassifier   | 1.1 M \n",
      "3 | classification_report | ClassificationReport | 0     \n",
      "---------------------------------------------------------------\n",
      "333 M     Trainable params\n",
      "0         Non-trainable params\n",
      "333 M     Total params\n",
      "1,334.575 Total estimated model params size (MB)\n",
      "Epoch 0:   0%|                                           | 0/26 [00:00<?, ?it/s]torch distributed is already initialized, skipping initialization ...\n",
      "> initializing tensor model parallel with size 1\n",
      "> initializing pipeline model parallel with size 1\n",
      "Added key: store_based_barrier_key:2 to store for rank: 0\n",
      "Added key: store_based_barrier_key:3 to store for rank: 0\n",
      "Added key: store_based_barrier_key:4 to store for rank: 0\n",
      "Added key: store_based_barrier_key:5 to store for rank: 0\n",
      "Added key: store_based_barrier_key:6 to store for rank: 0\n",
      "> setting random seeds to 1234 ...\n",
      "> initializing model parallel cuda seeds on global rank 0, model parallel rank 0, and data parallel rank 0 with model parallel seed: 3952 and data parallel seed: 1234\n",
      "[W reducer.cpp:1060] Warning: find_unused_parameters=True was specified in DDP constructor, but did not find any unused parameters. This flag results in an extra traversal of the autograd graph every iteration, which can adversely affect performance. If your model indeed never has any unused parameters, consider turning this flag off. Note that this warning may be a false positive your model has flow control causing later iterations to have unused parameters. (function operator())\n",
      "Epoch 0:   4%|▍           | 1/26 [00:01<00:41,  1.66s/it, loss=1.09, v_num=7-29][NeMo W 2024-03-04 02:57:49 nemo_logging:349] /opt/conda/lib/python3.8/site-packages/torch/optim/lr_scheduler.py:129: UserWarning: Detected call of `lr_scheduler.step()` before `optimizer.step()`. In PyTorch 1.1.0 and later, you should call them in the opposite order: `optimizer.step()` before `lr_scheduler.step()`.  Failure to do this will result in PyTorch skipping the first value of the learning rate schedule. See more details at https://pytorch.org/docs/stable/optim.html#how-to-adjust-learning-rate\n",
      "      warnings.warn(\"Detected call of `lr_scheduler.step()` before `optimizer.step()`. \"\n",
      "    \n",
      "Epoch 0:  85%|▊| 22/26 [00:07<00:01,  2.94it/s, loss=0.999, v_num=7-29, lr=4.55e\n",
      "Validating: 0it [00:00, ?it/s]\u001b[A\n",
      "Validating:   0%|                                         | 0/4 [00:00<?, ?it/s]\u001b[A\n",
      "Epoch 0:  92%|▉| 24/26 [00:07<00:00,  3.01it/s, loss=0.999, v_num=7-29, lr=4.55e\u001b[A\n",
      "Epoch 0: 100%|█| 26/26 [00:08<00:00,  3.21it/s, loss=0.999, v_num=7-29, lr=4.55e\u001b[A[NeMo I 2024-03-04 02:57:55 text_classification_model:165] val_report: \n",
      "    label                                                precision    recall       f1           support   \n",
      "    label_id: 0                                            100.00      50.00      66.67         32\n",
      "    label_id: 1                                            100.00       8.33      15.38         24\n",
      "    label_id: 2                                             53.66     100.00      69.84         44\n",
      "    -------------------\n",
      "    micro avg                                               62.00      62.00      62.00        100\n",
      "    macro avg                                               84.55      52.78      50.63        100\n",
      "    weighted avg                                            79.61      62.00      55.76        100\n",
      "    \n",
      "Epoch 0: 100%|█| 26/26 [00:08<00:00,  3.19it/s, loss=0.999, v_num=7-29, lr=4.49e\n",
      "                                                                                \u001b[AEpoch 0, global step 21: val_loss reached 0.92719 (best 0.92719), saving model to \"/dli/task/nemo_experiments/TextClassification/2024-03-04_02-57-29/checkpoints/TextClassification--val_loss=0.93-epoch=0.ckpt\" as top 3\n",
      "Epoch 1:  85%|▊| 22/26 [00:06<00:01,  3.56it/s, loss=0.532, v_num=7-29, lr=3.43e\n",
      "Validating: 0it [00:00, ?it/s]\u001b[A\n",
      "Validating:   0%|                                         | 0/4 [00:00<?, ?it/s]\u001b[A\n",
      "Epoch 1:  92%|▉| 24/26 [00:06<00:00,  3.80it/s, loss=0.532, v_num=7-29, lr=3.43e\u001b[A\n",
      "Epoch 1: 100%|█| 26/26 [00:06<00:00,  4.04it/s, loss=0.532, v_num=7-29, lr=3.43e\u001b[A[NeMo I 2024-03-04 02:58:12 text_classification_model:165] val_report: \n",
      "    label                                                precision    recall       f1           support   \n",
      "    label_id: 0                                             93.75      93.75      93.75         32\n",
      "    label_id: 1                                             90.48      79.17      84.44         24\n",
      "    label_id: 2                                             87.23      93.18      90.11         44\n",
      "    -------------------\n",
      "    micro avg                                               90.00      90.00      90.00        100\n",
      "    macro avg                                               90.49      88.70      89.43        100\n",
      "    weighted avg                                            90.10      90.00      89.92        100\n",
      "    \n",
      "Epoch 1: 100%|█| 26/26 [00:06<00:00,  4.00it/s, loss=0.532, v_num=7-29, lr=3.38e\n",
      "                                                                                \u001b[AEpoch 1, global step 43: val_loss reached 0.28618 (best 0.28618), saving model to \"/dli/task/nemo_experiments/TextClassification/2024-03-04_02-57-29/checkpoints/TextClassification--val_loss=0.29-epoch=1.ckpt\" as top 3\n",
      "Epoch 2:  85%|▊| 22/26 [00:06<00:01,  3.58it/s, loss=0.27, v_num=7-29, lr=2.32e-\n",
      "Validating: 0it [00:00, ?it/s]\u001b[A\n",
      "Validating:   0%|                                         | 0/4 [00:00<?, ?it/s]\u001b[A\n",
      "Epoch 2:  92%|▉| 24/26 [00:06<00:00,  3.82it/s, loss=0.27, v_num=7-29, lr=2.32e-\u001b[A\n",
      "Epoch 2: 100%|█| 26/26 [00:06<00:00,  4.05it/s, loss=0.27, v_num=7-29, lr=2.32e-\u001b[A[NeMo I 2024-03-04 02:59:03 text_classification_model:165] val_report: \n",
      "    label                                                precision    recall       f1           support   \n",
      "    label_id: 0                                             90.91      93.75      92.31         32\n",
      "    label_id: 1                                             75.00     100.00      85.71         24\n",
      "    label_id: 2                                            100.00      79.55      88.61         44\n",
      "    -------------------\n",
      "    micro avg                                               89.00      89.00      89.00        100\n",
      "    macro avg                                               88.64      91.10      88.88        100\n",
      "    weighted avg                                            91.09      89.00      89.10        100\n",
      "    \n",
      "Epoch 2: 100%|█| 26/26 [00:06<00:00,  4.01it/s, loss=0.27, v_num=7-29, lr=2.27e-\n",
      "                                                                                \u001b[AEpoch 2, global step 65: val_loss reached 0.27325 (best 0.27325), saving model to \"/dli/task/nemo_experiments/TextClassification/2024-03-04_02-57-29/checkpoints/TextClassification--val_loss=0.27-epoch=2.ckpt\" as top 3\n",
      "Epoch 3:  85%|▊| 22/26 [00:06<00:01,  3.57it/s, loss=0.173, v_num=7-29, lr=1.21e\n",
      "Validating: 0it [00:00, ?it/s]\u001b[A\n",
      "Validating:   0%|                                         | 0/4 [00:00<?, ?it/s]\u001b[A\n",
      "Epoch 3:  92%|▉| 24/26 [00:06<00:00,  3.78it/s, loss=0.173, v_num=7-29, lr=1.21e\u001b[A\n",
      "Epoch 3: 100%|█| 26/26 [00:06<00:00,  4.02it/s, loss=0.173, v_num=7-29, lr=1.21e\u001b[A[NeMo I 2024-03-04 02:59:49 text_classification_model:165] val_report: \n",
      "    label                                                precision    recall       f1           support   \n",
      "    label_id: 0                                             93.75      93.75      93.75         32\n",
      "    label_id: 1                                             84.62      91.67      88.00         24\n",
      "    label_id: 2                                             92.86      88.64      90.70         44\n",
      "    -------------------\n",
      "    micro avg                                               91.00      91.00      91.00        100\n",
      "    macro avg                                               90.41      91.35      90.82        100\n",
      "    weighted avg                                            91.16      91.00      91.03        100\n",
      "    \n",
      "Epoch 3: 100%|█| 26/26 [00:06<00:00,  3.98it/s, loss=0.173, v_num=7-29, lr=1.16e\n",
      "                                                                                \u001b[AEpoch 3, global step 87: val_loss reached 0.19792 (best 0.19792), saving model to \"/dli/task/nemo_experiments/TextClassification/2024-03-04_02-57-29/checkpoints/TextClassification--val_loss=0.20-epoch=3.ckpt\" as top 3\n",
      "Epoch 4:  85%|▊| 22/26 [00:06<00:01,  3.57it/s, loss=0.123, v_num=7-29, lr=1.01e\n",
      "Validating: 0it [00:00, ?it/s]\u001b[A\n",
      "Validating:   0%|                                         | 0/4 [00:00<?, ?it/s]\u001b[A\n",
      "Epoch 4:  92%|▉| 24/26 [00:06<00:00,  3.80it/s, loss=0.123, v_num=7-29, lr=1.01e\u001b[A\n",
      "Epoch 4: 100%|█| 26/26 [00:06<00:00,  4.03it/s, loss=0.123, v_num=7-29, lr=1.01e\u001b[A[NeMo I 2024-03-04 03:00:38 text_classification_model:165] val_report: \n",
      "    label                                                precision    recall       f1           support   \n",
      "    label_id: 0                                             93.94      96.88      95.38         32\n",
      "    label_id: 1                                             84.62      91.67      88.00         24\n",
      "    label_id: 2                                             95.12      88.64      91.76         44\n",
      "    -------------------\n",
      "    micro avg                                               92.00      92.00      92.00        100\n",
      "    macro avg                                               91.23      92.39      91.72        100\n",
      "    weighted avg                                            92.22      92.00      92.02        100\n",
      "    \n",
      "Epoch 4: 100%|█| 26/26 [00:06<00:00,  4.00it/s, loss=0.123, v_num=7-29, lr=5.05e\n",
      "                                                                                \u001b[AEpoch 4, global step 109: val_loss reached 0.18571 (best 0.18571), saving model to \"/dli/task/nemo_experiments/TextClassification/2024-03-04_02-57-29/checkpoints/TextClassification--val_loss=0.19-epoch=4.ckpt\" as top 3\n",
      "Epoch 4: 100%|█| 26/26 [00:17<00:00,  1.46it/s, loss=0.123, v_num=7-29, lr=5.05eSaving latest checkpoint...\n",
      "Epoch 4: 100%|█| 26/26 [00:46<00:00,  1.79s/it, loss=0.123, v_num=7-29, lr=5.05e\n",
      "[NeMo W 2024-03-04 03:01:18 nemo_logging:349] /opt/conda/lib/python3.8/site-packages/nemo/core/classes/modelPT.py:308: UserWarning: update_node() is deprecated, use OmegaConf.update(). (Since 2.0)\n",
      "      conf.update_node(conf_path, item.path)\n",
      "    \n",
      "[NeMo I 2024-03-04 03:02:28 text_classification_with_bert:121] Training finished!\n",
      "[NeMo I 2024-03-04 03:02:28 text_classification_with_bert:122] ===========================================================================================\n",
      "[NeMo I 2024-03-04 03:03:39 text_classification_with_bert:127] Model is saved into `.nemo` file: text_classification_model.nemo\n",
      "[NeMo I 2024-03-04 03:03:39 text_classification_with_bert:131] ===========================================================================================\n",
      "[NeMo I 2024-03-04 03:03:39 text_classification_with_bert:132] Starting the testing of the trained model on test set...\n",
      "LOCAL_RANK: 0 - CUDA_VISIBLE_DEVICES: [0]\n",
      "Testing: 100%|████████████████████████████████████| 1/1 [00:00<00:00,  8.29it/s][NeMo I 2024-03-04 03:03:40 text_classification_model:165] test_report: \n",
      "    label                                                precision    recall       f1           support   \n",
      "    label_id: 0                                            100.00      50.00      66.67          4\n",
      "    label_id: 1                                             66.67     100.00      80.00          2\n",
      "    label_id: 2                                             80.00     100.00      88.89          4\n",
      "    -------------------\n",
      "    micro avg                                               80.00      80.00      80.00         10\n",
      "    macro avg                                               82.22      83.33      78.52         10\n",
      "    weighted avg                                            85.33      80.00      78.22         10\n",
      "    \n",
      "Testing: 100%|████████████████████████████████████| 1/1 [00:00<00:00,  5.80it/s]\n",
      "[NeMo I 2024-03-04 03:03:40 text_classification_with_bert:134] Testing finished!\n",
      "[NeMo I 2024-03-04 03:03:40 text_classification_with_bert:135] ===========================================================================================\n",
      "[NeMo I 2024-03-04 03:03:40 text_classification_with_bert:139] ===========================================================================================\n",
      "[NeMo I 2024-03-04 03:03:40 text_classification_with_bert:140] Starting the inference on some sample queries...\n",
      "[NeMo I 2024-03-04 03:03:40 text_classification_with_bert:144] The prediction results of some sample queries with the trained model:\n",
      "[NeMo I 2024-03-04 03:03:40 text_classification_with_bert:146] Query : In contrast no mutations were detected in the p53 gene suggesting that this tumour suppressor is not frequently altered in this leukaemia\n",
      "[NeMo I 2024-03-04 03:03:40 text_classification_with_bert:147] Predicted label: 0\n",
      "[NeMo I 2024-03-04 03:03:40 text_classification_with_bert:146] Query : The first predictive testing for Huntington disease  was based on analysis of linked polymorphic DNA markers to estimate the likelihood of inheriting the mutation for HD\n",
      "[NeMo I 2024-03-04 03:03:40 text_classification_with_bert:147] Predicted label: 1\n",
      "[NeMo I 2024-03-04 03:03:40 text_classification_with_bert:146] Query : Further studies suggested that low dilutions of C5D serum contain a factor or factors interfering at some step in the hemolytic assay of C5 rather than a true C5 inhibitor or inactivator\n",
      "[NeMo I 2024-03-04 03:03:40 text_classification_with_bert:147] Predicted label: 2\n",
      "[NeMo I 2024-03-04 03:03:40 text_classification_with_bert:149] Inference finished!\n",
      "[NeMo I 2024-03-04 03:03:40 text_classification_with_bert:150] ===========================================================================================\n"
     ]
    }
   ],
   "source": [
    "# TODO Try your own experiment with a different language model!\n",
    "\n",
    "# The training takes about 10 minutes to run\n",
    "\n",
    "TC_DIR = \"/dli/task/nemo/examples/nlp/text_classification\"\n",
    "\n",
    "# set the values we want to override\n",
    "NUM_CLASSES = 3\n",
    "MAX_SEQ_LENGTH = 64\n",
    "PATH_TO_TRAIN_FILE = \"/dli/task/data/NCBI_tc-3/train_nemo_format.tsv\"\n",
    "PATH_TO_VAL_FILE = \"/dli/task/data/NCBI_tc-3/dev_nemo_format.tsv\"\n",
    "PATH_TO_TEST_FILE = \"/dli/task/data/NCBI_tc-3/test_nemo_format.tsv\"\n",
    "# disease domain inference sample answers should be 0, 1, 2 \n",
    "INFER_SAMPLES_0 = \"In contrast no mutations were detected in the p53 gene suggesting that this tumour suppressor is not frequently altered in this leukaemia \"\n",
    "INFER_SAMPLES_1 = \"The first predictive testing for Huntington disease  was based on analysis of linked polymorphic DNA markers to estimate the likelihood of inheriting the mutation for HD\"\n",
    "INFER_SAMPLES_2 = \"Further studies suggested that low dilutions of C5D serum contain a factor or factors interfering at some step in the hemolytic assay of C5 rather than a true C5 inhibitor or inactivator\"\n",
    "MAX_EPOCHS = 5\n",
    "AMP_LEVEL = 'O1'\n",
    "PRECISION = 16\n",
    "LR = 5.0e-05\n",
    "BATCH_SIZE = 32\n",
    "PRETRAINED_MODEL_NAME = \"megatron-bert-345m-cased\"\n",
    "\n",
    "!python $TC_DIR/text_classification_with_bert.py \\\n",
    "        model.dataset.num_classes=$NUM_CLASSES \\\n",
    "        model.dataset.max_seq_length=$MAX_SEQ_LENGTH \\\n",
    "        model.train_ds.file_path=$PATH_TO_TRAIN_FILE \\\n",
    "        model.validation_ds.file_path=$PATH_TO_VAL_FILE \\\n",
    "        model.test_ds.file_path=$PATH_TO_TEST_FILE \\\n",
    "        model.train_ds.batch_size=$BATCH_SIZE \\\n",
    "        model.validation_ds.batch_size=$BATCH_SIZE \\\n",
    "        model.test_ds.batch_size=$BATCH_SIZE \\\n",
    "        model.infer_samples=[\"$INFER_SAMPLES_0\",\"$INFER_SAMPLES_1\",\"$INFER_SAMPLES_2\"] \\\n",
    "        trainer.max_epochs=$MAX_EPOCHS \\\n",
    "        trainer.amp_level=$AMP_LEVEL \\\n",
    "        trainer.precision=$PRECISION \\\n",
    "        model.optim.lr=$LR \\\n",
    "        model.language_model.pretrained_model_name=$PRETRAINED_MODEL_NAME"
   ]
  },
  {
   "cell_type": "markdown",
   "metadata": {
    "id": "1d6d7TXbhN9h"
   },
   "source": [
    "---\n",
    "# 2.3 PyTorch Lightning 모델과 Trainer 워크플로우\n",
    "NeMo 모델 스크립트는 가장 빠르게 시작하고 실행할 수 있는 방법입니다. 그러나 때로는 스크립트를 직접 작성하거나 프로젝트를 좀 더 맞춤화한 방식으로 수행하는 것이 더 좋습니다. 이 경우, 모델 트레이닝 스크립트 내에서 추상화된 (캡슐화되고 숨겨진) PyTorch 라이트닝 워크플로우를 단계별로 진행할 수 있습니다. 우리는 스크립트를 살펴 본 후에 스크립트 또는 Hydra 없이 처음부터 동일한 워크플로우로 진행해 보겠습니다. "
   ]
  },
  {
   "cell_type": "markdown",
   "metadata": {
    "id": "4jEth6ZihN9h"
   },
   "source": [
    "## 2.3.1 스크립트 주요 특징\n",
    "[text_classification_with_bert.py](nemo/examples/nlp/text_classification/text_classification_with_bert.py) 스크립트를 열면 정확이 어떤 일들이 진행되고 있는 지를 확인할 수 있습니다. \n",
    "\n",
    "다음은 로깅 및 Initial comments가 제거된 축약된 버전입니다.:\n",
    "\n",
    "```python\n",
    "import pytorch_lightning as pl\n",
    "from omegaconf import DictConfig\n",
    "\n",
    "from nemo.collections.nlp.models.text_classification import TextClassificationModel\n",
    "from nemo.collections.nlp.parts.nlp_overrides import NLPDDPPlugin\n",
    "from nemo.core.config import hydra_runner\n",
    "from nemo.utils.exp_manager import exp_manager\n",
    "\n",
    "\n",
    "@hydra_runner(config_path=\"conf\", config_name=\"text_classification_config\")\n",
    "def main(cfg: DictConfig) -> None:\n",
    "    trainer = pl.Trainer(plugins=[NLPDDPPlugin()], **cfg.trainer)\n",
    "    exp_manager(trainer, cfg.get(\"exp_manager\", None))\n",
    "\n",
    "    if not cfg.model.train_ds.file_path:\n",
    "        raise ValueError(\"'train_ds.file_path' need to be set for the training!\")\n",
    "\n",
    "    model = TextClassificationModel(cfg.model, trainer=trainer)\n",
    "    trainer.fit(model)\n",
    "\n",
    "    if cfg.model.nemo_path:\n",
    "        # '.nemo' file contains the last checkpoint and the params to initialize the model\n",
    "        model.save_to(cfg.model.nemo_path)\n",
    "\n",
    "    # We evaluate the trained model on the test set if test_ds is set in the config file\n",
    "    if cfg.model.test_ds.file_path:\n",
    "        trainer.test(model=model, ckpt_path=None, verbose=False)\n",
    "\n",
    "    # perform inference on a list of queries.\n",
    "    if \"infer_samples\" in cfg.model and cfg.model.infer_samples:       \n",
    "        # max_seq_length=512 is the maximum length BERT supports.\n",
    "        results = model.classifytext(queries=cfg.model.infer_samples, batch_size=16, max_seq_length=512)\n",
    "\n",
    "if __name__ == '__main__':\n",
    "    main()\n",
    "```\n",
    "Hydra 데코레이터 `@hydra_runner`는 환경 구성 파일을 연결하고 커맨드 라인의 재정의 메커니즘을 제공합니다.\n",
    "\n",
    "환경 구성이 설정 되면, 주요 단계는 다음과 같습니다.:\n",
    "1. 다음과 같이 트레이너를 인스턴스화 합니다. `trainer = pl.Trainer(plugins=[NLPDDPPlugin()], **cfg.trainer)`\n",
    "1. 모델을 다음과 같이 인스턴스화 합니다. `model = TextClassificationModel(cfg.model, trainer=trainer)`\n",
    "1. 모델을 다음과 함께 트레이닝 합니다. `trainer.fit(model)`\n",
    "\n",
    "선택적인 추론과 평가를 위한 추가적인 단계는 다음과 같습니다.:\n",
    "* 다음과 함께 평가를 진행합니다. `trainer.test(model=model, ckpt_path=None, verbose=False)`\n",
    "* 다음과 함께 추론을 진행합니다. `results = model.classifytext(queries=cfg.model.infer_samples, batch_size=16, max_seq_length=512)`"
   ]
  },
  {
   "cell_type": "markdown",
   "metadata": {
    "id": "himT86TDhN9i",
    "tags": []
   },
   "source": [
    "## 2.3.2 처음(Scratch)부터 모델 트레이닝 하기\n",
    "다음 셀을 실행하여 노트북 커널을 재시작하고 변수 및 GPU 메모리를 지웁니다."
   ]
  },
  {
   "cell_type": "code",
   "execution_count": 26,
   "metadata": {
    "id": "qU6-P_5xhN9j"
   },
   "outputs": [
    {
     "data": {
      "text/plain": [
       "{'status': 'ok', 'restart': True}"
      ]
     },
     "execution_count": 26,
     "metadata": {},
     "output_type": "execute_result"
    }
   ],
   "source": [
    "# Restart the kernel\n",
    "import IPython\n",
    "app = IPython.Application.instance()\n",
    "app.kernel.do_shutdown(True)"
   ]
  },
  {
   "cell_type": "markdown",
   "metadata": {
    "id": "GNhng1aChN9j"
   },
   "source": [
    "우선 `nemo_nlp` 컬렉션, experiment manager, PyTorch 라이트닝, 과 OmegaConf를 Import합니다."
   ]
  },
  {
   "cell_type": "code",
   "execution_count": 2,
   "metadata": {
    "id": "1BnOoWOZhN9j"
   },
   "outputs": [],
   "source": [
    "from nemo.collections import nlp as nemo_nlp\n",
    "from nemo.utils.exp_manager import exp_manager\n",
    "\n",
    "import torch\n",
    "import pytorch_lightning as pl\n",
    "from omegaconf import OmegaConf"
   ]
  },
  {
   "cell_type": "markdown",
   "metadata": {
    "id": "VsHWZAeHhN9k"
   },
   "source": [
    "스크립트 또는 Hydra 없이 트레이닝 단계를 수동으로 실행할 경우, 인스턴스화 전에 올바른 구성이 설정되어 있어야 합니다.이 프로젝트의 구성 파일에 있어 변경하고자 하는 사항들이 이미 결정되었습니다. 이전에는 커맨드라인에 Hydra 재정의 기능을 사용했지만 이번에는 `OmegaConf`를 사용하여 변경하였습니다. `OmegaConf` 오브젝트인 `config` 를 파이썬에서 직접 변경하는 것을 제외하고 Syntax(구문)는 비슷해 보이며, 이 개체를 `trainer`, `exp_manager`, `model`로 전달할 것입니다..\n",
    "\n",
    "기본 언어 모델은 `bert-base-uncased`입니다. 이 값을 재정의하려면, 아래 예시와 같이 셀에 추가 합니다:\n",
    "```python\n",
    "    PRETRAINED_MODEL_NAME = 'bert-base-cased'\n",
    "    config.model.language_model.pretrained_model_name=PRETRAINED_MODEL_NAME\n",
    "```"
   ]
  },
  {
   "cell_type": "code",
   "execution_count": 3,
   "metadata": {
    "id": "xYl7_E3yhN9k"
   },
   "outputs": [],
   "source": [
    "# Instantiate the OmegaConf object by loading the config file\n",
    "TC_DIR = \"/dli/task/nemo/examples/nlp/text_classification\"\n",
    "CONFIG_FILE = \"text_classification_config.yaml\"\n",
    "config = OmegaConf.load(TC_DIR + \"/conf/\" + CONFIG_FILE)\n",
    "\n",
    "# set the values we want to change\n",
    "NUM_CLASSES = 3\n",
    "MAX_SEQ_LENGTH = 128\n",
    "PATH_TO_TRAIN_FILE = \"/dli/task/data/NCBI_tc-3/train_nemo_format.tsv\"\n",
    "PATH_TO_VAL_FILE = \"/dli/task/data/NCBI_tc-3/dev_nemo_format.tsv\"\n",
    "PATH_TO_TEST_FILE = \"/dli/task/data/NCBI_tc-3/test_nemo_format.tsv\"\n",
    "# disease domain inference sample answers should be 0, 1, 2 \n",
    "INFER_SAMPLES = [\"Germline mutations in BRCA1 are responsible for most cases of inherited breast and ovarian cancer \",\n",
    "        \"The first predictive testing for Huntington disease  was based on analysis of linked polymorphic DNA markers to estimate the likelihood of inheriting the mutation for HD\",\n",
    "        \"Further studies suggested that low dilutions of C5D serum contain a factor or factors interfering at some step in the hemolytic assay of C5 rather than a true C5 inhibitor or inactivator\"\n",
    "        ]\n",
    "MAX_EPOCHS = 5\n",
    "AMP_LEVEL = 'O1'\n",
    "PRECISION = 16\n",
    "LR = 5.0e-05\n",
    "\n",
    "# set the config values using omegaconf\n",
    "config.model.dataset.num_classes = NUM_CLASSES\n",
    "config.model.dataset.max_seq_length = MAX_SEQ_LENGTH\n",
    "config.model.train_ds.file_path = PATH_TO_TRAIN_FILE\n",
    "config.model.validation_ds.file_path = PATH_TO_VAL_FILE\n",
    "config.model.test_ds.file_path = PATH_TO_TEST_FILE\n",
    "config.model.infer_samples = INFER_SAMPLES\n",
    "config.trainer.max_epochs = MAX_EPOCHS\n",
    "config.trainer.amp_level = AMP_LEVEL\n",
    "config.trainer.precision = PRECISION\n",
    "config.model.optim.lr = LR"
   ]
  },
  {
   "cell_type": "markdown",
   "metadata": {
    "id": "4v95Ea6dhN9l"
   },
   "source": [
    "이제 `config` 가 올바른 값으로 업데이트 되었으므로, 트레이너와 experiment manager를 인스턴스화 합니다. "
   ]
  },
  {
   "cell_type": "code",
   "execution_count": 4,
   "metadata": {
    "id": "TyZmmMz6hN9l"
   },
   "outputs": [
    {
     "name": "stderr",
     "output_type": "stream",
     "text": [
      "GPU available: True, used: True\n",
      "TPU available: False, using: 0 TPU cores\n",
      "Using native 16bit precision.\n"
     ]
    },
    {
     "name": "stdout",
     "output_type": "stream",
     "text": [
      "[NeMo I 2024-03-04 03:04:35 exp_manager:216] Experiments will be logged at /dli/task/nemo_experiments/TextClassification/2024-03-04_03-04-35\n",
      "[NeMo I 2024-03-04 03:04:35 exp_manager:563] TensorboardLogger has been set up\n"
     ]
    },
    {
     "data": {
      "text/plain": [
       "PosixPath('/dli/task/nemo_experiments/TextClassification/2024-03-04_03-04-35')"
      ]
     },
     "execution_count": 4,
     "metadata": {},
     "output_type": "execute_result"
    }
   ],
   "source": [
    "# Instantiate the trainer and experiment manager\n",
    "trainer = pl.Trainer(**config.trainer)\n",
    "exp_manager(trainer, config.exp_manager)"
   ]
  },
  {
   "cell_type": "code",
   "execution_count": 5,
   "metadata": {
    "id": "rUzJvvKihN9m",
    "scrolled": true,
    "tags": []
   },
   "outputs": [
    {
     "name": "stderr",
     "output_type": "stream",
     "text": [
      "Using bos_token, but it is not set yet.\n",
      "Using eos_token, but it is not set yet.\n"
     ]
    },
    {
     "name": "stdout",
     "output_type": "stream",
     "text": [
      "[NeMo I 2024-03-04 03:04:41 text_classification_dataset:120] Read 683 examples from /dli/task/data/NCBI_tc-3/train_nemo_format.tsv.\n",
      "[NeMo I 2024-03-04 03:04:41 text_classification_dataset:238] *** Example ***\n",
      "[NeMo I 2024-03-04 03:04:41 text_classification_dataset:239] example 0: ['Familial', 'deficiency', 'of', 'the', 'seventh', 'component', 'of', 'complement', 'associated', 'with', 'recurrent', 'bacteremic', 'infections', 'due', 'to', 'Neisseria', '.', 'The', 'serum', 'of', 'a', '29-year', 'old', 'woman', 'with', 'a', 'recent', 'episode', 'of', 'disseminated', 'gonococcal', 'infection', 'and', 'a', 'history', 'of', 'meningococcal', 'meningitis', 'and', 'arthritis', 'as', 'a', 'child', 'was', 'found', 'to', 'lack', 'serum', 'hemolytic', 'complement', 'activity', '.', 'The', 'seventh', 'component', 'of', 'complement', '(', 'C7', ')', 'was', 'not', 'detected', 'by', 'functional', 'or', 'immunochemical', 'assays', ',', 'whereas', 'other', 'components', 'were', 'normal', 'by', 'hemolytic', 'and', 'immunochemical', 'assessment', '.', 'Her', 'fresh', 'serum', 'lacked', 'complement-mediated', 'bactericidal', 'activity', 'against', 'Neisseria', 'gonorrhoeae', ',', 'but', 'the', 'addition', 'of', 'fresh', 'normal', 'serum', 'or', 'purified', 'C7', 'restored', 'bactericidal', 'activity', 'as', 'well', 'as', 'hemolytic', 'activity', '.', 'The', 'absence', 'of', 'functional', 'C7', 'activity', 'could', 'not', 'be', 'accounted', 'for', 'on', 'the', 'basis', 'of', 'an', 'inhibitor', '.', 'Opsonization', 'and', 'generation', 'of', 'chemotactic', 'activity', 'functioned', 'normally', '.', 'Complete', 'absence', 'of', 'C7', 'was', 'also', 'found', 'in', 'one', 'sibling', 'who', 'had', 'the', 'clinical', 'syndrome', 'of', 'meningococcal', 'meningitis', 'and', 'arthritis', 'as', 'a', 'child', 'and', 'in', 'this', 'siblings', 'clinically', 'well', 'eight-year-old', 'son', '.', 'HLA', 'histocompatibility', 'typing', 'of', 'the', 'family', 'members', 'did', 'not', 'demonstrate', 'evidence', 'for', 'genetic', 'linkage', 'of', 'C7', 'deficiency', 'with', 'the', 'major', 'histocompatibility', 'loci', '.', 'This', 'report', 'represents', 'the', 'first', 'cases', 'of', 'C7', 'deficiency', 'associated', 'with', 'infectious', 'complications', 'and', 'suggests', 'that', 'bactericidal', 'activity', 'may', 'be', 'important', 'in', 'host', 'defense', 'against', 'bacteremic', 'neisseria', 'infections', '.']\n",
      "[NeMo I 2024-03-04 03:04:41 text_classification_dataset:240] subtokens: [CLS] fa ##mi ##lia ##l deficiency of the seventh component of complement associated with rec ##urrent ba ##cter ##emi ##c infections due to ne ##isse ##ria . the serum of a 29 - year old woman with a recent episode of di ##sse ##minated go ##no ##co ##cca ##l infection and a history of men ##ing ##oco ##cca ##l men ##ing ##itis and arthritis as a child was found to lack serum hem ##ol ##ytic complement activity . the seventh component of complement ( c ##7 ) was not detected by functional or im ##mun ##oche ##mic ##al ass ##ays , whereas other components were normal by hem ##ol ##ytic and im ##mun ##oche ##mic ##al assessment . her fresh serum lacked complement - mediated ba ##cter ##ici [SEP]\n",
      "[NeMo I 2024-03-04 03:04:41 text_classification_dataset:241] input_ids: 101 6904 4328 6632 2140 18888 1997 1996 5066 6922 1997 13711 3378 2007 28667 29264 8670 21162 23238 2278 15245 2349 2000 11265 23491 4360 1012 1996 20194 1997 1037 2756 1011 2095 2214 2450 2007 1037 3522 2792 1997 4487 11393 26972 2175 3630 3597 16665 2140 8985 1998 1037 2381 1997 2273 2075 24163 16665 2140 2273 2075 13706 1998 27641 2004 1037 2775 2001 2179 2000 3768 20194 19610 4747 21252 13711 4023 1012 1996 5066 6922 1997 13711 1006 1039 2581 1007 2001 2025 11156 2011 8360 2030 10047 23041 23555 7712 2389 4632 22916 1010 6168 2060 6177 2020 3671 2011 19610 4747 21252 1998 10047 23041 23555 7712 2389 7667 1012 2014 4840 20194 10858 13711 1011 19872 8670 21162 28775 102\n",
      "[NeMo I 2024-03-04 03:04:41 text_classification_dataset:242] segment_ids: 0 0 0 0 0 0 0 0 0 0 0 0 0 0 0 0 0 0 0 0 0 0 0 0 0 0 0 0 0 0 0 0 0 0 0 0 0 0 0 0 0 0 0 0 0 0 0 0 0 0 0 0 0 0 0 0 0 0 0 0 0 0 0 0 0 0 0 0 0 0 0 0 0 0 0 0 0 0 0 0 0 0 0 0 0 0 0 0 0 0 0 0 0 0 0 0 0 0 0 0 0 0 0 0 0 0 0 0 0 0 0 0 0 0 0 0 0 0 0 0 0 0 0 0 0 0 0 0 0\n",
      "[NeMo I 2024-03-04 03:04:41 text_classification_dataset:243] input_mask: 1 1 1 1 1 1 1 1 1 1 1 1 1 1 1 1 1 1 1 1 1 1 1 1 1 1 1 1 1 1 1 1 1 1 1 1 1 1 1 1 1 1 1 1 1 1 1 1 1 1 1 1 1 1 1 1 1 1 1 1 1 1 1 1 1 1 1 1 1 1 1 1 1 1 1 1 1 1 1 1 1 1 1 1 1 1 1 1 1 1 1 1 1 1 1 1 1 1 1 1 1 1 1 1 1 1 1 1 1 1 1 1 1 1 1 1 1 1 1 1 1 1 1 1 1 1 1 1 1\n",
      "[NeMo I 2024-03-04 03:04:41 text_classification_dataset:244] label: 2\n",
      "[NeMo I 2024-03-04 03:04:41 text_classification_dataset:238] *** Example ***\n",
      "[NeMo I 2024-03-04 03:04:41 text_classification_dataset:239] example 1: ['Linkage', 'relationship', 'of', 'C2', 'deficiency,', 'HLA', 'and', 'glyoxalase', 'I', 'loci.', 'Immunogenetic', 'analysis', 'of', 'a', 'homozygous', 'C2-deficient', 'individual', 'and', 'family', 'members', 'demonstrated', 'linkage', 'of', 'HLA-A25', ',', 'B18', 'and', 'C2o', '.', 'HLA-D', 'typing', 'showed', 'that', '5', 'members', 'typed', 'with', 'homozygous', 'Dw2', 'typing', 'cells', 'from', 'an', 'individual', 'with', 'C2', 'deficiency', 'but', 'not', 'with', 'Dw2', 'typing', 'cells', 'from', '2', 'individuals', 'with', 'normal', 'C2', '.', 'The', 'homozygous', 'C2-deficient', 'propositus', 'and', 'brother', 'were', 'HLA-A', 'and', 'B', 'homozygous', 'but', 'heterozygous', 'at', 'the', 'HLA-D', 'and', 'glyoxalase', 'I', 'loci', '.', 'Therefore', ',', 'in', 'this', 'family', ',', 'the', 'C2o', 'gene', 'is', 'linked', 'with', 'two', 'distinct', 'haplotypes', 'HLA-A25', ',', 'B18', ',', 'Dw2', ',', 'GLO1', 'and', 'HLA-A25', ',', 'B18', ',', 'D', 'unknown', ',', 'GL02', '.', 'These', 'results', 'could', 'be', 'explained', 'by', 'an', 'ancestral', 'recombinant', 'event', ',', 'which', 'occurred', 'between', 'the', 'C2o', 'locus', 'and', 'HLA-D', 'locus', 'in', 'which', 'C2o', 'segregated', 'with', 'HLA-B', '.', 'This', 'would', 'suggest', 'that', 'the', 'locus', 'for', 'the', 'C2o', 'gene', 'maps', 'between', 'HLA-B', 'and', 'HLA-D', 'on', 'the', 'sixth', 'chromosome', '.', '.']\n",
      "[NeMo I 2024-03-04 03:04:41 text_classification_dataset:240] subtokens: [CLS] link ##age relationship of c2 deficiency , h ##la and g ##ly ##ox ##ala ##se i lo ##ci . im ##mun ##ogen ##etic analysis of a homo ##zy ##go ##us c2 - def ##icient individual and family members demonstrated link ##age of h ##la - a2 ##5 , b1 ##8 and c2 ##o . h ##la - d typing showed that 5 members typed with homo ##zy ##go ##us d ##w ##2 typing cells from an individual with c2 deficiency but not with d ##w ##2 typing cells from 2 individuals with normal c2 . the homo ##zy ##go ##us c2 - def ##icient prop ##osi ##tus and brother were h ##la - a and b homo ##zy ##go ##us but het ##ero ##zy ##go ##us at [SEP]\n",
      "[NeMo I 2024-03-04 03:04:41 text_classification_dataset:241] input_ids: 101 4957 4270 3276 1997 29248 18888 1010 1044 2721 1998 1043 2135 11636 7911 3366 1045 8840 6895 1012 10047 23041 23924 16530 4106 1997 1037 24004 9096 3995 2271 29248 1011 13366 20132 3265 1998 2155 2372 7645 4957 4270 1997 1044 2721 1011 22441 2629 1010 29491 2620 1998 29248 2080 1012 1044 2721 1011 1040 22868 3662 2008 1019 2372 21189 2007 24004 9096 3995 2271 1040 2860 2475 22868 4442 2013 2019 3265 2007 29248 18888 2021 2025 2007 1040 2860 2475 22868 4442 2013 1016 3633 2007 3671 29248 1012 1996 24004 9096 3995 2271 29248 1011 13366 20132 17678 20049 5809 1998 2567 2020 1044 2721 1011 1037 1998 1038 24004 9096 3995 2271 2021 21770 10624 9096 3995 2271 2012 102\n",
      "[NeMo I 2024-03-04 03:04:41 text_classification_dataset:242] segment_ids: 0 0 0 0 0 0 0 0 0 0 0 0 0 0 0 0 0 0 0 0 0 0 0 0 0 0 0 0 0 0 0 0 0 0 0 0 0 0 0 0 0 0 0 0 0 0 0 0 0 0 0 0 0 0 0 0 0 0 0 0 0 0 0 0 0 0 0 0 0 0 0 0 0 0 0 0 0 0 0 0 0 0 0 0 0 0 0 0 0 0 0 0 0 0 0 0 0 0 0 0 0 0 0 0 0 0 0 0 0 0 0 0 0 0 0 0 0 0 0 0 0 0 0 0 0 0 0 0 0\n",
      "[NeMo I 2024-03-04 03:04:41 text_classification_dataset:243] input_mask: 1 1 1 1 1 1 1 1 1 1 1 1 1 1 1 1 1 1 1 1 1 1 1 1 1 1 1 1 1 1 1 1 1 1 1 1 1 1 1 1 1 1 1 1 1 1 1 1 1 1 1 1 1 1 1 1 1 1 1 1 1 1 1 1 1 1 1 1 1 1 1 1 1 1 1 1 1 1 1 1 1 1 1 1 1 1 1 1 1 1 1 1 1 1 1 1 1 1 1 1 1 1 1 1 1 1 1 1 1 1 1 1 1 1 1 1 1 1 1 1 1 1 1 1 1 1 1 1 1\n",
      "[NeMo I 2024-03-04 03:04:41 text_classification_dataset:244] label: 2\n"
     ]
    },
    {
     "name": "stderr",
     "output_type": "stream",
     "text": [
      "[NeMo W 2024-03-04 03:04:51 text_classification_dataset:250] Found 664 out of 683 sentences with more than 128 subtokens. Truncated long sentences from the end.\n"
     ]
    },
    {
     "name": "stdout",
     "output_type": "stream",
     "text": [
      "[NeMo I 2024-03-04 03:04:51 data_preprocessing:299] Some stats of the lengths of the sequences:\n",
      "[NeMo I 2024-03-04 03:04:51 data_preprocessing:301] Min: 74 |                  Max: 129 |                  Mean: 128.36163982430455 |                  Median: 129.0\n",
      "[NeMo I 2024-03-04 03:04:51 data_preprocessing:307] 75 percentile: 129.00\n",
      "[NeMo I 2024-03-04 03:04:51 data_preprocessing:308] 99 percentile: 129.00\n",
      "[NeMo I 2024-03-04 03:04:51 text_classification_dataset:120] Read 100 examples from /dli/task/data/NCBI_tc-3/dev_nemo_format.tsv.\n",
      "[NeMo I 2024-03-04 03:04:51 text_classification_dataset:238] *** Example ***\n",
      "[NeMo I 2024-03-04 03:04:51 text_classification_dataset:239] example 0: ['BRCA1', 'is', 'secreted', 'and', 'exhibits', 'properties', 'of', 'a', 'granin.', 'Germline', 'mutations', 'in', 'BRCA1', 'are', 'responsible', 'for', 'most', 'cases', 'of', 'inherited', 'breast', 'and', 'ovarian', 'cancer', '.', 'However', ',', 'the', 'function', 'of', 'the', 'BRCA1', 'protein', 'has', 'remained', 'elusive', '.', 'We', 'now', 'show', 'that', 'BRCA1', 'encodes', 'a', '190-kD', 'protein', 'with', 'sequence', 'homology', 'and', 'biochemical', 'analogy', 'to', 'the', 'granin', 'protein', 'family', '.', 'Interestingly', ',', 'BRCA2', 'also', 'includes', 'a', 'motif', 'similar', 'to', 'the', 'granin', 'consensus', 'at', 'the', 'C', 'terminus', 'of', 'the', 'protein', '.', 'Both', 'BRCA1', 'and', 'the', 'granins', 'localize', 'to', 'secretory', 'vesicles', ',', 'are', 'secreted', 'by', 'a', 'regulated', 'pathway', ',', 'are', 'post-translationally', 'glycosylated', 'and', 'are', 'responsive', 'to', 'hormones', '.', 'As', 'a', 'regulated', 'secretory', 'protein', ',', 'BRCA1', 'appears', 'to', 'function', 'by', 'a', 'mechanism', 'not', 'previously', 'described', 'for', 'tumour', 'suppressor', 'gene', 'products', '.', '.']\n",
      "[NeMo I 2024-03-04 03:04:51 text_classification_dataset:240] subtokens: [CLS] br ##ca ##1 is secret ##ed and exhibits properties of a gran ##in . ge ##rm ##line mutations in br ##ca ##1 are responsible for most cases of inherited breast and o ##var ##ian cancer . however , the function of the br ##ca ##1 protein has remained elusive . we now show that br ##ca ##1 en ##codes a 190 - k ##d protein with sequence homo ##logy and bio ##chemical analogy to the gran ##in protein family . interesting ##ly , br ##ca ##2 also includes a motif similar to the gran ##in consensus at the c terminus of the protein . both br ##ca ##1 and the gran ##ins local ##ize to secret ##ory ve ##sic ##les , are secret ##ed by a regulated [SEP]\n",
      "[NeMo I 2024-03-04 03:04:51 text_classification_dataset:241] input_ids: 101 7987 3540 2487 2003 3595 2098 1998 10637 5144 1997 1037 12604 2378 1012 16216 10867 4179 14494 1999 7987 3540 2487 2024 3625 2005 2087 3572 1997 7900 7388 1998 1051 10755 2937 4456 1012 2174 1010 1996 3853 1997 1996 7987 3540 2487 5250 2038 2815 26475 1012 2057 2085 2265 2008 7987 3540 2487 4372 23237 1037 11827 1011 1047 2094 5250 2007 5537 24004 6483 1998 16012 15869 23323 2000 1996 12604 2378 5250 2155 1012 5875 2135 1010 7987 3540 2475 2036 2950 1037 16226 2714 2000 1996 12604 2378 10465 2012 1996 1039 7342 1997 1996 5250 1012 2119 7987 3540 2487 1998 1996 12604 7076 2334 4697 2000 3595 10253 2310 19570 4244 1010 2024 3595 2098 2011 1037 12222 102\n",
      "[NeMo I 2024-03-04 03:04:51 text_classification_dataset:242] segment_ids: 0 0 0 0 0 0 0 0 0 0 0 0 0 0 0 0 0 0 0 0 0 0 0 0 0 0 0 0 0 0 0 0 0 0 0 0 0 0 0 0 0 0 0 0 0 0 0 0 0 0 0 0 0 0 0 0 0 0 0 0 0 0 0 0 0 0 0 0 0 0 0 0 0 0 0 0 0 0 0 0 0 0 0 0 0 0 0 0 0 0 0 0 0 0 0 0 0 0 0 0 0 0 0 0 0 0 0 0 0 0 0 0 0 0 0 0 0 0 0 0 0 0 0 0 0 0 0 0 0\n",
      "[NeMo I 2024-03-04 03:04:51 text_classification_dataset:243] input_mask: 1 1 1 1 1 1 1 1 1 1 1 1 1 1 1 1 1 1 1 1 1 1 1 1 1 1 1 1 1 1 1 1 1 1 1 1 1 1 1 1 1 1 1 1 1 1 1 1 1 1 1 1 1 1 1 1 1 1 1 1 1 1 1 1 1 1 1 1 1 1 1 1 1 1 1 1 1 1 1 1 1 1 1 1 1 1 1 1 1 1 1 1 1 1 1 1 1 1 1 1 1 1 1 1 1 1 1 1 1 1 1 1 1 1 1 1 1 1 1 1 1 1 1 1 1 1 1 1 1\n",
      "[NeMo I 2024-03-04 03:04:51 text_classification_dataset:244] label: 0\n",
      "[NeMo I 2024-03-04 03:04:51 text_classification_dataset:238] *** Example ***\n",
      "[NeMo I 2024-03-04 03:04:51 text_classification_dataset:239] example 1: ['Ovarian', 'cancer', 'risk', 'in', 'BRCA1', 'carriers', 'is', 'modified', 'by', 'the', 'HRAS1', 'variable', 'number', 'of', 'tandem', 'repeat', '(VNTR)', 'locus.', 'Women', 'who', 'carry', 'a', 'mutation', 'in', 'the', 'BRCA1', 'gene', '(', 'on', 'chromosome', '17q21', ')', ',', 'have', 'an', '80', '%', 'risk', 'of', 'breast', 'cancer', 'and', 'a', '40', '%', 'risk', 'of', 'ovarian', 'cancer', 'by', 'the', 'age', 'of', '70', '(', 'ref', '.', '1', ')', '.', 'The', 'variable', 'penetrance', 'of', 'BRCA1', 'suggests', 'that', 'other', 'genetic', 'and', 'non-genetic', 'factors', 'play', 'a', 'role', 'in', 'tumourigenesis', 'in', 'these', 'individuals', '.', 'The', 'HRAS1', 'variable', 'number', 'of', 'tandem', 'repeats', '(', 'VNTR', ')', 'polymorphism', ',', 'located', '1', 'kilobase', '(', 'kb', ')', 'downstream', 'of', 'the', 'HRAS1', 'proto-oncogene', '(', 'chromosome', '11p15', '.', '5', ')', 'is', 'one', 'possible', 'genetic', 'modifier', 'of', 'cancer', 'penetrance', '.', 'Individuals', 'who', 'have', 'rare', 'alleles', 'of', 'the', 'VNTR', 'have', 'an', 'increased', 'risk', 'of', 'certain', 'types', 'of', 'cancers', ',', 'including', 'breast', 'cancer', '(', '2-4', ')', '.', 'To', 'investigate', 'whether', 'the', 'presence', 'of', 'rare', 'HRAS1', 'alleles', 'increases', 'susceptibility', 'to', 'hereditary', 'breast', 'and', 'ovarian', 'cancer', ',', 'we', 'have', 'typed', 'a', 'panel', 'of', '307', 'female', 'BRCA1', 'carriers', 'at', 'this', 'locus', 'using', 'a', 'PCR-based', 'technique', '.', 'The', 'risk', 'for', 'ovarian', 'cancer', 'was', '2', '.', '11', 'times', 'greater', 'for', 'BRCA1', 'carriers', 'harbouring', 'one', 'or', 'two', 'rare', 'HRAS1', 'alleles', ',', 'compared', 'to', 'carriers', 'with', 'only', 'common', 'alleles', '(', 'P', '=', '0', '.', '015', ')', '.', 'The', 'magnitude', 'of', 'the', 'relative', 'risk', 'associated', 'with', 'a', 'rare', 'HRAS1', 'allele', 'was', 'not', 'altered', 'by', 'adjusting', 'for', 'the', 'other', 'known', 'risk', 'factors', 'for', 'hereditary', 'ovarian', 'cancer', '(', '5', ')', '.', 'Susceptibility', 'to', 'breast', 'cancer', 'did', 'not', 'appear', 'to', 'be', 'affected', 'by', 'the', 'presence', 'of', 'rare', 'HRAS1', 'alleles', '.', 'This', 'study', 'is', 'the', 'first', 'to', 'show', 'the', 'effect', 'of', 'a', 'modifying', 'gene', 'on', 'the', 'penetrance', 'of', 'an', 'inherited', 'cancer', 'syndrome']\n",
      "[NeMo I 2024-03-04 03:04:51 text_classification_dataset:240] subtokens: [CLS] o ##var ##ian cancer risk in br ##ca ##1 carriers is modified by the hr ##as ##1 variable number of tandem repeat ( v ##nt ##r ) locus . women who carry a mutation in the br ##ca ##1 gene ( on chromosome 17 ##q ##21 ) , have an 80 % risk of breast cancer and a 40 % risk of o ##var ##ian cancer by the age of 70 ( ref . 1 ) . the variable pen ##et ##rance of br ##ca ##1 suggests that other genetic and non - genetic factors play a role in tu ##mour ##igen ##esis in these individuals . the hr ##as ##1 variable number of tandem repeats ( v ##nt ##r ) poly ##morphism , located 1 ki [SEP]\n",
      "[NeMo I 2024-03-04 03:04:51 text_classification_dataset:241] input_ids: 101 1051 10755 2937 4456 3891 1999 7987 3540 2487 11363 2003 6310 2011 1996 17850 3022 2487 8023 2193 1997 18231 9377 1006 1058 3372 2099 1007 25206 1012 2308 2040 4287 1037 16221 1999 1996 7987 3540 2487 4962 1006 2006 16706 2459 4160 17465 1007 1010 2031 2019 3770 1003 3891 1997 7388 4456 1998 1037 2871 1003 3891 1997 1051 10755 2937 4456 2011 1996 2287 1997 3963 1006 25416 1012 1015 1007 1012 1996 8023 7279 3388 21621 1997 7987 3540 2487 6083 2008 2060 7403 1998 2512 1011 7403 5876 2377 1037 2535 1999 10722 20360 29206 19009 1999 2122 3633 1012 1996 17850 3022 2487 8023 2193 1997 18231 17993 1006 1058 3372 2099 1007 26572 19539 1010 2284 1015 11382 102\n",
      "[NeMo I 2024-03-04 03:04:51 text_classification_dataset:242] segment_ids: 0 0 0 0 0 0 0 0 0 0 0 0 0 0 0 0 0 0 0 0 0 0 0 0 0 0 0 0 0 0 0 0 0 0 0 0 0 0 0 0 0 0 0 0 0 0 0 0 0 0 0 0 0 0 0 0 0 0 0 0 0 0 0 0 0 0 0 0 0 0 0 0 0 0 0 0 0 0 0 0 0 0 0 0 0 0 0 0 0 0 0 0 0 0 0 0 0 0 0 0 0 0 0 0 0 0 0 0 0 0 0 0 0 0 0 0 0 0 0 0 0 0 0 0 0 0 0 0 0\n",
      "[NeMo I 2024-03-04 03:04:51 text_classification_dataset:243] input_mask: 1 1 1 1 1 1 1 1 1 1 1 1 1 1 1 1 1 1 1 1 1 1 1 1 1 1 1 1 1 1 1 1 1 1 1 1 1 1 1 1 1 1 1 1 1 1 1 1 1 1 1 1 1 1 1 1 1 1 1 1 1 1 1 1 1 1 1 1 1 1 1 1 1 1 1 1 1 1 1 1 1 1 1 1 1 1 1 1 1 1 1 1 1 1 1 1 1 1 1 1 1 1 1 1 1 1 1 1 1 1 1 1 1 1 1 1 1 1 1 1 1 1 1 1 1 1 1 1 1\n",
      "[NeMo I 2024-03-04 03:04:51 text_classification_dataset:244] label: 0\n"
     ]
    },
    {
     "name": "stderr",
     "output_type": "stream",
     "text": [
      "[NeMo W 2024-03-04 03:04:52 text_classification_dataset:250] Found 99 out of 100 sentences with more than 128 subtokens. Truncated long sentences from the end.\n"
     ]
    },
    {
     "name": "stdout",
     "output_type": "stream",
     "text": [
      "[NeMo I 2024-03-04 03:04:52 data_preprocessing:299] Some stats of the lengths of the sequences:\n",
      "[NeMo I 2024-03-04 03:04:52 data_preprocessing:301] Min: 120 |                  Max: 129 |                  Mean: 128.91 |                  Median: 129.0\n",
      "[NeMo I 2024-03-04 03:04:52 data_preprocessing:307] 75 percentile: 129.00\n",
      "[NeMo I 2024-03-04 03:04:52 data_preprocessing:308] 99 percentile: 129.00\n",
      "[NeMo I 2024-03-04 03:04:52 text_classification_dataset:120] Read 10 examples from /dli/task/data/NCBI_tc-3/test_nemo_format.tsv.\n",
      "[NeMo I 2024-03-04 03:04:52 text_classification_dataset:238] *** Example ***\n",
      "[NeMo I 2024-03-04 03:04:52 text_classification_dataset:239] example 0: ['Clustering', 'of', 'missense', 'mutations', 'in', 'the', 'ataxia-telangiectasia', 'gene', 'in', 'a', 'sporadic', 'T-cell', 'leukaemia.', 'Ataxia-telangiectasia', '(', 'A-T', ')', 'is', 'a', 'recessive', 'multi-system', 'disorder', 'caused', 'by', 'mutations', 'in', 'the', 'ATM', 'gene', 'at', '11q22-q23', '(', 'ref', '.', '3', ')', '.', 'The', 'risk', 'of', 'cancer', ',', 'especially', 'lymphoid', 'neoplasias', ',', 'is', 'substantially', 'elevated', 'in', 'A-T', 'patients', 'and', 'has', 'long', 'been', 'associated', 'with', 'chromosomal', 'instability', '.', 'By', 'analysing', 'tumour', 'DNA', 'from', 'patients', 'with', 'sporadic', 'T-cell', 'prolymphocytic', 'leukaemia', '(', 'T-PLL', ')', ',', 'a', 'rare', 'clonal', 'malignancy', 'with', 'similarities', 'to', 'a', 'mature', 'T-cell', 'leukaemia', 'seen', 'in', 'A-T', ',', 'we', 'demonstrate', 'a', 'high', 'frequency', 'of', 'ATM', 'mutations', 'in', 'T-PLL', '.', 'In', 'marked', 'contrast', 'to', 'the', 'ATM', 'mutation', 'pattern', 'in', 'A-T', ',', 'the', 'most', 'frequent', 'nucleotide', 'changes', 'in', 'this', 'leukaemia', 'were', 'missense', 'mutations', '.', 'These', 'clustered', 'in', 'the', 'region', 'corresponding', 'to', 'the', 'kinase', 'domain', ',', 'which', 'is', 'highly', 'conserved', 'in', 'ATM-related', 'proteins', 'in', 'mouse', ',', 'yeast', 'and', 'Drosophila', '.', 'The', 'resulting', 'amino-acid', 'substitutions', 'are', 'predicted', 'to', 'interfere', 'with', 'ATP', 'binding', 'or', 'substrate', 'recognition', '.', 'Two', 'of', 'seventeen', 'mutated', 'T-PLL', 'samples', 'had', 'a', 'previously', 'reported', 'A-T', 'allele', '.', 'In', 'contrast', ',', 'no', 'mutations', 'were', 'detected', 'in', 'the', 'p53', 'gene', ',', 'suggesting', 'that', 'this', 'tumour', 'suppressor', 'is', 'not', 'frequently', 'altered', 'in', 'this', 'leukaemia', '.', 'Occasional', 'missense', 'mutations', 'in', 'ATM', 'were', 'also', 'found', 'in', 'tumour', 'DNA', 'from', 'patients', 'with', 'B-cell', 'non-Hodgkins', 'lymphomas', '(', 'B-NHL', ')', 'and', 'a', 'B-NHL', 'cell', 'line', '.', 'The', 'evidence', 'of', 'a', 'significant', 'proportion', 'of', 'loss-of-function', 'mutations', 'and', 'a', 'complete', 'absence', 'of', 'the', 'normal', 'copy', 'of', 'ATM', 'in', 'the', 'majority', 'of', 'mutated', 'tumours', 'establishes', 'somatic', 'inactivation', 'of', 'this', 'gene', 'in', 'the', 'pathogenesis', 'of', 'sporadic', 'T-PLL', 'and', 'suggests', 'that', 'ATM', 'acts', 'as', 'a', 'tumour', 'suppressor', '.', 'As', 'constitutional', 'DNA', 'was', 'not', 'available', ',', 'a', 'putative', 'hereditary', 'predisposition', 'to', 'T-PLL', 'will', 'require', 'further', 'investigation', '.', '.']\n",
      "[NeMo I 2024-03-04 03:04:52 text_classification_dataset:240] subtokens: [CLS] cluster ##ing of miss ##ense mutations in the ata ##xia - tel ##ang ##iec ##tas ##ia gene in a sporadic t - cell le ##uka ##emia . ata ##xia - tel ##ang ##iec ##tas ##ia ( a - t ) is a recess ##ive multi - system disorder caused by mutations in the atm gene at 11 ##q ##22 - q ##23 ( ref . 3 ) . the risk of cancer , especially l ##ym ##ph ##oid neo ##pl ##asia ##s , is substantially elevated in a - t patients and has long been associated with ch ##rom ##osomal instability . by anal ##ys ##ing tu ##mour dna from patients with sporadic t - cell pro ##ly ##mp ##ho ##cy ##tic le ##uka ##emia ( t [SEP]\n",
      "[NeMo I 2024-03-04 03:04:52 text_classification_dataset:241] input_ids: 101 9324 2075 1997 3335 16700 14494 1999 1996 29533 14787 1011 10093 5654 23783 10230 2401 4962 1999 1037 24590 1056 1011 3526 3393 15750 17577 1012 29533 14787 1011 10093 5654 23783 10230 2401 1006 1037 1011 1056 1007 2003 1037 28290 3512 4800 1011 2291 8761 3303 2011 14494 1999 1996 27218 4962 2012 2340 4160 19317 1011 1053 21926 1006 25416 1012 1017 1007 1012 1996 3891 1997 4456 1010 2926 1048 24335 8458 9314 9253 24759 15396 2015 1010 2003 12381 8319 1999 1037 1011 1056 5022 1998 2038 2146 2042 3378 2007 10381 21716 27642 18549 1012 2011 20302 7274 2075 10722 20360 6064 2013 5022 2007 24590 1056 1011 3526 4013 2135 8737 6806 5666 4588 3393 15750 17577 1006 1056 102\n",
      "[NeMo I 2024-03-04 03:04:52 text_classification_dataset:242] segment_ids: 0 0 0 0 0 0 0 0 0 0 0 0 0 0 0 0 0 0 0 0 0 0 0 0 0 0 0 0 0 0 0 0 0 0 0 0 0 0 0 0 0 0 0 0 0 0 0 0 0 0 0 0 0 0 0 0 0 0 0 0 0 0 0 0 0 0 0 0 0 0 0 0 0 0 0 0 0 0 0 0 0 0 0 0 0 0 0 0 0 0 0 0 0 0 0 0 0 0 0 0 0 0 0 0 0 0 0 0 0 0 0 0 0 0 0 0 0 0 0 0 0 0 0 0 0 0 0 0 0\n",
      "[NeMo I 2024-03-04 03:04:52 text_classification_dataset:243] input_mask: 1 1 1 1 1 1 1 1 1 1 1 1 1 1 1 1 1 1 1 1 1 1 1 1 1 1 1 1 1 1 1 1 1 1 1 1 1 1 1 1 1 1 1 1 1 1 1 1 1 1 1 1 1 1 1 1 1 1 1 1 1 1 1 1 1 1 1 1 1 1 1 1 1 1 1 1 1 1 1 1 1 1 1 1 1 1 1 1 1 1 1 1 1 1 1 1 1 1 1 1 1 1 1 1 1 1 1 1 1 1 1 1 1 1 1 1 1 1 1 1 1 1 1 1 1 1 1 1 1\n",
      "[NeMo I 2024-03-04 03:04:52 text_classification_dataset:244] label: 0\n",
      "[NeMo I 2024-03-04 03:04:52 text_classification_dataset:238] *** Example ***\n",
      "[NeMo I 2024-03-04 03:04:52 text_classification_dataset:239] example 1: ['Myotonic', 'dystrophy', 'protein', 'kinase', 'is', 'involved', 'in', 'the', 'modulation', 'of', 'the', 'Ca2+', 'homeostasis', 'in', 'skeletal', 'muscle', 'cells.', 'Myotonic', 'dystrophy', '(', 'DM', ')', ',', 'the', 'most', 'prevalent', 'muscular', 'disorder', 'in', 'adults', ',', 'is', 'caused', 'by', '(', 'CTG', ')', 'n-repeat', 'expansion', 'in', 'a', 'gene', 'encoding', 'a', 'protein', 'kinase', '(', 'DM', 'protein', 'kinase', ';', 'DMPK', ')', 'and', 'involves', 'changes', 'in', 'cytoarchitecture', 'and', 'ion', 'homeostasis', '.', 'To', 'obtain', 'clues', 'to', 'the', 'normal', 'biological', 'role', 'of', 'DMPK', 'in', 'cellular', 'ion', 'homeostasis', ',', 'we', 'have', 'compared', 'the', 'resting', '[', 'Ca2', '+', ']', 'i', ',', 'the', 'amplitude', 'and', 'shape', 'of', 'depolarization-induced', 'Ca2', '+', 'transients', ',', 'and', 'the', 'content', 'of', 'ATP-driven', 'ion', 'pumps', 'in', 'cultured', 'skeletal', 'muscle', 'cells', 'of', 'wild-type', 'and', 'DMPK', '[', '-', '/', '-', ']', 'knockout', 'mice', '.', 'In', 'vitro-differentiated', 'DMPK', '[', '-', '/', '-', ']', 'myotubes', 'exhibit', 'a', 'higher', 'resting', '[', 'Ca2', '+', ']', 'i', 'than', 'do', 'wild-type', 'myotubes', 'because', 'of', 'an', 'altered', 'open', 'probability', 'of', 'voltage-dependent', 'l-type', 'Ca2', '+', 'and', 'Na', '+', 'channels', '.', 'The', 'mutant', 'myotubes', 'exhibit', 'smaller', 'and', 'slower', 'Ca2', '+', 'responses', 'upon', 'triggering', 'by', 'acetylcholine', 'or', 'high', 'external', 'K', '+', '.', 'In', 'addition', ',', 'we', 'observed', 'that', 'these', 'Ca2', '+', 'transients', 'partially', 'result', 'from', 'an', 'influx', 'of', 'extracellular', 'Ca2', '+', 'through', 'the', 'l-type', 'Ca2', '+', 'channel', '.', 'Neither', 'the', 'content', 'nor', 'the', 'activity', 'of', 'Na', '+', '/', 'K', '+', 'ATPase', 'and', 'sarcoplasmic', 'reticulum', 'Ca2', '+', '-ATPase', 'are', 'affected', 'by', 'DMPK', 'absence', '.', 'In', 'conclusion', ',', 'our', 'data', 'suggest', 'that', 'DMPK', 'is', 'involved', 'in', 'modulating', 'the', 'initial', 'events', 'of', 'excitation-contraction', 'coupling', 'in', 'skeletal', 'muscle', '.', '.']\n",
      "[NeMo I 2024-03-04 03:04:52 text_classification_dataset:240] subtokens: [CLS] my ##oton ##ic d ##yst ##rop ##hy protein kinase is involved in the modulation of the ca ##2 + home ##osta ##sis in skeletal muscle cells . my ##oton ##ic d ##yst ##rop ##hy ( d ##m ) , the most prevalent muscular disorder in adults , is caused by ( ct ##g ) n - repeat expansion in a gene encoding a protein kinase ( d ##m protein kinase ; d ##mp ##k ) and involves changes in cy ##to ##ar ##chi ##tec ##ture and ion home ##osta ##sis . to obtain clues to the normal biological role of d ##mp ##k in cellular ion home ##osta ##sis , we have compared the resting [ ca ##2 + ] i , the amplitude and shape of [SEP]\n",
      "[NeMo I 2024-03-04 03:04:52 text_classification_dataset:241] input_ids: 101 2026 25862 2594 1040 27268 18981 10536 5250 21903 2003 2920 1999 1996 25502 1997 1996 6187 2475 1009 2188 28696 6190 1999 20415 6740 4442 1012 2026 25862 2594 1040 27268 18981 10536 1006 1040 2213 1007 1010 1996 2087 15157 13472 8761 1999 6001 1010 2003 3303 2011 1006 14931 2290 1007 1050 1011 9377 4935 1999 1037 4962 17181 1037 5250 21903 1006 1040 2213 5250 21903 1025 1040 8737 2243 1007 1998 7336 3431 1999 22330 3406 2906 5428 26557 11244 1998 10163 2188 28696 6190 1012 2000 6855 15774 2000 1996 3671 6897 2535 1997 1040 8737 2243 1999 12562 10163 2188 28696 6190 1010 2057 2031 4102 1996 8345 1031 6187 2475 1009 1033 1045 1010 1996 22261 1998 4338 1997 102\n",
      "[NeMo I 2024-03-04 03:04:52 text_classification_dataset:242] segment_ids: 0 0 0 0 0 0 0 0 0 0 0 0 0 0 0 0 0 0 0 0 0 0 0 0 0 0 0 0 0 0 0 0 0 0 0 0 0 0 0 0 0 0 0 0 0 0 0 0 0 0 0 0 0 0 0 0 0 0 0 0 0 0 0 0 0 0 0 0 0 0 0 0 0 0 0 0 0 0 0 0 0 0 0 0 0 0 0 0 0 0 0 0 0 0 0 0 0 0 0 0 0 0 0 0 0 0 0 0 0 0 0 0 0 0 0 0 0 0 0 0 0 0 0 0 0 0 0 0 0\n",
      "[NeMo I 2024-03-04 03:04:52 text_classification_dataset:243] input_mask: 1 1 1 1 1 1 1 1 1 1 1 1 1 1 1 1 1 1 1 1 1 1 1 1 1 1 1 1 1 1 1 1 1 1 1 1 1 1 1 1 1 1 1 1 1 1 1 1 1 1 1 1 1 1 1 1 1 1 1 1 1 1 1 1 1 1 1 1 1 1 1 1 1 1 1 1 1 1 1 1 1 1 1 1 1 1 1 1 1 1 1 1 1 1 1 1 1 1 1 1 1 1 1 1 1 1 1 1 1 1 1 1 1 1 1 1 1 1 1 1 1 1 1 1 1 1 1 1 1\n",
      "[NeMo I 2024-03-04 03:04:52 text_classification_dataset:244] label: 1\n"
     ]
    },
    {
     "name": "stderr",
     "output_type": "stream",
     "text": [
      "[NeMo W 2024-03-04 03:04:52 text_classification_dataset:250] Found 10 out of 10 sentences with more than 128 subtokens. Truncated long sentences from the end.\n"
     ]
    },
    {
     "name": "stdout",
     "output_type": "stream",
     "text": [
      "[NeMo I 2024-03-04 03:04:52 data_preprocessing:299] Some stats of the lengths of the sequences:\n",
      "[NeMo I 2024-03-04 03:04:52 data_preprocessing:301] Min: 129 |                  Max: 129 |                  Mean: 129.0 |                  Median: 129.0\n",
      "[NeMo I 2024-03-04 03:04:52 data_preprocessing:307] 75 percentile: 129.00\n",
      "[NeMo I 2024-03-04 03:04:52 data_preprocessing:308] 99 percentile: 129.00\n"
     ]
    },
    {
     "name": "stderr",
     "output_type": "stream",
     "text": [
      "[NeMo W 2024-03-04 03:04:52 modelPT:197] You tried to register an artifact under config key=tokenizer.vocab_file but an artifact forit has already been registered.\n",
      "[NeMo W 2024-03-04 03:04:52 nemo_logging:349] /opt/conda/lib/python3.8/site-packages/nemo/core/classes/modelPT.py:243: UserWarning: update_node() is deprecated, use OmegaConf.update(). (Since 2.0)\n",
      "      self.cfg.update_node(config_path, return_path)\n",
      "    \n",
      "Some weights of the model checkpoint at bert-base-uncased were not used when initializing BertModel: ['cls.predictions.transform.LayerNorm.bias', 'cls.predictions.transform.LayerNorm.weight', 'cls.predictions.transform.dense.weight', 'cls.predictions.transform.dense.bias', 'cls.predictions.decoder.weight', 'cls.predictions.bias', 'cls.seq_relationship.weight', 'cls.seq_relationship.bias']\n",
      "- This IS expected if you are initializing BertModel from the checkpoint of a model trained on another task or with another architecture (e.g. initializing a BertForSequenceClassification model from a BertForPreTraining model).\n",
      "- This IS NOT expected if you are initializing BertModel from the checkpoint of a model that you expect to be exactly identical (initializing a BertForSequenceClassification model from a BertForSequenceClassification model).\n",
      "Some weights of the model checkpoint at bert-base-uncased were not used when initializing BertEncoder: ['cls.predictions.transform.LayerNorm.bias', 'cls.predictions.transform.LayerNorm.weight', 'cls.predictions.transform.dense.weight', 'cls.predictions.transform.dense.bias', 'cls.predictions.decoder.weight', 'cls.predictions.bias', 'cls.seq_relationship.weight', 'cls.seq_relationship.bias']\n",
      "- This IS expected if you are initializing BertEncoder from the checkpoint of a model trained on another task or with another architecture (e.g. initializing a BertForSequenceClassification model from a BertForPreTraining model).\n",
      "- This IS NOT expected if you are initializing BertEncoder from the checkpoint of a model that you expect to be exactly identical (initializing a BertForSequenceClassification model from a BertForSequenceClassification model).\n"
     ]
    }
   ],
   "source": [
    "# Instantiate the model \n",
    "model = nemo_nlp.models.TextClassificationModel(config.model, trainer=trainer)"
   ]
  },
  {
   "cell_type": "code",
   "execution_count": 6,
   "metadata": {
    "id": "ICCF9brkhN9m",
    "scrolled": true,
    "tags": []
   },
   "outputs": [
    {
     "name": "stderr",
     "output_type": "stream",
     "text": [
      "LOCAL_RANK: 0 - CUDA_VISIBLE_DEVICES: [0]\n"
     ]
    },
    {
     "name": "stdout",
     "output_type": "stream",
     "text": [
      "[NeMo I 2024-03-04 03:04:54 modelPT:748] Optimizer config = Adam (\n",
      "    Parameter Group 0\n",
      "        amsgrad: False\n",
      "        betas: [0.9, 0.999]\n",
      "        eps: 1e-08\n",
      "        lr: 5e-05\n",
      "        weight_decay: 0.01\n",
      "    )\n",
      "[NeMo I 2024-03-04 03:04:54 lr_scheduler:617] Scheduler \"<nemo.core.optim.lr_scheduler.WarmupAnnealing object at 0x7fa12a19c8e0>\" \n",
      "    will be used during training (effective maximum steps = 55) - \n",
      "    Parameters : \n",
      "    (warmup_steps: null\n",
      "    warmup_ratio: 0.1\n",
      "    last_epoch: -1\n",
      "    max_steps: 55\n",
      "    )\n"
     ]
    },
    {
     "name": "stderr",
     "output_type": "stream",
     "text": [
      "initializing ddp: GLOBAL_RANK: 0, MEMBER: 1/1\n",
      "\n",
      "  | Name                  | Type                 | Params\n",
      "---------------------------------------------------------------\n",
      "0 | loss                  | CrossEntropyLoss     | 0     \n",
      "1 | bert_model            | BertEncoder          | 109 M \n",
      "2 | classifier            | SequenceClassifier   | 592 K \n",
      "3 | classification_report | ClassificationReport | 0     \n",
      "---------------------------------------------------------------\n",
      "110 M     Trainable params\n",
      "0         Non-trainable params\n",
      "110 M     Total params\n",
      "440.301   Total estimated model params size (MB)\n"
     ]
    },
    {
     "data": {
      "application/vnd.jupyter.widget-view+json": {
       "model_id": "a1a9dff5253149b1a68caf5efb3751ea",
       "version_major": 2,
       "version_minor": 0
      },
      "text/plain": [
       "Training: 0it [00:00, ?it/s]"
      ]
     },
     "metadata": {},
     "output_type": "display_data"
    },
    {
     "data": {
      "application/vnd.jupyter.widget-view+json": {
       "model_id": "",
       "version_major": 2,
       "version_minor": 0
      },
      "text/plain": [
       "Validating: 0it [00:00, ?it/s]"
      ]
     },
     "metadata": {},
     "output_type": "display_data"
    },
    {
     "name": "stdout",
     "output_type": "stream",
     "text": [
      "[NeMo I 2024-03-04 03:04:59 text_classification_model:165] val_report: \n",
      "    label                                                precision    recall       f1           support   \n",
      "    label_id: 0                                              0.00       0.00       0.00         32\n",
      "    label_id: 1                                              0.00       0.00       0.00         24\n",
      "    label_id: 2                                             44.00     100.00      61.11         44\n",
      "    -------------------\n",
      "    micro avg                                               44.00      44.00      44.00        100\n",
      "    macro avg                                               14.67      33.33      20.37        100\n",
      "    weighted avg                                            19.36      44.00      26.89        100\n",
      "    \n"
     ]
    },
    {
     "name": "stderr",
     "output_type": "stream",
     "text": [
      "Epoch 0, global step 10: val_loss reached 1.08100 (best 1.08100), saving model to \"/dli/task/nemo_experiments/TextClassification/2024-03-04_03-04-35/checkpoints/TextClassification--val_loss=1.08-epoch=0.ckpt\" as top 3\n"
     ]
    },
    {
     "data": {
      "application/vnd.jupyter.widget-view+json": {
       "model_id": "",
       "version_major": 2,
       "version_minor": 0
      },
      "text/plain": [
       "Validating: 0it [00:00, ?it/s]"
      ]
     },
     "metadata": {},
     "output_type": "display_data"
    },
    {
     "name": "stdout",
     "output_type": "stream",
     "text": [
      "[NeMo I 2024-03-04 03:05:06 text_classification_model:165] val_report: \n",
      "    label                                                precision    recall       f1           support   \n",
      "    label_id: 0                                            100.00      65.62      79.25         32\n",
      "    label_id: 1                                              0.00       0.00       0.00         24\n",
      "    label_id: 2                                             55.70     100.00      71.54         44\n",
      "    -------------------\n",
      "    micro avg                                               65.00      65.00      65.00        100\n",
      "    macro avg                                               51.90      55.21      50.26        100\n",
      "    weighted avg                                            56.51      65.00      56.84        100\n",
      "    \n"
     ]
    },
    {
     "name": "stderr",
     "output_type": "stream",
     "text": [
      "Epoch 1, global step 21: val_loss reached 0.84176 (best 0.84176), saving model to \"/dli/task/nemo_experiments/TextClassification/2024-03-04_03-04-35/checkpoints/TextClassification--val_loss=0.84-epoch=1.ckpt\" as top 3\n"
     ]
    },
    {
     "data": {
      "application/vnd.jupyter.widget-view+json": {
       "model_id": "",
       "version_major": 2,
       "version_minor": 0
      },
      "text/plain": [
       "Validating: 0it [00:00, ?it/s]"
      ]
     },
     "metadata": {},
     "output_type": "display_data"
    },
    {
     "name": "stdout",
     "output_type": "stream",
     "text": [
      "[NeMo I 2024-03-04 03:05:12 text_classification_model:165] val_report: \n",
      "    label                                                precision    recall       f1           support   \n",
      "    label_id: 0                                             87.10      84.38      85.71         32\n",
      "    label_id: 1                                            100.00      20.83      34.48         24\n",
      "    label_id: 2                                             64.06      93.18      75.93         44\n",
      "    -------------------\n",
      "    micro avg                                               73.00      73.00      73.00        100\n",
      "    macro avg                                               83.72      66.13      65.37        100\n",
      "    weighted avg                                            80.06      73.00      69.11        100\n",
      "    \n"
     ]
    },
    {
     "name": "stderr",
     "output_type": "stream",
     "text": [
      "Epoch 2, global step 32: val_loss reached 0.65560 (best 0.65560), saving model to \"/dli/task/nemo_experiments/TextClassification/2024-03-04_03-04-35/checkpoints/TextClassification--val_loss=0.66-epoch=2.ckpt\" as top 3\n"
     ]
    },
    {
     "data": {
      "application/vnd.jupyter.widget-view+json": {
       "model_id": "",
       "version_major": 2,
       "version_minor": 0
      },
      "text/plain": [
       "Validating: 0it [00:00, ?it/s]"
      ]
     },
     "metadata": {},
     "output_type": "display_data"
    },
    {
     "name": "stdout",
     "output_type": "stream",
     "text": [
      "[NeMo I 2024-03-04 03:05:19 text_classification_model:165] val_report: \n",
      "    label                                                precision    recall       f1           support   \n",
      "    label_id: 0                                             87.88      90.62      89.23         32\n",
      "    label_id: 1                                            100.00      37.50      54.55         24\n",
      "    label_id: 2                                             70.69      93.18      80.39         44\n",
      "    -------------------\n",
      "    micro avg                                               79.00      79.00      79.00        100\n",
      "    macro avg                                               86.19      73.77      74.72        100\n",
      "    weighted avg                                            83.22      79.00      77.02        100\n",
      "    \n"
     ]
    },
    {
     "name": "stderr",
     "output_type": "stream",
     "text": [
      "Epoch 3, global step 43: val_loss reached 0.58203 (best 0.58203), saving model to \"/dli/task/nemo_experiments/TextClassification/2024-03-04_03-04-35/checkpoints/TextClassification--val_loss=0.58-epoch=3.ckpt\" as top 3\n"
     ]
    },
    {
     "data": {
      "application/vnd.jupyter.widget-view+json": {
       "model_id": "",
       "version_major": 2,
       "version_minor": 0
      },
      "text/plain": [
       "Validating: 0it [00:00, ?it/s]"
      ]
     },
     "metadata": {},
     "output_type": "display_data"
    },
    {
     "name": "stdout",
     "output_type": "stream",
     "text": [
      "[NeMo I 2024-03-04 03:05:26 text_classification_model:165] val_report: \n",
      "    label                                                precision    recall       f1           support   \n",
      "    label_id: 0                                             87.88      90.62      89.23         32\n",
      "    label_id: 1                                             88.24      62.50      73.17         24\n",
      "    label_id: 2                                             78.00      88.64      82.98         44\n",
      "    -------------------\n",
      "    micro avg                                               83.00      83.00      83.00        100\n",
      "    macro avg                                               84.70      80.59      81.79        100\n",
      "    weighted avg                                            83.62      83.00      82.63        100\n",
      "    \n"
     ]
    },
    {
     "name": "stderr",
     "output_type": "stream",
     "text": [
      "Epoch 4, global step 54: val_loss reached 0.55868 (best 0.55868), saving model to \"/dli/task/nemo_experiments/TextClassification/2024-03-04_03-04-35/checkpoints/TextClassification--val_loss=0.56-epoch=4.ckpt\" as top 3\n",
      "Saving latest checkpoint...\n",
      "[NeMo W 2024-03-04 03:05:30 nemo_logging:349] /opt/conda/lib/python3.8/site-packages/nemo/core/classes/modelPT.py:308: UserWarning: update_node() is deprecated, use OmegaConf.update(). (Since 2.0)\n",
      "      conf.update_node(conf_path, item.path)\n",
      "    \n"
     ]
    },
    {
     "name": "stdout",
     "output_type": "stream",
     "text": [
      "CPU times: user 1min 2s, sys: 16.7 s, total: 1min 19s\n",
      "Wall time: 1min 26s\n"
     ]
    }
   ],
   "source": [
    "%%time\n",
    "# start model training and save result\n",
    "# The training takes about 3 minutes to run\n",
    "trainer.fit(model)\n",
    "model.save_to(config.model.nemo_path)"
   ]
  },
  {
   "cell_type": "markdown",
   "metadata": {
    "id": "dIf35SABhN9n"
   },
   "source": [
    "`config` 에서 업데이트한 테스트 세트의 파일 경로를 자동으로 사용하는 `trainer.test`으로 모델을 평가합니다. "
   ]
  },
  {
   "cell_type": "code",
   "execution_count": 7,
   "metadata": {
    "id": "QEtIdj4LhN9n"
   },
   "outputs": [
    {
     "name": "stderr",
     "output_type": "stream",
     "text": [
      "LOCAL_RANK: 0 - CUDA_VISIBLE_DEVICES: [0]\n"
     ]
    },
    {
     "data": {
      "application/vnd.jupyter.widget-view+json": {
       "model_id": "6656408ad2c34e3ab854fe0a6e360a96",
       "version_major": 2,
       "version_minor": 0
      },
      "text/plain": [
       "Testing: 0it [00:00, ?it/s]"
      ]
     },
     "metadata": {},
     "output_type": "display_data"
    },
    {
     "name": "stdout",
     "output_type": "stream",
     "text": [
      "[NeMo I 2024-03-04 03:07:14 text_classification_model:165] test_report: \n",
      "    label                                                precision    recall       f1           support   \n",
      "    label_id: 0                                             75.00      75.00      75.00          4\n",
      "    label_id: 1                                            100.00     100.00     100.00          2\n",
      "    label_id: 2                                             75.00      75.00      75.00          4\n",
      "    -------------------\n",
      "    micro avg                                               80.00      80.00      80.00         10\n",
      "    macro avg                                               83.33      83.33      83.33         10\n",
      "    weighted avg                                            80.00      80.00      80.00         10\n",
      "    \n"
     ]
    },
    {
     "data": {
      "text/plain": [
       "[{'test_loss': 0.725864052772522,\n",
       "  'test_precision': 79.99999237060547,\n",
       "  'test_f1': 79.99999237060547,\n",
       "  'test_recall': 79.99999237060547}]"
      ]
     },
     "execution_count": 7,
     "metadata": {},
     "output_type": "execute_result"
    }
   ],
   "source": [
    "trainer.test(model=model, verbose=False)"
   ]
  },
  {
   "cell_type": "markdown",
   "metadata": {
    "id": "wBPFv1_6hN9n"
   },
   "source": [
    "마지막으로, `config`로 부터 추론 샘플을 활용하여 추론을 실행합니다. 우리는 `config.model.infer_samples` 키 오브젝트에서 직접 프린트를 통해 확인할 수 있습니다. 이 값은 문자열 목록으로 표시됩니다.\n",
    "\n",
    "추론 또는 텍스트 분류를 실행하려면 `model.classifytext` 방법을 사용하십시오.추론된 라벨이 출력값으로 표시됩니다."
   ]
  },
  {
   "cell_type": "code",
   "execution_count": 8,
   "metadata": {
    "id": "a_R6jukThN9o",
    "tags": []
   },
   "outputs": [
    {
     "name": "stdout",
     "output_type": "stream",
     "text": [
      "['Germline mutations in BRCA1 are responsible for most cases of inherited breast and ovarian cancer ', 'The first predictive testing for Huntington disease  was based on analysis of linked polymorphic DNA markers to estimate the likelihood of inheriting the mutation for HD', 'Further studies suggested that low dilutions of C5D serum contain a factor or factors interfering at some step in the hemolytic assay of C5 rather than a true C5 inhibitor or inactivator']\n"
     ]
    }
   ],
   "source": [
    "print(config.model.infer_samples)"
   ]
  },
  {
   "cell_type": "code",
   "execution_count": 9,
   "metadata": {
    "id": "0TmhG7GdhN9o"
   },
   "outputs": [
    {
     "data": {
      "text/plain": [
       "[0, 1, 2]"
      ]
     },
     "execution_count": 9,
     "metadata": {},
     "output_type": "execute_result"
    }
   ],
   "source": [
    "model.classifytext(queries=config.model.infer_samples, batch_size=64, max_seq_length=128)"
   ]
  },
  {
   "cell_type": "markdown",
   "metadata": {
    "id": "6XzX6CSqhN9o"
   },
   "source": [
    "## 2.3.3 예제: 모델 질의하기\n",
    "만약 추론을 위한 추가 쿼리를 지정하려고 하는 경우에는 어떻게 해야할까요? 방금 실습에 활용한 `model.classifytext` 메소드는 쿼리를 지정하지만 해당 쿼리는  구성 파일에 있지 _않아야_ 합니다. 우리는 간단히 우리가 원하는 질의에 대한 문자열 목록을 만들 수 있습니다. "
   ]
  },
  {
   "cell_type": "code",
   "execution_count": 10,
   "metadata": {
    "id": "sfs1ffl1hN9s"
   },
   "outputs": [],
   "source": [
    "my_queries = [\n",
    "    'Occasional missense mutations in ATM were also found in tumour DNA from patients with B-cell non-Hodgkins lymphomas.',\n",
    "    'Myotonic dystrophy protein kinase is involved in the modulation of the Ca2+ homeostasis in skeletal muscle cells.',\n",
    "    'Constitutional RB1-gene mutations in patients with isolated unilateral retinoblastoma.',\n",
    "    'Hereditary deficiency of the fifth component of complement in man. I. Clinical, immunochemical, and family studies.'\n",
    "]"
   ]
  },
  {
   "cell_type": "markdown",
   "metadata": {
    "id": "WsZFAowNhN9t"
   },
   "source": [
    "`my_queries` 리스트에 있는 추론을 실행해 보세요. 실습에 어려움이 있는 경우, 다음[솔루션](solutions/ex2.3.3.ipynb)을 확인해 보세요."
   ]
  },
  {
   "cell_type": "code",
   "execution_count": 11,
   "metadata": {
    "id": "8mjbt0QGhN9t"
   },
   "outputs": [
    {
     "data": {
      "text/plain": [
       "[0, 1, 2, 2]"
      ]
     },
     "execution_count": 11,
     "metadata": {},
     "output_type": "execute_result"
    }
   ],
   "source": [
    "# TODO Run inference over the my_queries list\n",
    "model.classifytext(queries=my_queries, batch_size=16, max_seq_length=64)"
   ]
  },
  {
   "cell_type": "markdown",
   "metadata": {
    "id": "9X6M5TT1hN9t"
   },
   "source": [
    "---\n",
    "<h2 style=\"color:green;\">축하합니다!</h2>\n",
    "\n",
    "여러분은 3개의 클래스로 구성된 텍스트 분류기를 만들고 다음을 배웠습니다 :\n",
    "* NeMo NLP 모델 구성 파일과 스크립트를 사용하여 빠르게 실험을 만드는 방법\n",
    "* 환경 구성에 필요한 `model`, `trainer`, `exp_manager settings` 을 재정의 하는 방법\n",
    "* 단일 커맨드 라인을 활용하여 텍스트 분류자를 트레이닝, 평가, 추론하는 방법\n",
    "* PyTorch Lightning을 활용하여 텍스트 분류자를 트레이닝, 평가, 추론하는 방법\n",
    "\n",
    "이제 다른 NLP 작업을 시도할 준비가 되었습니다.<br>\n",
    "\n",
    "[3.0 명명된 엔티티 인식기 구축하기](030_NamedEntityRecognition.ipynb) 으로 이동합니다."
   ]
  },
  {
   "cell_type": "markdown",
   "metadata": {
    "id": "S3KkzQ0yhN9u"
   },
   "source": [
    "<a href=\"https://www.nvidia.com/dli\"> <img src=\"images/DLI_Header.png\" alt=\"Header\" style=\"width: 400px;\"/> </a>"
   ]
  }
 ],
 "metadata": {
  "colab": {
   "collapsed_sections": [],
   "name": "020_TextClassification.ipynb",
   "provenance": []
  },
  "kernelspec": {
   "display_name": "Python 3",
   "language": "python",
   "name": "python3"
  },
  "language_info": {
   "codemirror_mode": {
    "name": "ipython",
    "version": 3
   },
   "file_extension": ".py",
   "mimetype": "text/x-python",
   "name": "python",
   "nbconvert_exporter": "python",
   "pygments_lexer": "ipython3",
   "version": "3.8.8"
  }
 },
 "nbformat": 4,
 "nbformat_minor": 4
}
